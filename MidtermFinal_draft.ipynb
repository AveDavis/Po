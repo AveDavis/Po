{
 "cells": [
  {
   "cell_type": "markdown",
   "id": "4dfc34f8",
   "metadata": {},
   "source": [
    "# Midterm \n",
    "- Predict Galaxy/Star using Classification algorithms\n",
    "- Our data comes from the <a href=\"https://www.kaggle.com/datasets/fedesoriano/stellar-classification-dataset-sdss17\" target=\"_blank\"> Stellar Classification Data set </a> witch contains stars, galaxies, and quasars based on their spectral characteristics."
   ]
  },
  {
   "cell_type": "markdown",
   "id": "f79f2239",
   "metadata": {},
   "source": [
    "## Prepare Workspace:"
   ]
  },
  {
   "cell_type": "code",
   "execution_count": 1,
   "id": "915c56fd",
   "metadata": {},
   "outputs": [
    {
     "name": "stdout",
     "output_type": "stream",
     "text": [
      "Requirement already satisfied: statsmodels in c:\\users\\asus1\\anaconda3\\lib\\site-packages (0.13.2)Note: you may need to restart the kernel to use updated packages.\n",
      "\n",
      "Requirement already satisfied: sklearn in c:\\users\\asus1\\anaconda3\\lib\\site-packages (0.0)\n",
      "Requirement already satisfied: numpy>=1.17 in c:\\users\\asus1\\anaconda3\\lib\\site-packages (from statsmodels) (1.21.5)\n",
      "Requirement already satisfied: scipy>=1.3 in c:\\users\\asus1\\anaconda3\\lib\\site-packages (from statsmodels) (1.7.3)\n",
      "Requirement already satisfied: pandas>=0.25 in c:\\users\\asus1\\anaconda3\\lib\\site-packages (from statsmodels) (1.4.2)\n",
      "Requirement already satisfied: patsy>=0.5.2 in c:\\users\\asus1\\anaconda3\\lib\\site-packages (from statsmodels) (0.5.2)\n",
      "Requirement already satisfied: packaging>=21.3 in c:\\users\\asus1\\anaconda3\\lib\\site-packages (from statsmodels) (21.3)\n",
      "Requirement already satisfied: scikit-learn in c:\\users\\asus1\\anaconda3\\lib\\site-packages (from sklearn) (1.0.2)\n",
      "Requirement already satisfied: pyparsing!=3.0.5,>=2.0.2 in c:\\users\\asus1\\anaconda3\\lib\\site-packages (from packaging>=21.3->statsmodels) (3.0.4)\n",
      "Requirement already satisfied: pytz>=2020.1 in c:\\users\\asus1\\anaconda3\\lib\\site-packages (from pandas>=0.25->statsmodels) (2021.3)\n",
      "Requirement already satisfied: python-dateutil>=2.8.1 in c:\\users\\asus1\\anaconda3\\lib\\site-packages (from pandas>=0.25->statsmodels) (2.8.2)\n",
      "Requirement already satisfied: six in c:\\users\\asus1\\anaconda3\\lib\\site-packages (from patsy>=0.5.2->statsmodels) (1.16.0)\n",
      "Requirement already satisfied: joblib>=0.11 in c:\\users\\asus1\\anaconda3\\lib\\site-packages (from scikit-learn->sklearn) (1.1.0)\n",
      "Requirement already satisfied: threadpoolctl>=2.0.0 in c:\\users\\asus1\\anaconda3\\lib\\site-packages (from scikit-learn->sklearn) (2.2.0)\n"
     ]
    }
   ],
   "source": [
    "pip install statsmodels sklearn"
   ]
  },
  {
   "cell_type": "code",
   "execution_count": 2,
   "id": "89db2135",
   "metadata": {},
   "outputs": [
    {
     "name": "stdout",
     "output_type": "stream",
     "text": [
      "Requirement already satisfied: pypi in c:\\users\\asus1\\anaconda3\\lib\\site-packages (2.1)Note: you may need to restart the kernel to use updated packages.\n",
      "\n"
     ]
    }
   ],
   "source": [
    "pip install pypi"
   ]
  },
  {
   "cell_type": "code",
   "execution_count": 3,
   "id": "6836ad78",
   "metadata": {},
   "outputs": [],
   "source": [
    "import numpy as np\n",
    "import matplotlib.pyplot as plt\n",
    "import pandas as pd \n",
    "import math\n",
    "import seaborn as sns\n",
    "import warnings\n",
    "from patsy import dmatrices\n",
    "import statsmodels.discrete.discrete_model as sm\n",
    "import statsmodels.formula.api as smf\n",
    "import statsmodels.api as sma\n",
    "from statsmodels.graphics.regressionplots import *\n",
    "from sklearn import datasets, linear_model\n",
    "from sklearn.metrics import confusion_matrix\n",
    "from sklearn.discriminant_analysis import LinearDiscriminantAnalysis as LDA\n",
    "from sklearn.discriminant_analysis import QuadraticDiscriminantAnalysis as QDA\n",
    "from sklearn.naive_bayes import GaussianNB as NB\n",
    "from sklearn.neighbors import KNeighborsClassifier as KNN\n",
    "from sklearn import preprocessing\n",
    "from sklearn.model_selection import StratifiedShuffleSplit\n",
    "from sklearn.metrics import roc_auc_score,accuracy_score,roc_curve\n",
    "from sklearn.decomposition import PCA \n",
    "from sklearn.cross_decomposition import PLSRegression, PLSSVD\n",
    "from sklearn.preprocessing import StandardScaler, scale \n",
    "from sklearn import linear_model \n",
    "from sklearn.model_selection import cross_val_predict \n",
    "from sklearn.metrics import mean_squared_error, r2_score\n",
    "from sklearn.model_selection import train_test_split\n",
    "from sklearn.linear_model import Ridge, RidgeCV, Lasso, LassoCV\n",
    "from sklearn.neighbors import LocalOutlierFactor\n",
    "from statsmodels.stats.outliers_influence import variance_inflation_factor\n",
    "from sklearn.linear_model import LogisticRegression\n",
    "from sklearn.model_selection import RepeatedKFold\n",
    "from sklearn.model_selection import RepeatedStratifiedKFold\n",
    "from sklearn.model_selection import KFold, cross_val_score\n",
    "from sklearn.linear_model import LogisticRegressionCV\n",
    "from yellowbrick.classifier import ConfusionMatrix\n",
    "from yellowbrick.classifier import ROCAUC\n",
    "from sklearn.model_selection import GridSearchCV\n",
    "from numpy.linalg import svd\n",
    "from sklearn.metrics import ConfusionMatrixDisplay"
   ]
  },
  {
   "cell_type": "code",
   "execution_count": 4,
   "id": "a183ceea",
   "metadata": {},
   "outputs": [],
   "source": [
    "warnings.filterwarnings('ignore')"
   ]
  },
  {
   "cell_type": "markdown",
   "id": "d28ac2fc",
   "metadata": {},
   "source": [
    "## Import data/ Check data: "
   ]
  },
  {
   "cell_type": "code",
   "execution_count": 17,
   "id": "f2d413f3",
   "metadata": {},
   "outputs": [],
   "source": [
    "dfo=pd.read_csv('star_classification.csv')"
   ]
  },
  {
   "cell_type": "code",
   "execution_count": 6,
   "id": "8fb498c1",
   "metadata": {},
   "outputs": [
    {
     "data": {
      "text/html": [
       "<div>\n",
       "<style scoped>\n",
       "    .dataframe tbody tr th:only-of-type {\n",
       "        vertical-align: middle;\n",
       "    }\n",
       "\n",
       "    .dataframe tbody tr th {\n",
       "        vertical-align: top;\n",
       "    }\n",
       "\n",
       "    .dataframe thead th {\n",
       "        text-align: right;\n",
       "    }\n",
       "</style>\n",
       "<table border=\"1\" class=\"dataframe\">\n",
       "  <thead>\n",
       "    <tr style=\"text-align: right;\">\n",
       "      <th></th>\n",
       "      <th>obj_ID</th>\n",
       "      <th>alpha</th>\n",
       "      <th>delta</th>\n",
       "      <th>u</th>\n",
       "      <th>g</th>\n",
       "      <th>r</th>\n",
       "      <th>i</th>\n",
       "      <th>z</th>\n",
       "      <th>run_ID</th>\n",
       "      <th>rerun_ID</th>\n",
       "      <th>cam_col</th>\n",
       "      <th>field_ID</th>\n",
       "      <th>spec_obj_ID</th>\n",
       "      <th>class</th>\n",
       "      <th>redshift</th>\n",
       "      <th>plate</th>\n",
       "      <th>MJD</th>\n",
       "      <th>fiber_ID</th>\n",
       "    </tr>\n",
       "  </thead>\n",
       "  <tbody>\n",
       "    <tr>\n",
       "      <th>0</th>\n",
       "      <td>1.237661e+18</td>\n",
       "      <td>135.689107</td>\n",
       "      <td>32.494632</td>\n",
       "      <td>23.87882</td>\n",
       "      <td>22.27530</td>\n",
       "      <td>20.39501</td>\n",
       "      <td>19.16573</td>\n",
       "      <td>18.79371</td>\n",
       "      <td>3606</td>\n",
       "      <td>301</td>\n",
       "      <td>2</td>\n",
       "      <td>79</td>\n",
       "      <td>6.543777e+18</td>\n",
       "      <td>GALAXY</td>\n",
       "      <td>0.634794</td>\n",
       "      <td>5812</td>\n",
       "      <td>56354</td>\n",
       "      <td>171</td>\n",
       "    </tr>\n",
       "    <tr>\n",
       "      <th>1</th>\n",
       "      <td>1.237665e+18</td>\n",
       "      <td>144.826101</td>\n",
       "      <td>31.274185</td>\n",
       "      <td>24.77759</td>\n",
       "      <td>22.83188</td>\n",
       "      <td>22.58444</td>\n",
       "      <td>21.16812</td>\n",
       "      <td>21.61427</td>\n",
       "      <td>4518</td>\n",
       "      <td>301</td>\n",
       "      <td>5</td>\n",
       "      <td>119</td>\n",
       "      <td>1.176014e+19</td>\n",
       "      <td>GALAXY</td>\n",
       "      <td>0.779136</td>\n",
       "      <td>10445</td>\n",
       "      <td>58158</td>\n",
       "      <td>427</td>\n",
       "    </tr>\n",
       "    <tr>\n",
       "      <th>2</th>\n",
       "      <td>1.237661e+18</td>\n",
       "      <td>142.188790</td>\n",
       "      <td>35.582444</td>\n",
       "      <td>25.26307</td>\n",
       "      <td>22.66389</td>\n",
       "      <td>20.60976</td>\n",
       "      <td>19.34857</td>\n",
       "      <td>18.94827</td>\n",
       "      <td>3606</td>\n",
       "      <td>301</td>\n",
       "      <td>2</td>\n",
       "      <td>120</td>\n",
       "      <td>5.152200e+18</td>\n",
       "      <td>GALAXY</td>\n",
       "      <td>0.644195</td>\n",
       "      <td>4576</td>\n",
       "      <td>55592</td>\n",
       "      <td>299</td>\n",
       "    </tr>\n",
       "    <tr>\n",
       "      <th>3</th>\n",
       "      <td>1.237663e+18</td>\n",
       "      <td>338.741038</td>\n",
       "      <td>-0.402828</td>\n",
       "      <td>22.13682</td>\n",
       "      <td>23.77656</td>\n",
       "      <td>21.61162</td>\n",
       "      <td>20.50454</td>\n",
       "      <td>19.25010</td>\n",
       "      <td>4192</td>\n",
       "      <td>301</td>\n",
       "      <td>3</td>\n",
       "      <td>214</td>\n",
       "      <td>1.030107e+19</td>\n",
       "      <td>GALAXY</td>\n",
       "      <td>0.932346</td>\n",
       "      <td>9149</td>\n",
       "      <td>58039</td>\n",
       "      <td>775</td>\n",
       "    </tr>\n",
       "    <tr>\n",
       "      <th>4</th>\n",
       "      <td>1.237680e+18</td>\n",
       "      <td>345.282593</td>\n",
       "      <td>21.183866</td>\n",
       "      <td>19.43718</td>\n",
       "      <td>17.58028</td>\n",
       "      <td>16.49747</td>\n",
       "      <td>15.97711</td>\n",
       "      <td>15.54461</td>\n",
       "      <td>8102</td>\n",
       "      <td>301</td>\n",
       "      <td>3</td>\n",
       "      <td>137</td>\n",
       "      <td>6.891865e+18</td>\n",
       "      <td>GALAXY</td>\n",
       "      <td>0.116123</td>\n",
       "      <td>6121</td>\n",
       "      <td>56187</td>\n",
       "      <td>842</td>\n",
       "    </tr>\n",
       "  </tbody>\n",
       "</table>\n",
       "</div>"
      ],
      "text/plain": [
       "         obj_ID       alpha      delta         u         g         r  \\\n",
       "0  1.237661e+18  135.689107  32.494632  23.87882  22.27530  20.39501   \n",
       "1  1.237665e+18  144.826101  31.274185  24.77759  22.83188  22.58444   \n",
       "2  1.237661e+18  142.188790  35.582444  25.26307  22.66389  20.60976   \n",
       "3  1.237663e+18  338.741038  -0.402828  22.13682  23.77656  21.61162   \n",
       "4  1.237680e+18  345.282593  21.183866  19.43718  17.58028  16.49747   \n",
       "\n",
       "          i         z  run_ID  rerun_ID  cam_col  field_ID   spec_obj_ID  \\\n",
       "0  19.16573  18.79371    3606       301        2        79  6.543777e+18   \n",
       "1  21.16812  21.61427    4518       301        5       119  1.176014e+19   \n",
       "2  19.34857  18.94827    3606       301        2       120  5.152200e+18   \n",
       "3  20.50454  19.25010    4192       301        3       214  1.030107e+19   \n",
       "4  15.97711  15.54461    8102       301        3       137  6.891865e+18   \n",
       "\n",
       "    class  redshift  plate    MJD  fiber_ID  \n",
       "0  GALAXY  0.634794   5812  56354       171  \n",
       "1  GALAXY  0.779136  10445  58158       427  \n",
       "2  GALAXY  0.644195   4576  55592       299  \n",
       "3  GALAXY  0.932346   9149  58039       775  \n",
       "4  GALAXY  0.116123   6121  56187       842  "
      ]
     },
     "execution_count": 6,
     "metadata": {},
     "output_type": "execute_result"
    }
   ],
   "source": [
    "dfo.head()"
   ]
  },
  {
   "cell_type": "code",
   "execution_count": 7,
   "id": "0925a39a",
   "metadata": {},
   "outputs": [
    {
     "name": "stdout",
     "output_type": "stream",
     "text": [
      "False\n"
     ]
    }
   ],
   "source": [
    "##Check for missing data \n",
    "# uses a boolean statment to check for missing data \n",
    "print(dfo.isnull().values.any())"
   ]
  },
  {
   "cell_type": "code",
   "execution_count": 8,
   "id": "5b8861e5",
   "metadata": {},
   "outputs": [
    {
     "name": "stdout",
     "output_type": "stream",
     "text": [
      "<class 'pandas.core.frame.DataFrame'>\n",
      "RangeIndex: 100000 entries, 0 to 99999\n",
      "Data columns (total 18 columns):\n",
      " #   Column       Non-Null Count   Dtype  \n",
      "---  ------       --------------   -----  \n",
      " 0   obj_ID       100000 non-null  float64\n",
      " 1   alpha        100000 non-null  float64\n",
      " 2   delta        100000 non-null  float64\n",
      " 3   u            100000 non-null  float64\n",
      " 4   g            100000 non-null  float64\n",
      " 5   r            100000 non-null  float64\n",
      " 6   i            100000 non-null  float64\n",
      " 7   z            100000 non-null  float64\n",
      " 8   run_ID       100000 non-null  int64  \n",
      " 9   rerun_ID     100000 non-null  int64  \n",
      " 10  cam_col      100000 non-null  int64  \n",
      " 11  field_ID     100000 non-null  int64  \n",
      " 12  spec_obj_ID  100000 non-null  float64\n",
      " 13  class        100000 non-null  object \n",
      " 14  redshift     100000 non-null  float64\n",
      " 15  plate        100000 non-null  int64  \n",
      " 16  MJD          100000 non-null  int64  \n",
      " 17  fiber_ID     100000 non-null  int64  \n",
      "dtypes: float64(10), int64(7), object(1)\n",
      "memory usage: 13.7+ MB\n"
     ]
    }
   ],
   "source": [
    "##Check for missing data \n",
    "dfo.info()"
   ]
  },
  {
   "cell_type": "code",
   "execution_count": 9,
   "id": "dae4dcae",
   "metadata": {},
   "outputs": [
    {
     "data": {
      "text/plain": [
       "GALAXY    59445\n",
       "STAR      21594\n",
       "QSO       18961\n",
       "Name: class, dtype: int64"
      ]
     },
     "execution_count": 9,
     "metadata": {},
     "output_type": "execute_result"
    }
   ],
   "source": [
    "#number of observations for each class \n",
    "dfo['class'].value_counts()"
   ]
  },
  {
   "cell_type": "code",
   "execution_count": 10,
   "id": "cd5af78c-70f7-4dce-a908-d6b044224cec",
   "metadata": {},
   "outputs": [
    {
     "data": {
      "text/plain": [
       "'\\nHere we checked for missing data and then looked at how many observations were in each class. There are 59445 observations for galazy,\\n21594 for star and 18961 for quasar.\\n'"
      ]
     },
     "execution_count": 10,
     "metadata": {},
     "output_type": "execute_result"
    }
   ],
   "source": [
    "\"\"\"\n",
    "Here we checked for missing data and then looked at how many observations were in each class. There are 59445 observations for galazy,\n",
    "21594 for star and 18961 for quasar.\n",
    "\"\"\""
   ]
  },
  {
   "cell_type": "markdown",
   "id": "c49076d6",
   "metadata": {},
   "source": [
    "## Data Exploration and Visualization: \n",
    "<a href=\"https://www.kaggle.com/datasets/fedesoriano/stellar-classification-dataset-sdss17\" target=\"_blank\"> Stellar Classification Dataset SDSS17 from kaggel</a> \n",
    "\n",
    "**Got some information on the data and Astronomy:**\n",
    "- <a href=\"https://www.sdss.org/dr12/spectro/spectro_basics/\" target=\"_blank\"> Understanding SDSS spectroscopic data </a> \n",
    "- https://www.atnf.csiro.au/outreach/education/senior/astrophysics/spectra_astro_types.html\n",
    "- https://www.aanda.org/articles/aa/full_html/2021/01/aa38986-20/aa38986-20.html\n",
    "\n",
    "\n",
    "### **Feature Infomation**:\n",
    "\n",
    "\n",
    "`spec_obj_ID` = Unique ID used for optical spectroscopic objects (this means that 2 different observations with  the same spec_obj_ID must share the output class)\n",
    "\n",
    "`obj_ID` = Object Identifier, the unique value that identifies the object in the image catalog used by the CAS\n",
    "\n",
    "**location in the sky** \n",
    "\n",
    "`alpha` = Right Ascension angle (at J2000 epoch)\n",
    "\n",
    "`delta` = Declination angle (at J2000 epoch)\n",
    "\n",
    "**The spectra** \n",
    "\n",
    "`u` = Ultraviolet filter in the photometric system\n",
    "\n",
    "`g` = Green filter in the photometric system\n",
    "\n",
    "`r` = Red filter in the photometric system\n",
    "\n",
    "`i` = Near Infrared filter in the photometric system\n",
    "\n",
    "`z` = Infrared filter in the photometric system\n",
    "\n",
    "`redshift` = redshift value based on the increase in wavelength\n",
    "\n",
    "**Image collection Information** \n",
    "\n",
    "`run_ID` = Run Number used to identify the specific scan\n",
    "\n",
    "`rereun_ID` = Rerun Number to specify how the image was processed\n",
    "\n",
    "`cam_col` = Camera column to identify the scanline within the run\n",
    "\n",
    "`field_ID` = Field number to identify each field\n",
    "\n",
    "`plate` = plate ID, identifies each plate in SDSS, Integer that idicating what plate was used to take the image.\n",
    "\n",
    "`MJD` = Modified Julian Date, used to indicate when a given piece of SDSS data was taken. \n",
    "\n",
    "`fiber_ID` = fiber ID that identifies the fiber that pointed the light at the focal plane in each observation\n",
    "\n",
    "\n",
    "\n",
    "**Target variable**\n",
    "\n",
    "\n",
    "`class` = object class (galaxy, star or quasar object)"
   ]
  },
  {
   "cell_type": "code",
   "execution_count": 11,
   "id": "3495fa14",
   "metadata": {},
   "outputs": [],
   "source": [
    "#create a data frame for visualizations based on dfo \n",
    "# needed some data that wasnt scaled \n",
    "\n",
    "dummy = pd.get_dummies(dfo['class'], prefix='class')\n",
    "\n",
    "# add new dataframe to the existing one \n",
    "dfo = dfo.join(pd.DataFrame(\n",
    "    {\n",
    "        'Galaxy': dummy[\"class_GALAXY\"],\n",
    "        'Quasar': dummy[\"class_QSO\"],\n",
    "        'Star': dummy['class_STAR']\n",
    "    }, index=dfo.index\n",
    "))\n",
    "dfv= dfo[dfo['Quasar'] == 0] #new data set for visulaizations"
   ]
  },
  {
   "cell_type": "code",
   "execution_count": 12,
   "id": "2884936d",
   "metadata": {},
   "outputs": [],
   "source": [
    "dfv = dfv.drop(columns=['class', 'Quasar', 'rerun_ID', 'obj_ID', 'Star'])\n",
    "# Drop un-necesary columns (reasoning is writen below) \n",
    "\n",
    "# class is non-numerical and has been converted into dummys \n",
    "# Quasar is no longer needed for our classification problem \n",
    "# rerun_ID contains no usefull information(see orginal data )\n",
    "# obj_ID is an indexing feature with no relevent information \n",
    "# Star contains the same information as Galaxy  "
   ]
  },
  {
   "cell_type": "code",
   "execution_count": 13,
   "id": "831bb9ac",
   "metadata": {},
   "outputs": [],
   "source": [
    "#reset df index and view the df \n",
    "dfv = dfv.reset_index(drop=True)"
   ]
  },
  {
   "cell_type": "code",
   "execution_count": 14,
   "id": "20df10cc",
   "metadata": {},
   "outputs": [],
   "source": [
    "# Split the data because some of the plots where taking a very long time to load \n",
    "\n",
    "from sklearn.model_selection import StratifiedShuffleSplit\n",
    "\n",
    "split = StratifiedShuffleSplit(n_splits=1, test_size=0.1,random_state=1)\n",
    "for train_indices, test_indices in split.split(dfv,dfv['Galaxy']):\n",
    "    train_vis = dfv.loc[train_indices]\n",
    "    test_vis = dfv.loc[test_indices]"
   ]
  },
  {
   "cell_type": "code",
   "execution_count": 13,
   "id": "bc7b018c",
   "metadata": {},
   "outputs": [
    {
     "data": {
      "text/html": [
       "<div>\n",
       "<style scoped>\n",
       "    .dataframe tbody tr th:only-of-type {\n",
       "        vertical-align: middle;\n",
       "    }\n",
       "\n",
       "    .dataframe tbody tr th {\n",
       "        vertical-align: top;\n",
       "    }\n",
       "\n",
       "    .dataframe thead th {\n",
       "        text-align: right;\n",
       "    }\n",
       "</style>\n",
       "<table border=\"1\" class=\"dataframe\">\n",
       "  <thead>\n",
       "    <tr style=\"text-align: right;\">\n",
       "      <th></th>\n",
       "      <th>alpha</th>\n",
       "      <th>delta</th>\n",
       "      <th>u</th>\n",
       "      <th>g</th>\n",
       "      <th>r</th>\n",
       "      <th>i</th>\n",
       "      <th>z</th>\n",
       "      <th>run_ID</th>\n",
       "      <th>cam_col</th>\n",
       "      <th>field_ID</th>\n",
       "      <th>spec_obj_ID</th>\n",
       "      <th>redshift</th>\n",
       "      <th>plate</th>\n",
       "      <th>MJD</th>\n",
       "      <th>fiber_ID</th>\n",
       "      <th>Galaxy</th>\n",
       "    </tr>\n",
       "  </thead>\n",
       "  <tbody>\n",
       "    <tr>\n",
       "      <th>count</th>\n",
       "      <td>72935.000000</td>\n",
       "      <td>72935.000000</td>\n",
       "      <td>72935.000000</td>\n",
       "      <td>72935.000000</td>\n",
       "      <td>72935.000000</td>\n",
       "      <td>72935.000000</td>\n",
       "      <td>72935.000000</td>\n",
       "      <td>72935.000000</td>\n",
       "      <td>72935.000000</td>\n",
       "      <td>72935.000000</td>\n",
       "      <td>7.293500e+04</td>\n",
       "      <td>72935.000000</td>\n",
       "      <td>72935.000000</td>\n",
       "      <td>72935.000000</td>\n",
       "      <td>72935.000000</td>\n",
       "      <td>72935.000000</td>\n",
       "    </tr>\n",
       "    <tr>\n",
       "      <th>mean</th>\n",
       "      <td>176.771118</td>\n",
       "      <td>23.521101</td>\n",
       "      <td>22.203748</td>\n",
       "      <td>20.561773</td>\n",
       "      <td>19.416201</td>\n",
       "      <td>18.769067</td>\n",
       "      <td>18.418036</td>\n",
       "      <td>4457.201974</td>\n",
       "      <td>3.509742</td>\n",
       "      <td>188.242024</td>\n",
       "      <td>5.306493e+18</td>\n",
       "      <td>0.309068</td>\n",
       "      <td>4713.004826</td>\n",
       "      <td>55344.462000</td>\n",
       "      <td>439.424433</td>\n",
       "      <td>0.733530</td>\n",
       "    </tr>\n",
       "    <tr>\n",
       "      <th>std</th>\n",
       "      <td>95.896563</td>\n",
       "      <td>19.625232</td>\n",
       "      <td>2.375078</td>\n",
       "      <td>2.186032</td>\n",
       "      <td>1.922178</td>\n",
       "      <td>1.737690</td>\n",
       "      <td>1.709913</td>\n",
       "      <td>1951.368978</td>\n",
       "      <td>1.590778</td>\n",
       "      <td>152.698576</td>\n",
       "      <td>3.183747e+18</td>\n",
       "      <td>0.293384</td>\n",
       "      <td>2827.718309</td>\n",
       "      <td>1772.957098</td>\n",
       "      <td>268.543440</td>\n",
       "      <td>0.442116</td>\n",
       "    </tr>\n",
       "    <tr>\n",
       "      <th>min</th>\n",
       "      <td>0.005528</td>\n",
       "      <td>-18.785328</td>\n",
       "      <td>12.262400</td>\n",
       "      <td>10.511390</td>\n",
       "      <td>9.822070</td>\n",
       "      <td>9.469903</td>\n",
       "      <td>9.612333</td>\n",
       "      <td>109.000000</td>\n",
       "      <td>1.000000</td>\n",
       "      <td>11.000000</td>\n",
       "      <td>2.995191e+17</td>\n",
       "      <td>-0.009971</td>\n",
       "      <td>266.000000</td>\n",
       "      <td>51608.000000</td>\n",
       "      <td>1.000000</td>\n",
       "      <td>0.000000</td>\n",
       "    </tr>\n",
       "    <tr>\n",
       "      <th>25%</th>\n",
       "      <td>127.073944</td>\n",
       "      <td>4.631176</td>\n",
       "      <td>20.233155</td>\n",
       "      <td>18.590225</td>\n",
       "      <td>17.723850</td>\n",
       "      <td>17.325745</td>\n",
       "      <td>17.060415</td>\n",
       "      <td>3180.000000</td>\n",
       "      <td>2.000000</td>\n",
       "      <td>82.000000</td>\n",
       "      <td>2.520960e+18</td>\n",
       "      <td>0.000313</td>\n",
       "      <td>2239.000000</td>\n",
       "      <td>53848.000000</td>\n",
       "      <td>215.000000</td>\n",
       "      <td>0.000000</td>\n",
       "    </tr>\n",
       "    <tr>\n",
       "      <th>50%</th>\n",
       "      <td>179.698615</td>\n",
       "      <td>22.558225</td>\n",
       "      <td>22.491340</td>\n",
       "      <td>21.124270</td>\n",
       "      <td>19.809280</td>\n",
       "      <td>19.056340</td>\n",
       "      <td>18.659500</td>\n",
       "      <td>4192.000000</td>\n",
       "      <td>4.000000</td>\n",
       "      <td>147.000000</td>\n",
       "      <td>5.104837e+18</td>\n",
       "      <td>0.247277</td>\n",
       "      <td>4534.000000</td>\n",
       "      <td>55656.000000</td>\n",
       "      <td>421.000000</td>\n",
       "      <td>1.000000</td>\n",
       "    </tr>\n",
       "    <tr>\n",
       "      <th>75%</th>\n",
       "      <td>233.215326</td>\n",
       "      <td>38.777225</td>\n",
       "      <td>23.949755</td>\n",
       "      <td>22.265310</td>\n",
       "      <td>20.888055</td>\n",
       "      <td>19.963160</td>\n",
       "      <td>19.513655</td>\n",
       "      <td>5322.000000</td>\n",
       "      <td>5.000000</td>\n",
       "      <td>242.000000</td>\n",
       "      <td>7.584150e+18</td>\n",
       "      <td>0.542521</td>\n",
       "      <td>6736.000000</td>\n",
       "      <td>56486.000000</td>\n",
       "      <td>627.000000</td>\n",
       "      <td>1.000000</td>\n",
       "    </tr>\n",
       "    <tr>\n",
       "      <th>max</th>\n",
       "      <td>359.999810</td>\n",
       "      <td>83.000519</td>\n",
       "      <td>30.660390</td>\n",
       "      <td>31.602240</td>\n",
       "      <td>29.571860</td>\n",
       "      <td>30.250090</td>\n",
       "      <td>29.383740</td>\n",
       "      <td>8162.000000</td>\n",
       "      <td>6.000000</td>\n",
       "      <td>989.000000</td>\n",
       "      <td>1.412693e+19</td>\n",
       "      <td>1.995524</td>\n",
       "      <td>12547.000000</td>\n",
       "      <td>58932.000000</td>\n",
       "      <td>1000.000000</td>\n",
       "      <td>1.000000</td>\n",
       "    </tr>\n",
       "  </tbody>\n",
       "</table>\n",
       "</div>"
      ],
      "text/plain": [
       "              alpha         delta             u             g             r  \\\n",
       "count  72935.000000  72935.000000  72935.000000  72935.000000  72935.000000   \n",
       "mean     176.771118     23.521101     22.203748     20.561773     19.416201   \n",
       "std       95.896563     19.625232      2.375078      2.186032      1.922178   \n",
       "min        0.005528    -18.785328     12.262400     10.511390      9.822070   \n",
       "25%      127.073944      4.631176     20.233155     18.590225     17.723850   \n",
       "50%      179.698615     22.558225     22.491340     21.124270     19.809280   \n",
       "75%      233.215326     38.777225     23.949755     22.265310     20.888055   \n",
       "max      359.999810     83.000519     30.660390     31.602240     29.571860   \n",
       "\n",
       "                  i             z        run_ID       cam_col      field_ID  \\\n",
       "count  72935.000000  72935.000000  72935.000000  72935.000000  72935.000000   \n",
       "mean      18.769067     18.418036   4457.201974      3.509742    188.242024   \n",
       "std        1.737690      1.709913   1951.368978      1.590778    152.698576   \n",
       "min        9.469903      9.612333    109.000000      1.000000     11.000000   \n",
       "25%       17.325745     17.060415   3180.000000      2.000000     82.000000   \n",
       "50%       19.056340     18.659500   4192.000000      4.000000    147.000000   \n",
       "75%       19.963160     19.513655   5322.000000      5.000000    242.000000   \n",
       "max       30.250090     29.383740   8162.000000      6.000000    989.000000   \n",
       "\n",
       "        spec_obj_ID      redshift         plate           MJD      fiber_ID  \\\n",
       "count  7.293500e+04  72935.000000  72935.000000  72935.000000  72935.000000   \n",
       "mean   5.306493e+18      0.309068   4713.004826  55344.462000    439.424433   \n",
       "std    3.183747e+18      0.293384   2827.718309   1772.957098    268.543440   \n",
       "min    2.995191e+17     -0.009971    266.000000  51608.000000      1.000000   \n",
       "25%    2.520960e+18      0.000313   2239.000000  53848.000000    215.000000   \n",
       "50%    5.104837e+18      0.247277   4534.000000  55656.000000    421.000000   \n",
       "75%    7.584150e+18      0.542521   6736.000000  56486.000000    627.000000   \n",
       "max    1.412693e+19      1.995524  12547.000000  58932.000000   1000.000000   \n",
       "\n",
       "             Galaxy  \n",
       "count  72935.000000  \n",
       "mean       0.733530  \n",
       "std        0.442116  \n",
       "min        0.000000  \n",
       "25%        0.000000  \n",
       "50%        1.000000  \n",
       "75%        1.000000  \n",
       "max        1.000000  "
      ]
     },
     "execution_count": 13,
     "metadata": {},
     "output_type": "execute_result"
    }
   ],
   "source": [
    "# data for visualization\n",
    "train_vis.describe()"
   ]
  },
  {
   "cell_type": "code",
   "execution_count": 14,
   "id": "ec644df8",
   "metadata": {},
   "outputs": [
    {
     "data": {
      "text/html": [
       "<div>\n",
       "<style scoped>\n",
       "    .dataframe tbody tr th:only-of-type {\n",
       "        vertical-align: middle;\n",
       "    }\n",
       "\n",
       "    .dataframe tbody tr th {\n",
       "        vertical-align: top;\n",
       "    }\n",
       "\n",
       "    .dataframe thead th {\n",
       "        text-align: right;\n",
       "    }\n",
       "</style>\n",
       "<table border=\"1\" class=\"dataframe\">\n",
       "  <thead>\n",
       "    <tr style=\"text-align: right;\">\n",
       "      <th></th>\n",
       "      <th>Attribute</th>\n",
       "      <th>VIF Scores</th>\n",
       "    </tr>\n",
       "  </thead>\n",
       "  <tbody>\n",
       "    <tr>\n",
       "      <th>0</th>\n",
       "      <td>Intercept</td>\n",
       "      <td>15093.220434</td>\n",
       "    </tr>\n",
       "    <tr>\n",
       "      <th>1</th>\n",
       "      <td>alpha</td>\n",
       "      <td>1.057003</td>\n",
       "    </tr>\n",
       "    <tr>\n",
       "      <th>2</th>\n",
       "      <td>delta</td>\n",
       "      <td>1.077606</td>\n",
       "    </tr>\n",
       "    <tr>\n",
       "      <th>3</th>\n",
       "      <td>u</td>\n",
       "      <td>4.595140</td>\n",
       "    </tr>\n",
       "    <tr>\n",
       "      <th>4</th>\n",
       "      <td>g</td>\n",
       "      <td>21.551436</td>\n",
       "    </tr>\n",
       "    <tr>\n",
       "      <th>5</th>\n",
       "      <td>r</td>\n",
       "      <td>44.602283</td>\n",
       "    </tr>\n",
       "    <tr>\n",
       "      <th>6</th>\n",
       "      <td>i</td>\n",
       "      <td>44.065369</td>\n",
       "    </tr>\n",
       "    <tr>\n",
       "      <th>7</th>\n",
       "      <td>z</td>\n",
       "      <td>19.762174</td>\n",
       "    </tr>\n",
       "    <tr>\n",
       "      <th>8</th>\n",
       "      <td>cam_col</td>\n",
       "      <td>1.003094</td>\n",
       "    </tr>\n",
       "    <tr>\n",
       "      <th>9</th>\n",
       "      <td>redshift</td>\n",
       "      <td>2.112920</td>\n",
       "    </tr>\n",
       "    <tr>\n",
       "      <th>10</th>\n",
       "      <td>field_ID</td>\n",
       "      <td>1.062341</td>\n",
       "    </tr>\n",
       "    <tr>\n",
       "      <th>11</th>\n",
       "      <td>plate</td>\n",
       "      <td>17.559421</td>\n",
       "    </tr>\n",
       "    <tr>\n",
       "      <th>12</th>\n",
       "      <td>MJD</td>\n",
       "      <td>17.706913</td>\n",
       "    </tr>\n",
       "  </tbody>\n",
       "</table>\n",
       "</div>"
      ],
      "text/plain": [
       "    Attribute    VIF Scores\n",
       "0   Intercept  15093.220434\n",
       "1       alpha      1.057003\n",
       "2       delta      1.077606\n",
       "3           u      4.595140\n",
       "4           g     21.551436\n",
       "5           r     44.602283\n",
       "6           i     44.065369\n",
       "7           z     19.762174\n",
       "8     cam_col      1.003094\n",
       "9    redshift      2.112920\n",
       "10   field_ID      1.062341\n",
       "11      plate     17.559421\n",
       "12        MJD     17.706913"
      ]
     },
     "metadata": {},
     "output_type": "display_data"
    }
   ],
   "source": [
    "from patsy import dmatrices\n",
    "y, X = dmatrices('Galaxy~ alpha+delta+u+g+r+i+z+cam_col+redshift+field_ID+plate+MJD', train_vis,return_type = 'dataframe')\n",
    "\n",
    "#calculate Variance Inflation Factor\n",
    "from statsmodels.stats.outliers_influence import variance_inflation_factor\n",
    "vif_scores = pd.DataFrame() \n",
    "vif_scores[\"Attribute\"] = X.columns \n",
    "  \n",
    "# calculating VIF for each feature \n",
    "vif_scores[\"VIF Scores\"] = [variance_inflation_factor(X.values, i) for i in range(len(X.columns))] \n",
    "  \n",
    "display(vif_scores)"
   ]
  },
  {
   "cell_type": "code",
   "execution_count": 15,
   "id": "baaf75d0",
   "metadata": {},
   "outputs": [
    {
     "data": {
      "image/png": "[encoded data removed]",
      "text/plain": [
       "<Figure size 1440x720 with 2 Axes>"
      ]
     },
     "metadata": {},
     "output_type": "display_data"
    }
   ],
   "source": [
    "#Dropped rerun_ID , obj_ID, and Star because they dont contain use-full information\n",
    "CorrelationMatrix = train_vis.corr().round(2)\n",
    "plt.figure(figsize= (20, 10)) #(width,hight)\n",
    "plt.title('Correlation Matrix')\n",
    "sns.heatmap(data= CorrelationMatrix,annot=True)\n",
    "plt.show()"
   ]
  },
  {
   "cell_type": "markdown",
   "id": "ef170e7a",
   "metadata": {},
   "source": [
    "### Visualizing The light Spectra:\n",
    "1. The density plots for the light spectra given all of the unscaled trainig data "
   ]
  },
  {
   "cell_type": "code",
   "execution_count": 16,
   "id": "1cfa6ef7",
   "metadata": {},
   "outputs": [
    {
     "name": "stderr",
     "output_type": "stream",
     "text": [
      "No artists with labels found to put in legend.  Note that artists whose label start with an underscore are ignored when legend() is called with no argument.\n"
     ]
    },
    {
     "data": {
      "image/png": "[encoded data removed]",
      "text/plain": [
       "<Figure size 504x504 with 6 Axes>"
      ]
     },
     "metadata": {},
     "output_type": "display_data"
    }
   ],
   "source": [
    "sns.set(style=\"darkgrid\")\n",
    "\n",
    "fig, axs = plt.subplots(3, 2, figsize=(7, 7))\n",
    "\n",
    "sns.histplot(data=train_vis, x=\"r\", color=\"red\", label=\"r\", kde=True, ax=axs[0, 0])\n",
    "sns.histplot(data=train_vis, x=\"g\", color=\"green\", label=\"g\", kde=True, ax=axs[1, 0])\n",
    "sns.histplot(data=train_vis, x=\"u\", color=\"Purple\", label=\"u\", kde=True, ax=axs[0, 1])\n",
    "sns.histplot(data=train_vis, x=\"i\", color=\"yellow\", label=\"i\", kde=True, ax=axs[1, 1])\n",
    "sns.histplot(data=train_vis, x=\"z\", color=\"orange\", label=\"z\", kde=True, ax=axs[2, 1])\n",
    "for ax in axs.ravel():\n",
    "    ax.legend()\n",
    "plt.show()"
   ]
  },
  {
   "cell_type": "markdown",
   "id": "f0e37e6a",
   "metadata": {},
   "source": [
    "## Visualizing Redshift: \n",
    "Redshift is our most important variable \n",
    "1. box plot of the redshift for stars and galxaies\n",
    "2. The density of the redshift for the whole data set \n",
    "3. The densitys of redshift for stars and galaxies on the same plot \n",
    "    - The redshift for stars is so dense around 0 that its almost impossible to see the redshift for galaxies that is spread out from 0 to 2. So to get a better idea plot 4. shows just stars and plot 5 shows just galaxies. \n",
    "4. density of redshift on just stars \n",
    "5. density of redshift on just galaxies \n"
   ]
  },
  {
   "cell_type": "code",
   "execution_count": 17,
   "id": "d4d61f2e",
   "metadata": {},
   "outputs": [],
   "source": [
    "#create data frames for plotting \n",
    "redshiftG = train_vis[train_vis['Galaxy'] == 0]\n",
    "redshiftS = train_vis[train_vis['Galaxy'] == 1]"
   ]
  },
  {
   "cell_type": "code",
   "execution_count": 18,
   "id": "9ea631c7",
   "metadata": {},
   "outputs": [
    {
     "name": "stdout",
     "output_type": "stream",
     "text": [
      "Redshift for Stars\n",
      " count    19435.000000\n",
      "mean        -0.000115\n",
      "std          0.000467\n",
      "min         -0.004136\n",
      "25%         -0.000296\n",
      "50%         -0.000077\n",
      "75%          0.000075\n",
      "max          0.004153\n",
      "Name: redshift, dtype: float64\n",
      "Redshift fot Galaxies\n",
      " count    53500.000000\n",
      "mean         0.421385\n",
      "std          0.264576\n",
      "min         -0.009971\n",
      "25%          0.164205\n",
      "50%          0.456323\n",
      "75%          0.594711\n",
      "max          1.995524\n",
      "Name: redshift, dtype: float64\n"
     ]
    }
   ],
   "source": [
    "print('Redshift for Stars\\n', redshiftG['redshift'].describe())\n",
    "print('Redshift fot Galaxies\\n',redshiftS['redshift'].describe())"
   ]
  },
  {
   "cell_type": "code",
   "execution_count": 19,
   "id": "a6441482",
   "metadata": {},
   "outputs": [
    {
     "data": {
      "image/png": "[encoded data removed]",
      "text/plain": [
       "<Figure size 576x396 with 1 Axes>"
      ]
     },
     "metadata": {},
     "output_type": "display_data"
    }
   ],
   "source": [
    " # Boxplots \n",
    "sns.set(style=\"darkgrid\")\n",
    "sns.boxplot(data=train_vis, x='Galaxy', y='redshift')\n",
    "plt.title('Box plot of Redshift by Galaxy observation')\n",
    "plt.show()"
   ]
  },
  {
   "cell_type": "code",
   "execution_count": 21,
   "id": "9aba4204",
   "metadata": {},
   "outputs": [
    {
     "data": {
      "image/png": "[encoded data removed]",
      "text/plain": [
       "<Figure size 648x432 with 1 Axes>"
      ]
     },
     "metadata": {},
     "output_type": "display_data"
    }
   ],
   "source": [
    "plt.figure(figsize=(9,6))\n",
    "sns.set(style=\"darkgrid\")\n",
    "sns.histplot(x= \"redshift\",\n",
    "             data=train_vis,\n",
    "              bins=25,\n",
    "              hue=\"Galaxy\",\n",
    "              kde=False)\n",
    "plt.title('Redshift')\n",
    "plt.show()"
   ]
  },
  {
   "cell_type": "markdown",
   "id": "1a352975",
   "metadata": {},
   "source": [
    "# Data prep \n",
    "1. Create dummy variables for the responce*  \n",
    "2. Drop the Quasar observations from the dataframe*  \n",
    "3. Reset the df index in prepration of the stratified training and test split*  "
   ]
  },
  {
   "cell_type": "code",
   "execution_count": 18,
   "id": "fbb98021",
   "metadata": {},
   "outputs": [
    {
     "data": {
      "text/html": [
       "<div>\n",
       "<style scoped>\n",
       "    .dataframe tbody tr th:only-of-type {\n",
       "        vertical-align: middle;\n",
       "    }\n",
       "\n",
       "    .dataframe tbody tr th {\n",
       "        vertical-align: top;\n",
       "    }\n",
       "\n",
       "    .dataframe thead th {\n",
       "        text-align: right;\n",
       "    }\n",
       "</style>\n",
       "<table border=\"1\" class=\"dataframe\">\n",
       "  <thead>\n",
       "    <tr style=\"text-align: right;\">\n",
       "      <th></th>\n",
       "      <th>class_GALAXY</th>\n",
       "      <th>class_QSO</th>\n",
       "      <th>class_STAR</th>\n",
       "    </tr>\n",
       "  </thead>\n",
       "  <tbody>\n",
       "    <tr>\n",
       "      <th>0</th>\n",
       "      <td>1</td>\n",
       "      <td>0</td>\n",
       "      <td>0</td>\n",
       "    </tr>\n",
       "    <tr>\n",
       "      <th>1</th>\n",
       "      <td>1</td>\n",
       "      <td>0</td>\n",
       "      <td>0</td>\n",
       "    </tr>\n",
       "    <tr>\n",
       "      <th>2</th>\n",
       "      <td>1</td>\n",
       "      <td>0</td>\n",
       "      <td>0</td>\n",
       "    </tr>\n",
       "    <tr>\n",
       "      <th>3</th>\n",
       "      <td>1</td>\n",
       "      <td>0</td>\n",
       "      <td>0</td>\n",
       "    </tr>\n",
       "    <tr>\n",
       "      <th>4</th>\n",
       "      <td>1</td>\n",
       "      <td>0</td>\n",
       "      <td>0</td>\n",
       "    </tr>\n",
       "    <tr>\n",
       "      <th>...</th>\n",
       "      <td>...</td>\n",
       "      <td>...</td>\n",
       "      <td>...</td>\n",
       "    </tr>\n",
       "    <tr>\n",
       "      <th>99995</th>\n",
       "      <td>1</td>\n",
       "      <td>0</td>\n",
       "      <td>0</td>\n",
       "    </tr>\n",
       "    <tr>\n",
       "      <th>99996</th>\n",
       "      <td>1</td>\n",
       "      <td>0</td>\n",
       "      <td>0</td>\n",
       "    </tr>\n",
       "    <tr>\n",
       "      <th>99997</th>\n",
       "      <td>1</td>\n",
       "      <td>0</td>\n",
       "      <td>0</td>\n",
       "    </tr>\n",
       "    <tr>\n",
       "      <th>99998</th>\n",
       "      <td>1</td>\n",
       "      <td>0</td>\n",
       "      <td>0</td>\n",
       "    </tr>\n",
       "    <tr>\n",
       "      <th>99999</th>\n",
       "      <td>1</td>\n",
       "      <td>0</td>\n",
       "      <td>0</td>\n",
       "    </tr>\n",
       "  </tbody>\n",
       "</table>\n",
       "<p>100000 rows × 3 columns</p>\n",
       "</div>"
      ],
      "text/plain": [
       "       class_GALAXY  class_QSO  class_STAR\n",
       "0                 1          0           0\n",
       "1                 1          0           0\n",
       "2                 1          0           0\n",
       "3                 1          0           0\n",
       "4                 1          0           0\n",
       "...             ...        ...         ...\n",
       "99995             1          0           0\n",
       "99996             1          0           0\n",
       "99997             1          0           0\n",
       "99998             1          0           0\n",
       "99999             1          0           0\n",
       "\n",
       "[100000 rows x 3 columns]"
      ]
     },
     "execution_count": 18,
     "metadata": {},
     "output_type": "execute_result"
    }
   ],
   "source": [
    "# create dummy variables for the responce variable, encoded as 1=true and 0=false\n",
    "# each category gets its own column \n",
    "# a new dataframe was created only containing the responce variables \n",
    "responce = pd.get_dummies(dfo['class'], prefix='class')\n",
    "responce "
   ]
  },
  {
   "cell_type": "code",
   "execution_count": 19,
   "id": "612ee5c9",
   "metadata": {},
   "outputs": [],
   "source": [
    "# add new dataframe to the existing one \n",
    "dfo = dfo.join(pd.DataFrame(\n",
    "    {\n",
    "        'Galaxy': responce[\"class_GALAXY\"],\n",
    "        'Quasar': responce[\"class_QSO\"],\n",
    "        'Star': responce['class_STAR']\n",
    "    }, index=dfo.index\n",
    "))"
   ]
  },
  {
   "cell_type": "code",
   "execution_count": 20,
   "id": "6b351aec",
   "metadata": {},
   "outputs": [
    {
     "data": {
      "text/html": [
       "<div>\n",
       "<style scoped>\n",
       "    .dataframe tbody tr th:only-of-type {\n",
       "        vertical-align: middle;\n",
       "    }\n",
       "\n",
       "    .dataframe tbody tr th {\n",
       "        vertical-align: top;\n",
       "    }\n",
       "\n",
       "    .dataframe thead th {\n",
       "        text-align: right;\n",
       "    }\n",
       "</style>\n",
       "<table border=\"1\" class=\"dataframe\">\n",
       "  <thead>\n",
       "    <tr style=\"text-align: right;\">\n",
       "      <th></th>\n",
       "      <th>obj_ID</th>\n",
       "      <th>alpha</th>\n",
       "      <th>delta</th>\n",
       "      <th>u</th>\n",
       "      <th>g</th>\n",
       "      <th>r</th>\n",
       "      <th>i</th>\n",
       "      <th>z</th>\n",
       "      <th>run_ID</th>\n",
       "      <th>rerun_ID</th>\n",
       "      <th>...</th>\n",
       "      <th>field_ID</th>\n",
       "      <th>spec_obj_ID</th>\n",
       "      <th>class</th>\n",
       "      <th>redshift</th>\n",
       "      <th>plate</th>\n",
       "      <th>MJD</th>\n",
       "      <th>fiber_ID</th>\n",
       "      <th>Galaxy</th>\n",
       "      <th>Quasar</th>\n",
       "      <th>Star</th>\n",
       "    </tr>\n",
       "  </thead>\n",
       "  <tbody>\n",
       "    <tr>\n",
       "      <th>0</th>\n",
       "      <td>1.237661e+18</td>\n",
       "      <td>135.689107</td>\n",
       "      <td>32.494632</td>\n",
       "      <td>23.87882</td>\n",
       "      <td>22.27530</td>\n",
       "      <td>20.39501</td>\n",
       "      <td>19.16573</td>\n",
       "      <td>18.79371</td>\n",
       "      <td>3606</td>\n",
       "      <td>301</td>\n",
       "      <td>...</td>\n",
       "      <td>79</td>\n",
       "      <td>6.543777e+18</td>\n",
       "      <td>GALAXY</td>\n",
       "      <td>0.634794</td>\n",
       "      <td>5812</td>\n",
       "      <td>56354</td>\n",
       "      <td>171</td>\n",
       "      <td>1</td>\n",
       "      <td>0</td>\n",
       "      <td>0</td>\n",
       "    </tr>\n",
       "    <tr>\n",
       "      <th>1</th>\n",
       "      <td>1.237665e+18</td>\n",
       "      <td>144.826101</td>\n",
       "      <td>31.274185</td>\n",
       "      <td>24.77759</td>\n",
       "      <td>22.83188</td>\n",
       "      <td>22.58444</td>\n",
       "      <td>21.16812</td>\n",
       "      <td>21.61427</td>\n",
       "      <td>4518</td>\n",
       "      <td>301</td>\n",
       "      <td>...</td>\n",
       "      <td>119</td>\n",
       "      <td>1.176014e+19</td>\n",
       "      <td>GALAXY</td>\n",
       "      <td>0.779136</td>\n",
       "      <td>10445</td>\n",
       "      <td>58158</td>\n",
       "      <td>427</td>\n",
       "      <td>1</td>\n",
       "      <td>0</td>\n",
       "      <td>0</td>\n",
       "    </tr>\n",
       "    <tr>\n",
       "      <th>2</th>\n",
       "      <td>1.237661e+18</td>\n",
       "      <td>142.188790</td>\n",
       "      <td>35.582444</td>\n",
       "      <td>25.26307</td>\n",
       "      <td>22.66389</td>\n",
       "      <td>20.60976</td>\n",
       "      <td>19.34857</td>\n",
       "      <td>18.94827</td>\n",
       "      <td>3606</td>\n",
       "      <td>301</td>\n",
       "      <td>...</td>\n",
       "      <td>120</td>\n",
       "      <td>5.152200e+18</td>\n",
       "      <td>GALAXY</td>\n",
       "      <td>0.644195</td>\n",
       "      <td>4576</td>\n",
       "      <td>55592</td>\n",
       "      <td>299</td>\n",
       "      <td>1</td>\n",
       "      <td>0</td>\n",
       "      <td>0</td>\n",
       "    </tr>\n",
       "    <tr>\n",
       "      <th>3</th>\n",
       "      <td>1.237663e+18</td>\n",
       "      <td>338.741038</td>\n",
       "      <td>-0.402828</td>\n",
       "      <td>22.13682</td>\n",
       "      <td>23.77656</td>\n",
       "      <td>21.61162</td>\n",
       "      <td>20.50454</td>\n",
       "      <td>19.25010</td>\n",
       "      <td>4192</td>\n",
       "      <td>301</td>\n",
       "      <td>...</td>\n",
       "      <td>214</td>\n",
       "      <td>1.030107e+19</td>\n",
       "      <td>GALAXY</td>\n",
       "      <td>0.932346</td>\n",
       "      <td>9149</td>\n",
       "      <td>58039</td>\n",
       "      <td>775</td>\n",
       "      <td>1</td>\n",
       "      <td>0</td>\n",
       "      <td>0</td>\n",
       "    </tr>\n",
       "    <tr>\n",
       "      <th>4</th>\n",
       "      <td>1.237680e+18</td>\n",
       "      <td>345.282593</td>\n",
       "      <td>21.183866</td>\n",
       "      <td>19.43718</td>\n",
       "      <td>17.58028</td>\n",
       "      <td>16.49747</td>\n",
       "      <td>15.97711</td>\n",
       "      <td>15.54461</td>\n",
       "      <td>8102</td>\n",
       "      <td>301</td>\n",
       "      <td>...</td>\n",
       "      <td>137</td>\n",
       "      <td>6.891865e+18</td>\n",
       "      <td>GALAXY</td>\n",
       "      <td>0.116123</td>\n",
       "      <td>6121</td>\n",
       "      <td>56187</td>\n",
       "      <td>842</td>\n",
       "      <td>1</td>\n",
       "      <td>0</td>\n",
       "      <td>0</td>\n",
       "    </tr>\n",
       "    <tr>\n",
       "      <th>...</th>\n",
       "      <td>...</td>\n",
       "      <td>...</td>\n",
       "      <td>...</td>\n",
       "      <td>...</td>\n",
       "      <td>...</td>\n",
       "      <td>...</td>\n",
       "      <td>...</td>\n",
       "      <td>...</td>\n",
       "      <td>...</td>\n",
       "      <td>...</td>\n",
       "      <td>...</td>\n",
       "      <td>...</td>\n",
       "      <td>...</td>\n",
       "      <td>...</td>\n",
       "      <td>...</td>\n",
       "      <td>...</td>\n",
       "      <td>...</td>\n",
       "      <td>...</td>\n",
       "      <td>...</td>\n",
       "      <td>...</td>\n",
       "      <td>...</td>\n",
       "    </tr>\n",
       "    <tr>\n",
       "      <th>99995</th>\n",
       "      <td>1.237679e+18</td>\n",
       "      <td>39.620709</td>\n",
       "      <td>-2.594074</td>\n",
       "      <td>22.16759</td>\n",
       "      <td>22.97586</td>\n",
       "      <td>21.90404</td>\n",
       "      <td>21.30548</td>\n",
       "      <td>20.73569</td>\n",
       "      <td>7778</td>\n",
       "      <td>301</td>\n",
       "      <td>...</td>\n",
       "      <td>581</td>\n",
       "      <td>1.055431e+19</td>\n",
       "      <td>GALAXY</td>\n",
       "      <td>0.000000</td>\n",
       "      <td>9374</td>\n",
       "      <td>57749</td>\n",
       "      <td>438</td>\n",
       "      <td>1</td>\n",
       "      <td>0</td>\n",
       "      <td>0</td>\n",
       "    </tr>\n",
       "    <tr>\n",
       "      <th>99996</th>\n",
       "      <td>1.237679e+18</td>\n",
       "      <td>29.493819</td>\n",
       "      <td>19.798874</td>\n",
       "      <td>22.69118</td>\n",
       "      <td>22.38628</td>\n",
       "      <td>20.45003</td>\n",
       "      <td>19.75759</td>\n",
       "      <td>19.41526</td>\n",
       "      <td>7917</td>\n",
       "      <td>301</td>\n",
       "      <td>...</td>\n",
       "      <td>289</td>\n",
       "      <td>8.586351e+18</td>\n",
       "      <td>GALAXY</td>\n",
       "      <td>0.404895</td>\n",
       "      <td>7626</td>\n",
       "      <td>56934</td>\n",
       "      <td>866</td>\n",
       "      <td>1</td>\n",
       "      <td>0</td>\n",
       "      <td>0</td>\n",
       "    </tr>\n",
       "    <tr>\n",
       "      <th>99997</th>\n",
       "      <td>1.237668e+18</td>\n",
       "      <td>224.587407</td>\n",
       "      <td>15.700707</td>\n",
       "      <td>21.16916</td>\n",
       "      <td>19.26997</td>\n",
       "      <td>18.20428</td>\n",
       "      <td>17.69034</td>\n",
       "      <td>17.35221</td>\n",
       "      <td>5314</td>\n",
       "      <td>301</td>\n",
       "      <td>...</td>\n",
       "      <td>308</td>\n",
       "      <td>3.112008e+18</td>\n",
       "      <td>GALAXY</td>\n",
       "      <td>0.143366</td>\n",
       "      <td>2764</td>\n",
       "      <td>54535</td>\n",
       "      <td>74</td>\n",
       "      <td>1</td>\n",
       "      <td>0</td>\n",
       "      <td>0</td>\n",
       "    </tr>\n",
       "    <tr>\n",
       "      <th>99998</th>\n",
       "      <td>1.237661e+18</td>\n",
       "      <td>212.268621</td>\n",
       "      <td>46.660365</td>\n",
       "      <td>25.35039</td>\n",
       "      <td>21.63757</td>\n",
       "      <td>19.91386</td>\n",
       "      <td>19.07254</td>\n",
       "      <td>18.62482</td>\n",
       "      <td>3650</td>\n",
       "      <td>301</td>\n",
       "      <td>...</td>\n",
       "      <td>131</td>\n",
       "      <td>7.601080e+18</td>\n",
       "      <td>GALAXY</td>\n",
       "      <td>0.455040</td>\n",
       "      <td>6751</td>\n",
       "      <td>56368</td>\n",
       "      <td>470</td>\n",
       "      <td>1</td>\n",
       "      <td>0</td>\n",
       "      <td>0</td>\n",
       "    </tr>\n",
       "    <tr>\n",
       "      <th>99999</th>\n",
       "      <td>1.237661e+18</td>\n",
       "      <td>196.896053</td>\n",
       "      <td>49.464643</td>\n",
       "      <td>22.62171</td>\n",
       "      <td>21.79745</td>\n",
       "      <td>20.60115</td>\n",
       "      <td>20.00959</td>\n",
       "      <td>19.28075</td>\n",
       "      <td>3650</td>\n",
       "      <td>301</td>\n",
       "      <td>...</td>\n",
       "      <td>60</td>\n",
       "      <td>8.343152e+18</td>\n",
       "      <td>GALAXY</td>\n",
       "      <td>0.542944</td>\n",
       "      <td>7410</td>\n",
       "      <td>57104</td>\n",
       "      <td>851</td>\n",
       "      <td>1</td>\n",
       "      <td>0</td>\n",
       "      <td>0</td>\n",
       "    </tr>\n",
       "  </tbody>\n",
       "</table>\n",
       "<p>100000 rows × 21 columns</p>\n",
       "</div>"
      ],
      "text/plain": [
       "             obj_ID       alpha      delta         u         g         r  \\\n",
       "0      1.237661e+18  135.689107  32.494632  23.87882  22.27530  20.39501   \n",
       "1      1.237665e+18  144.826101  31.274185  24.77759  22.83188  22.58444   \n",
       "2      1.237661e+18  142.188790  35.582444  25.26307  22.66389  20.60976   \n",
       "3      1.237663e+18  338.741038  -0.402828  22.13682  23.77656  21.61162   \n",
       "4      1.237680e+18  345.282593  21.183866  19.43718  17.58028  16.49747   \n",
       "...             ...         ...        ...       ...       ...       ...   \n",
       "99995  1.237679e+18   39.620709  -2.594074  22.16759  22.97586  21.90404   \n",
       "99996  1.237679e+18   29.493819  19.798874  22.69118  22.38628  20.45003   \n",
       "99997  1.237668e+18  224.587407  15.700707  21.16916  19.26997  18.20428   \n",
       "99998  1.237661e+18  212.268621  46.660365  25.35039  21.63757  19.91386   \n",
       "99999  1.237661e+18  196.896053  49.464643  22.62171  21.79745  20.60115   \n",
       "\n",
       "              i         z  run_ID  rerun_ID  ...  field_ID   spec_obj_ID  \\\n",
       "0      19.16573  18.79371    3606       301  ...        79  6.543777e+18   \n",
       "1      21.16812  21.61427    4518       301  ...       119  1.176014e+19   \n",
       "2      19.34857  18.94827    3606       301  ...       120  5.152200e+18   \n",
       "3      20.50454  19.25010    4192       301  ...       214  1.030107e+19   \n",
       "4      15.97711  15.54461    8102       301  ...       137  6.891865e+18   \n",
       "...         ...       ...     ...       ...  ...       ...           ...   \n",
       "99995  21.30548  20.73569    7778       301  ...       581  1.055431e+19   \n",
       "99996  19.75759  19.41526    7917       301  ...       289  8.586351e+18   \n",
       "99997  17.69034  17.35221    5314       301  ...       308  3.112008e+18   \n",
       "99998  19.07254  18.62482    3650       301  ...       131  7.601080e+18   \n",
       "99999  20.00959  19.28075    3650       301  ...        60  8.343152e+18   \n",
       "\n",
       "        class  redshift  plate    MJD  fiber_ID  Galaxy  Quasar  Star  \n",
       "0      GALAXY  0.634794   5812  56354       171       1       0     0  \n",
       "1      GALAXY  0.779136  10445  58158       427       1       0     0  \n",
       "2      GALAXY  0.644195   4576  55592       299       1       0     0  \n",
       "3      GALAXY  0.932346   9149  58039       775       1       0     0  \n",
       "4      GALAXY  0.116123   6121  56187       842       1       0     0  \n",
       "...       ...       ...    ...    ...       ...     ...     ...   ...  \n",
       "99995  GALAXY  0.000000   9374  57749       438       1       0     0  \n",
       "99996  GALAXY  0.404895   7626  56934       866       1       0     0  \n",
       "99997  GALAXY  0.143366   2764  54535        74       1       0     0  \n",
       "99998  GALAXY  0.455040   6751  56368       470       1       0     0  \n",
       "99999  GALAXY  0.542944   7410  57104       851       1       0     0  \n",
       "\n",
       "[100000 rows x 21 columns]"
      ]
     },
     "execution_count": 20,
     "metadata": {},
     "output_type": "execute_result"
    }
   ],
   "source": [
    "dfo"
   ]
  },
  {
   "cell_type": "code",
   "execution_count": 21,
   "id": "68beb2b3",
   "metadata": {},
   "outputs": [],
   "source": [
    "#drop all observations where a quasar is seen \n",
    "dfo = dfo[dfo['Quasar'] == 0]"
   ]
  },
  {
   "cell_type": "code",
   "execution_count": 22,
   "id": "12ab6d58",
   "metadata": {},
   "outputs": [
    {
     "data": {
      "text/plain": [
       "GALAXY    59445\n",
       "STAR      21594\n",
       "Name: class, dtype: int64"
      ]
     },
     "execution_count": 22,
     "metadata": {},
     "output_type": "execute_result"
    }
   ],
   "source": [
    "#double check that the process worked\n",
    "dfo['class'].value_counts()"
   ]
  },
  {
   "cell_type": "code",
   "execution_count": 23,
   "id": "0a9a684a",
   "metadata": {},
   "outputs": [],
   "source": [
    "#drop un-necesary columns \n",
    "dfo = dfo.drop(columns=['class', 'Quasar','Star'])"
   ]
  },
  {
   "cell_type": "code",
   "execution_count": 24,
   "id": "0d82a8ec",
   "metadata": {},
   "outputs": [
    {
     "data": {
      "text/html": [
       "<div>\n",
       "<style scoped>\n",
       "    .dataframe tbody tr th:only-of-type {\n",
       "        vertical-align: middle;\n",
       "    }\n",
       "\n",
       "    .dataframe tbody tr th {\n",
       "        vertical-align: top;\n",
       "    }\n",
       "\n",
       "    .dataframe thead th {\n",
       "        text-align: right;\n",
       "    }\n",
       "</style>\n",
       "<table border=\"1\" class=\"dataframe\">\n",
       "  <thead>\n",
       "    <tr style=\"text-align: right;\">\n",
       "      <th></th>\n",
       "      <th>obj_ID</th>\n",
       "      <th>alpha</th>\n",
       "      <th>delta</th>\n",
       "      <th>u</th>\n",
       "      <th>g</th>\n",
       "      <th>r</th>\n",
       "      <th>i</th>\n",
       "      <th>z</th>\n",
       "      <th>run_ID</th>\n",
       "      <th>rerun_ID</th>\n",
       "      <th>cam_col</th>\n",
       "      <th>field_ID</th>\n",
       "      <th>spec_obj_ID</th>\n",
       "      <th>redshift</th>\n",
       "      <th>plate</th>\n",
       "      <th>MJD</th>\n",
       "      <th>fiber_ID</th>\n",
       "      <th>Galaxy</th>\n",
       "    </tr>\n",
       "  </thead>\n",
       "  <tbody>\n",
       "    <tr>\n",
       "      <th>0</th>\n",
       "      <td>1.237661e+18</td>\n",
       "      <td>135.689107</td>\n",
       "      <td>32.494632</td>\n",
       "      <td>23.87882</td>\n",
       "      <td>22.27530</td>\n",
       "      <td>20.39501</td>\n",
       "      <td>19.16573</td>\n",
       "      <td>18.79371</td>\n",
       "      <td>3606</td>\n",
       "      <td>301</td>\n",
       "      <td>2</td>\n",
       "      <td>79</td>\n",
       "      <td>6.543777e+18</td>\n",
       "      <td>0.634794</td>\n",
       "      <td>5812</td>\n",
       "      <td>56354</td>\n",
       "      <td>171</td>\n",
       "      <td>1</td>\n",
       "    </tr>\n",
       "    <tr>\n",
       "      <th>1</th>\n",
       "      <td>1.237665e+18</td>\n",
       "      <td>144.826101</td>\n",
       "      <td>31.274185</td>\n",
       "      <td>24.77759</td>\n",
       "      <td>22.83188</td>\n",
       "      <td>22.58444</td>\n",
       "      <td>21.16812</td>\n",
       "      <td>21.61427</td>\n",
       "      <td>4518</td>\n",
       "      <td>301</td>\n",
       "      <td>5</td>\n",
       "      <td>119</td>\n",
       "      <td>1.176014e+19</td>\n",
       "      <td>0.779136</td>\n",
       "      <td>10445</td>\n",
       "      <td>58158</td>\n",
       "      <td>427</td>\n",
       "      <td>1</td>\n",
       "    </tr>\n",
       "    <tr>\n",
       "      <th>2</th>\n",
       "      <td>1.237661e+18</td>\n",
       "      <td>142.188790</td>\n",
       "      <td>35.582444</td>\n",
       "      <td>25.26307</td>\n",
       "      <td>22.66389</td>\n",
       "      <td>20.60976</td>\n",
       "      <td>19.34857</td>\n",
       "      <td>18.94827</td>\n",
       "      <td>3606</td>\n",
       "      <td>301</td>\n",
       "      <td>2</td>\n",
       "      <td>120</td>\n",
       "      <td>5.152200e+18</td>\n",
       "      <td>0.644195</td>\n",
       "      <td>4576</td>\n",
       "      <td>55592</td>\n",
       "      <td>299</td>\n",
       "      <td>1</td>\n",
       "    </tr>\n",
       "    <tr>\n",
       "      <th>3</th>\n",
       "      <td>1.237663e+18</td>\n",
       "      <td>338.741038</td>\n",
       "      <td>-0.402828</td>\n",
       "      <td>22.13682</td>\n",
       "      <td>23.77656</td>\n",
       "      <td>21.61162</td>\n",
       "      <td>20.50454</td>\n",
       "      <td>19.25010</td>\n",
       "      <td>4192</td>\n",
       "      <td>301</td>\n",
       "      <td>3</td>\n",
       "      <td>214</td>\n",
       "      <td>1.030107e+19</td>\n",
       "      <td>0.932346</td>\n",
       "      <td>9149</td>\n",
       "      <td>58039</td>\n",
       "      <td>775</td>\n",
       "      <td>1</td>\n",
       "    </tr>\n",
       "    <tr>\n",
       "      <th>4</th>\n",
       "      <td>1.237680e+18</td>\n",
       "      <td>345.282593</td>\n",
       "      <td>21.183866</td>\n",
       "      <td>19.43718</td>\n",
       "      <td>17.58028</td>\n",
       "      <td>16.49747</td>\n",
       "      <td>15.97711</td>\n",
       "      <td>15.54461</td>\n",
       "      <td>8102</td>\n",
       "      <td>301</td>\n",
       "      <td>3</td>\n",
       "      <td>137</td>\n",
       "      <td>6.891865e+18</td>\n",
       "      <td>0.116123</td>\n",
       "      <td>6121</td>\n",
       "      <td>56187</td>\n",
       "      <td>842</td>\n",
       "      <td>1</td>\n",
       "    </tr>\n",
       "    <tr>\n",
       "      <th>...</th>\n",
       "      <td>...</td>\n",
       "      <td>...</td>\n",
       "      <td>...</td>\n",
       "      <td>...</td>\n",
       "      <td>...</td>\n",
       "      <td>...</td>\n",
       "      <td>...</td>\n",
       "      <td>...</td>\n",
       "      <td>...</td>\n",
       "      <td>...</td>\n",
       "      <td>...</td>\n",
       "      <td>...</td>\n",
       "      <td>...</td>\n",
       "      <td>...</td>\n",
       "      <td>...</td>\n",
       "      <td>...</td>\n",
       "      <td>...</td>\n",
       "      <td>...</td>\n",
       "    </tr>\n",
       "    <tr>\n",
       "      <th>81034</th>\n",
       "      <td>1.237679e+18</td>\n",
       "      <td>39.620709</td>\n",
       "      <td>-2.594074</td>\n",
       "      <td>22.16759</td>\n",
       "      <td>22.97586</td>\n",
       "      <td>21.90404</td>\n",
       "      <td>21.30548</td>\n",
       "      <td>20.73569</td>\n",
       "      <td>7778</td>\n",
       "      <td>301</td>\n",
       "      <td>2</td>\n",
       "      <td>581</td>\n",
       "      <td>1.055431e+19</td>\n",
       "      <td>0.000000</td>\n",
       "      <td>9374</td>\n",
       "      <td>57749</td>\n",
       "      <td>438</td>\n",
       "      <td>1</td>\n",
       "    </tr>\n",
       "    <tr>\n",
       "      <th>81035</th>\n",
       "      <td>1.237679e+18</td>\n",
       "      <td>29.493819</td>\n",
       "      <td>19.798874</td>\n",
       "      <td>22.69118</td>\n",
       "      <td>22.38628</td>\n",
       "      <td>20.45003</td>\n",
       "      <td>19.75759</td>\n",
       "      <td>19.41526</td>\n",
       "      <td>7917</td>\n",
       "      <td>301</td>\n",
       "      <td>1</td>\n",
       "      <td>289</td>\n",
       "      <td>8.586351e+18</td>\n",
       "      <td>0.404895</td>\n",
       "      <td>7626</td>\n",
       "      <td>56934</td>\n",
       "      <td>866</td>\n",
       "      <td>1</td>\n",
       "    </tr>\n",
       "    <tr>\n",
       "      <th>81036</th>\n",
       "      <td>1.237668e+18</td>\n",
       "      <td>224.587407</td>\n",
       "      <td>15.700707</td>\n",
       "      <td>21.16916</td>\n",
       "      <td>19.26997</td>\n",
       "      <td>18.20428</td>\n",
       "      <td>17.69034</td>\n",
       "      <td>17.35221</td>\n",
       "      <td>5314</td>\n",
       "      <td>301</td>\n",
       "      <td>4</td>\n",
       "      <td>308</td>\n",
       "      <td>3.112008e+18</td>\n",
       "      <td>0.143366</td>\n",
       "      <td>2764</td>\n",
       "      <td>54535</td>\n",
       "      <td>74</td>\n",
       "      <td>1</td>\n",
       "    </tr>\n",
       "    <tr>\n",
       "      <th>81037</th>\n",
       "      <td>1.237661e+18</td>\n",
       "      <td>212.268621</td>\n",
       "      <td>46.660365</td>\n",
       "      <td>25.35039</td>\n",
       "      <td>21.63757</td>\n",
       "      <td>19.91386</td>\n",
       "      <td>19.07254</td>\n",
       "      <td>18.62482</td>\n",
       "      <td>3650</td>\n",
       "      <td>301</td>\n",
       "      <td>4</td>\n",
       "      <td>131</td>\n",
       "      <td>7.601080e+18</td>\n",
       "      <td>0.455040</td>\n",
       "      <td>6751</td>\n",
       "      <td>56368</td>\n",
       "      <td>470</td>\n",
       "      <td>1</td>\n",
       "    </tr>\n",
       "    <tr>\n",
       "      <th>81038</th>\n",
       "      <td>1.237661e+18</td>\n",
       "      <td>196.896053</td>\n",
       "      <td>49.464643</td>\n",
       "      <td>22.62171</td>\n",
       "      <td>21.79745</td>\n",
       "      <td>20.60115</td>\n",
       "      <td>20.00959</td>\n",
       "      <td>19.28075</td>\n",
       "      <td>3650</td>\n",
       "      <td>301</td>\n",
       "      <td>4</td>\n",
       "      <td>60</td>\n",
       "      <td>8.343152e+18</td>\n",
       "      <td>0.542944</td>\n",
       "      <td>7410</td>\n",
       "      <td>57104</td>\n",
       "      <td>851</td>\n",
       "      <td>1</td>\n",
       "    </tr>\n",
       "  </tbody>\n",
       "</table>\n",
       "<p>81039 rows × 18 columns</p>\n",
       "</div>"
      ],
      "text/plain": [
       "             obj_ID       alpha      delta         u         g         r  \\\n",
       "0      1.237661e+18  135.689107  32.494632  23.87882  22.27530  20.39501   \n",
       "1      1.237665e+18  144.826101  31.274185  24.77759  22.83188  22.58444   \n",
       "2      1.237661e+18  142.188790  35.582444  25.26307  22.66389  20.60976   \n",
       "3      1.237663e+18  338.741038  -0.402828  22.13682  23.77656  21.61162   \n",
       "4      1.237680e+18  345.282593  21.183866  19.43718  17.58028  16.49747   \n",
       "...             ...         ...        ...       ...       ...       ...   \n",
       "81034  1.237679e+18   39.620709  -2.594074  22.16759  22.97586  21.90404   \n",
       "81035  1.237679e+18   29.493819  19.798874  22.69118  22.38628  20.45003   \n",
       "81036  1.237668e+18  224.587407  15.700707  21.16916  19.26997  18.20428   \n",
       "81037  1.237661e+18  212.268621  46.660365  25.35039  21.63757  19.91386   \n",
       "81038  1.237661e+18  196.896053  49.464643  22.62171  21.79745  20.60115   \n",
       "\n",
       "              i         z  run_ID  rerun_ID  cam_col  field_ID   spec_obj_ID  \\\n",
       "0      19.16573  18.79371    3606       301        2        79  6.543777e+18   \n",
       "1      21.16812  21.61427    4518       301        5       119  1.176014e+19   \n",
       "2      19.34857  18.94827    3606       301        2       120  5.152200e+18   \n",
       "3      20.50454  19.25010    4192       301        3       214  1.030107e+19   \n",
       "4      15.97711  15.54461    8102       301        3       137  6.891865e+18   \n",
       "...         ...       ...     ...       ...      ...       ...           ...   \n",
       "81034  21.30548  20.73569    7778       301        2       581  1.055431e+19   \n",
       "81035  19.75759  19.41526    7917       301        1       289  8.586351e+18   \n",
       "81036  17.69034  17.35221    5314       301        4       308  3.112008e+18   \n",
       "81037  19.07254  18.62482    3650       301        4       131  7.601080e+18   \n",
       "81038  20.00959  19.28075    3650       301        4        60  8.343152e+18   \n",
       "\n",
       "       redshift  plate    MJD  fiber_ID  Galaxy  \n",
       "0      0.634794   5812  56354       171       1  \n",
       "1      0.779136  10445  58158       427       1  \n",
       "2      0.644195   4576  55592       299       1  \n",
       "3      0.932346   9149  58039       775       1  \n",
       "4      0.116123   6121  56187       842       1  \n",
       "...         ...    ...    ...       ...     ...  \n",
       "81034  0.000000   9374  57749       438       1  \n",
       "81035  0.404895   7626  56934       866       1  \n",
       "81036  0.143366   2764  54535        74       1  \n",
       "81037  0.455040   6751  56368       470       1  \n",
       "81038  0.542944   7410  57104       851       1  \n",
       "\n",
       "[81039 rows x 18 columns]"
      ]
     },
     "execution_count": 24,
     "metadata": {},
     "output_type": "execute_result"
    }
   ],
   "source": [
    "#reset df index and view the df \n",
    "dfo = dfo.reset_index(drop=True)\n",
    "dfo"
   ]
  },
  {
   "cell_type": "code",
   "execution_count": 25,
   "id": "16a056c7",
   "metadata": {},
   "outputs": [
    {
     "data": {
      "text/plain": [
       "6187"
      ]
     },
     "execution_count": 25,
     "metadata": {},
     "output_type": "execute_result"
    }
   ],
   "source": [
    "#Detect Outliers \n",
    "clf = LocalOutlierFactor()\n",
    "y_pred = clf.fit_predict(dfo) \n",
    "x_score = clf.negative_outlier_factor_\n",
    "outlier_score = pd.DataFrame()\n",
    "outlier_score[\"score\"] = x_score\n",
    "threshold2 = -3                                            \n",
    "filtre2 = outlier_score[\"score\"] < threshold2\n",
    "outlier_index = outlier_score[filtre2].index.tolist()\n",
    "len(outlier_index)"
   ]
  },
  {
   "cell_type": "code",
   "execution_count": 26,
   "id": "272473c5",
   "metadata": {},
   "outputs": [],
   "source": [
    "#Drop outliers \n",
    "dfo.drop(outlier_index, inplace=True)"
   ]
  },
  {
   "cell_type": "code",
   "execution_count": null,
   "id": "032ae776-dbde-43b6-b1e6-e5322115e1cd",
   "metadata": {},
   "outputs": [],
   "source": [
    "\"\"\"\n",
    "A new dataframe was added where galaxy, star and quasar are all response variables. All observations for quasar were then dropped as well as\n",
    "unncessary columns which were: class, quasar and star. Then, 11575 outliers were detected using a threshold of -1.5. These outliers were then\n",
    "dropped which made the total observations after dropping both quasar and the outliers turn out to 69,464.\n",
    "\"\"\""
   ]
  },
  {
   "cell_type": "code",
   "execution_count": 19,
   "id": "cd85e787",
   "metadata": {},
   "outputs": [
    {
     "data": {
      "image/png": "[encoded data removed]",
      "text/plain": [
       "<Figure size 1440x720 with 2 Axes>"
      ]
     },
     "metadata": {},
     "output_type": "display_data"
    }
   ],
   "source": [
    "#check multicollinearity\n",
    "CorrelationMatrix = dfo.corr().round(2)\n",
    "plt.figure(figsize= (20, 10)) #(width,hight)\n",
    "plt.title('Correlation Matrix')\n",
    "sns.heatmap(data= CorrelationMatrix,annot=True)\n",
    "plt.show()"
   ]
  },
  {
   "cell_type": "code",
   "execution_count": 20,
   "id": "4ea9de23",
   "metadata": {},
   "outputs": [
    {
     "data": {
      "text/plain": [
       "cam_col       -0.033525\n",
       "delta          0.000808\n",
       "z              0.018705\n",
       "alpha          0.020109\n",
       "field_ID       0.028314\n",
       "obj_ID         0.046324\n",
       "run_ID         0.046327\n",
       "fiber_ID       0.055189\n",
       "i              0.066778\n",
       "MJD            0.067455\n",
       "plate          0.082958\n",
       "spec_obj_ID    0.082959\n",
       "r              0.134526\n",
       "g              0.247897\n",
       "u              0.255121\n",
       "redshift       0.628167\n",
       "Galaxy         1.000000\n",
       "rerun_ID            NaN\n",
       "Name: Galaxy, dtype: float64"
      ]
     },
     "execution_count": 20,
     "metadata": {},
     "output_type": "execute_result"
    }
   ],
   "source": [
    "corr=dfo.corr()\n",
    "corr[\"Galaxy\"].sort_values()"
   ]
  },
  {
   "cell_type": "code",
   "execution_count": 27,
   "id": "081d7730",
   "metadata": {},
   "outputs": [],
   "source": [
    "df = dfo.drop(['obj_ID','alpha','delta','run_ID','rerun_ID','cam_col','field_ID','fiber_ID'], axis = 1)"
   ]
  },
  {
   "cell_type": "code",
   "execution_count": 28,
   "id": "d9ba9ca4",
   "metadata": {},
   "outputs": [
    {
     "data": {
      "text/html": [
       "<div>\n",
       "<style scoped>\n",
       "    .dataframe tbody tr th:only-of-type {\n",
       "        vertical-align: middle;\n",
       "    }\n",
       "\n",
       "    .dataframe tbody tr th {\n",
       "        vertical-align: top;\n",
       "    }\n",
       "\n",
       "    .dataframe thead th {\n",
       "        text-align: right;\n",
       "    }\n",
       "</style>\n",
       "<table border=\"1\" class=\"dataframe\">\n",
       "  <thead>\n",
       "    <tr style=\"text-align: right;\">\n",
       "      <th></th>\n",
       "      <th>u</th>\n",
       "      <th>g</th>\n",
       "      <th>r</th>\n",
       "      <th>i</th>\n",
       "      <th>z</th>\n",
       "      <th>spec_obj_ID</th>\n",
       "      <th>redshift</th>\n",
       "      <th>plate</th>\n",
       "      <th>MJD</th>\n",
       "      <th>Galaxy</th>\n",
       "    </tr>\n",
       "  </thead>\n",
       "  <tbody>\n",
       "    <tr>\n",
       "      <th>0</th>\n",
       "      <td>0.697326</td>\n",
       "      <td>0.774785</td>\n",
       "      <td>0.500933</td>\n",
       "      <td>0.220115</td>\n",
       "      <td>0.213108</td>\n",
       "      <td>0.376804</td>\n",
       "      <td>1.095904</td>\n",
       "      <td>0.376829</td>\n",
       "      <td>0.559617</td>\n",
       "      <td>1</td>\n",
       "    </tr>\n",
       "    <tr>\n",
       "      <th>1</th>\n",
       "      <td>1.076911</td>\n",
       "      <td>1.030111</td>\n",
       "      <td>1.643614</td>\n",
       "      <td>1.376044</td>\n",
       "      <td>1.867630</td>\n",
       "      <td>2.006428</td>\n",
       "      <td>1.586803</td>\n",
       "      <td>2.006441</td>\n",
       "      <td>1.572096</td>\n",
       "      <td>1</td>\n",
       "    </tr>\n",
       "    <tr>\n",
       "      <th>2</th>\n",
       "      <td>1.281948</td>\n",
       "      <td>0.953047</td>\n",
       "      <td>0.613012</td>\n",
       "      <td>0.325664</td>\n",
       "      <td>0.303772</td>\n",
       "      <td>-0.057933</td>\n",
       "      <td>1.127876</td>\n",
       "      <td>-0.057922</td>\n",
       "      <td>0.131951</td>\n",
       "      <td>1</td>\n",
       "    </tr>\n",
       "    <tr>\n",
       "      <th>3</th>\n",
       "      <td>-0.038388</td>\n",
       "      <td>1.463476</td>\n",
       "      <td>1.135891</td>\n",
       "      <td>0.992976</td>\n",
       "      <td>0.480823</td>\n",
       "      <td>1.550606</td>\n",
       "      <td>2.107859</td>\n",
       "      <td>1.550586</td>\n",
       "      <td>1.505308</td>\n",
       "      <td>1</td>\n",
       "    </tr>\n",
       "    <tr>\n",
       "      <th>4</th>\n",
       "      <td>-1.178550</td>\n",
       "      <td>-1.379018</td>\n",
       "      <td>-1.533225</td>\n",
       "      <td>-1.620594</td>\n",
       "      <td>-1.692793</td>\n",
       "      <td>0.485549</td>\n",
       "      <td>-0.668062</td>\n",
       "      <td>0.485517</td>\n",
       "      <td>0.465889</td>\n",
       "      <td>1</td>\n",
       "    </tr>\n",
       "    <tr>\n",
       "      <th>...</th>\n",
       "      <td>...</td>\n",
       "      <td>...</td>\n",
       "      <td>...</td>\n",
       "      <td>...</td>\n",
       "      <td>...</td>\n",
       "      <td>...</td>\n",
       "      <td>...</td>\n",
       "      <td>...</td>\n",
       "      <td>...</td>\n",
       "      <td>...</td>\n",
       "    </tr>\n",
       "    <tr>\n",
       "      <th>74847</th>\n",
       "      <td>-0.025393</td>\n",
       "      <td>1.096161</td>\n",
       "      <td>1.288508</td>\n",
       "      <td>1.455339</td>\n",
       "      <td>1.352261</td>\n",
       "      <td>1.629718</td>\n",
       "      <td>-1.062987</td>\n",
       "      <td>1.629728</td>\n",
       "      <td>1.342548</td>\n",
       "      <td>1</td>\n",
       "    </tr>\n",
       "    <tr>\n",
       "      <th>74848</th>\n",
       "      <td>0.195740</td>\n",
       "      <td>0.825696</td>\n",
       "      <td>0.529648</td>\n",
       "      <td>0.561781</td>\n",
       "      <td>0.577705</td>\n",
       "      <td>1.014916</td>\n",
       "      <td>0.314034</td>\n",
       "      <td>1.014886</td>\n",
       "      <td>0.885136</td>\n",
       "      <td>1</td>\n",
       "    </tr>\n",
       "    <tr>\n",
       "      <th>74849</th>\n",
       "      <td>-0.447068</td>\n",
       "      <td>-0.603887</td>\n",
       "      <td>-0.642427</td>\n",
       "      <td>-0.631590</td>\n",
       "      <td>-0.632467</td>\n",
       "      <td>-0.695302</td>\n",
       "      <td>-0.575410</td>\n",
       "      <td>-0.695275</td>\n",
       "      <td>-0.461281</td>\n",
       "      <td>1</td>\n",
       "    </tr>\n",
       "    <tr>\n",
       "      <th>74850</th>\n",
       "      <td>1.318826</td>\n",
       "      <td>0.482231</td>\n",
       "      <td>0.249817</td>\n",
       "      <td>0.166319</td>\n",
       "      <td>0.114038</td>\n",
       "      <td>0.707112</td>\n",
       "      <td>0.484572</td>\n",
       "      <td>0.707113</td>\n",
       "      <td>0.567474</td>\n",
       "      <td>1</td>\n",
       "    </tr>\n",
       "    <tr>\n",
       "      <th>74851</th>\n",
       "      <td>0.166400</td>\n",
       "      <td>0.555575</td>\n",
       "      <td>0.608519</td>\n",
       "      <td>0.707254</td>\n",
       "      <td>0.498802</td>\n",
       "      <td>0.938940</td>\n",
       "      <td>0.783530</td>\n",
       "      <td>0.938910</td>\n",
       "      <td>0.980547</td>\n",
       "      <td>1</td>\n",
       "    </tr>\n",
       "  </tbody>\n",
       "</table>\n",
       "<p>74852 rows × 10 columns</p>\n",
       "</div>"
      ],
      "text/plain": [
       "              u         g         r         i         z  spec_obj_ID  \\\n",
       "0      0.697326  0.774785  0.500933  0.220115  0.213108     0.376804   \n",
       "1      1.076911  1.030111  1.643614  1.376044  1.867630     2.006428   \n",
       "2      1.281948  0.953047  0.613012  0.325664  0.303772    -0.057933   \n",
       "3     -0.038388  1.463476  1.135891  0.992976  0.480823     1.550606   \n",
       "4     -1.178550 -1.379018 -1.533225 -1.620594 -1.692793     0.485549   \n",
       "...         ...       ...       ...       ...       ...          ...   \n",
       "74847 -0.025393  1.096161  1.288508  1.455339  1.352261     1.629718   \n",
       "74848  0.195740  0.825696  0.529648  0.561781  0.577705     1.014916   \n",
       "74849 -0.447068 -0.603887 -0.642427 -0.631590 -0.632467    -0.695302   \n",
       "74850  1.318826  0.482231  0.249817  0.166319  0.114038     0.707112   \n",
       "74851  0.166400  0.555575  0.608519  0.707254  0.498802     0.938940   \n",
       "\n",
       "       redshift     plate       MJD  Galaxy  \n",
       "0      1.095904  0.376829  0.559617       1  \n",
       "1      1.586803  2.006441  1.572096       1  \n",
       "2      1.127876 -0.057922  0.131951       1  \n",
       "3      2.107859  1.550586  1.505308       1  \n",
       "4     -0.668062  0.485517  0.465889       1  \n",
       "...         ...       ...       ...     ...  \n",
       "74847 -1.062987  1.629728  1.342548       1  \n",
       "74848  0.314034  1.014886  0.885136       1  \n",
       "74849 -0.575410 -0.695275 -0.461281       1  \n",
       "74850  0.484572  0.707113  0.567474       1  \n",
       "74851  0.783530  0.938910  0.980547       1  \n",
       "\n",
       "[74852 rows x 10 columns]"
      ]
     },
     "execution_count": 28,
     "metadata": {},
     "output_type": "execute_result"
    }
   ],
   "source": [
    "#transform the data using standard scaler. this will normalise and center the data around zero\n",
    "from sklearn.preprocessing import StandardScaler\n",
    "\n",
    "Y = df['Galaxy']\n",
    "X = df.drop(['Galaxy'],axis=1)\n",
    "sc = StandardScaler()\n",
    "X = pd.DataFrame(sc.fit_transform(X), index=X.index, columns=X.columns)\n",
    "Y_data = Y.to_numpy()\n",
    "df = X\n",
    "df['Galaxy'] = Y_data\n",
    "df.reset_index(drop=True)"
   ]
  },
  {
   "cell_type": "code",
   "execution_count": 29,
   "id": "8b0f9d32",
   "metadata": {},
   "outputs": [
    {
     "data": {
      "text/html": [
       "<div>\n",
       "<style scoped>\n",
       "    .dataframe tbody tr th:only-of-type {\n",
       "        vertical-align: middle;\n",
       "    }\n",
       "\n",
       "    .dataframe tbody tr th {\n",
       "        vertical-align: top;\n",
       "    }\n",
       "\n",
       "    .dataframe thead th {\n",
       "        text-align: right;\n",
       "    }\n",
       "</style>\n",
       "<table border=\"1\" class=\"dataframe\">\n",
       "  <thead>\n",
       "    <tr style=\"text-align: right;\">\n",
       "      <th></th>\n",
       "      <th>u</th>\n",
       "      <th>g</th>\n",
       "      <th>r</th>\n",
       "      <th>i</th>\n",
       "      <th>z</th>\n",
       "      <th>spec_obj_ID</th>\n",
       "      <th>redshift</th>\n",
       "      <th>plate</th>\n",
       "      <th>MJD</th>\n",
       "      <th>Galaxy</th>\n",
       "    </tr>\n",
       "  </thead>\n",
       "  <tbody>\n",
       "    <tr>\n",
       "      <th>0</th>\n",
       "      <td>0.697326</td>\n",
       "      <td>0.774785</td>\n",
       "      <td>0.500933</td>\n",
       "      <td>0.220115</td>\n",
       "      <td>0.213108</td>\n",
       "      <td>0.376804</td>\n",
       "      <td>1.095904</td>\n",
       "      <td>0.376829</td>\n",
       "      <td>0.559617</td>\n",
       "      <td>1</td>\n",
       "    </tr>\n",
       "    <tr>\n",
       "      <th>1</th>\n",
       "      <td>1.076911</td>\n",
       "      <td>1.030111</td>\n",
       "      <td>1.643614</td>\n",
       "      <td>1.376044</td>\n",
       "      <td>1.867630</td>\n",
       "      <td>2.006428</td>\n",
       "      <td>1.586803</td>\n",
       "      <td>2.006441</td>\n",
       "      <td>1.572096</td>\n",
       "      <td>1</td>\n",
       "    </tr>\n",
       "    <tr>\n",
       "      <th>2</th>\n",
       "      <td>1.281948</td>\n",
       "      <td>0.953047</td>\n",
       "      <td>0.613012</td>\n",
       "      <td>0.325664</td>\n",
       "      <td>0.303772</td>\n",
       "      <td>-0.057933</td>\n",
       "      <td>1.127876</td>\n",
       "      <td>-0.057922</td>\n",
       "      <td>0.131951</td>\n",
       "      <td>1</td>\n",
       "    </tr>\n",
       "    <tr>\n",
       "      <th>3</th>\n",
       "      <td>-0.038388</td>\n",
       "      <td>1.463476</td>\n",
       "      <td>1.135891</td>\n",
       "      <td>0.992976</td>\n",
       "      <td>0.480823</td>\n",
       "      <td>1.550606</td>\n",
       "      <td>2.107859</td>\n",
       "      <td>1.550586</td>\n",
       "      <td>1.505308</td>\n",
       "      <td>1</td>\n",
       "    </tr>\n",
       "    <tr>\n",
       "      <th>4</th>\n",
       "      <td>-1.178550</td>\n",
       "      <td>-1.379018</td>\n",
       "      <td>-1.533225</td>\n",
       "      <td>-1.620594</td>\n",
       "      <td>-1.692793</td>\n",
       "      <td>0.485549</td>\n",
       "      <td>-0.668062</td>\n",
       "      <td>0.485517</td>\n",
       "      <td>0.465889</td>\n",
       "      <td>1</td>\n",
       "    </tr>\n",
       "    <tr>\n",
       "      <th>...</th>\n",
       "      <td>...</td>\n",
       "      <td>...</td>\n",
       "      <td>...</td>\n",
       "      <td>...</td>\n",
       "      <td>...</td>\n",
       "      <td>...</td>\n",
       "      <td>...</td>\n",
       "      <td>...</td>\n",
       "      <td>...</td>\n",
       "      <td>...</td>\n",
       "    </tr>\n",
       "    <tr>\n",
       "      <th>74847</th>\n",
       "      <td>-0.025393</td>\n",
       "      <td>1.096161</td>\n",
       "      <td>1.288508</td>\n",
       "      <td>1.455339</td>\n",
       "      <td>1.352261</td>\n",
       "      <td>1.629718</td>\n",
       "      <td>-1.062987</td>\n",
       "      <td>1.629728</td>\n",
       "      <td>1.342548</td>\n",
       "      <td>1</td>\n",
       "    </tr>\n",
       "    <tr>\n",
       "      <th>74848</th>\n",
       "      <td>0.195740</td>\n",
       "      <td>0.825696</td>\n",
       "      <td>0.529648</td>\n",
       "      <td>0.561781</td>\n",
       "      <td>0.577705</td>\n",
       "      <td>1.014916</td>\n",
       "      <td>0.314034</td>\n",
       "      <td>1.014886</td>\n",
       "      <td>0.885136</td>\n",
       "      <td>1</td>\n",
       "    </tr>\n",
       "    <tr>\n",
       "      <th>74849</th>\n",
       "      <td>-0.447068</td>\n",
       "      <td>-0.603887</td>\n",
       "      <td>-0.642427</td>\n",
       "      <td>-0.631590</td>\n",
       "      <td>-0.632467</td>\n",
       "      <td>-0.695302</td>\n",
       "      <td>-0.575410</td>\n",
       "      <td>-0.695275</td>\n",
       "      <td>-0.461281</td>\n",
       "      <td>1</td>\n",
       "    </tr>\n",
       "    <tr>\n",
       "      <th>74850</th>\n",
       "      <td>1.318826</td>\n",
       "      <td>0.482231</td>\n",
       "      <td>0.249817</td>\n",
       "      <td>0.166319</td>\n",
       "      <td>0.114038</td>\n",
       "      <td>0.707112</td>\n",
       "      <td>0.484572</td>\n",
       "      <td>0.707113</td>\n",
       "      <td>0.567474</td>\n",
       "      <td>1</td>\n",
       "    </tr>\n",
       "    <tr>\n",
       "      <th>74851</th>\n",
       "      <td>0.166400</td>\n",
       "      <td>0.555575</td>\n",
       "      <td>0.608519</td>\n",
       "      <td>0.707254</td>\n",
       "      <td>0.498802</td>\n",
       "      <td>0.938940</td>\n",
       "      <td>0.783530</td>\n",
       "      <td>0.938910</td>\n",
       "      <td>0.980547</td>\n",
       "      <td>1</td>\n",
       "    </tr>\n",
       "  </tbody>\n",
       "</table>\n",
       "<p>74852 rows × 10 columns</p>\n",
       "</div>"
      ],
      "text/plain": [
       "              u         g         r         i         z  spec_obj_ID  \\\n",
       "0      0.697326  0.774785  0.500933  0.220115  0.213108     0.376804   \n",
       "1      1.076911  1.030111  1.643614  1.376044  1.867630     2.006428   \n",
       "2      1.281948  0.953047  0.613012  0.325664  0.303772    -0.057933   \n",
       "3     -0.038388  1.463476  1.135891  0.992976  0.480823     1.550606   \n",
       "4     -1.178550 -1.379018 -1.533225 -1.620594 -1.692793     0.485549   \n",
       "...         ...       ...       ...       ...       ...          ...   \n",
       "74847 -0.025393  1.096161  1.288508  1.455339  1.352261     1.629718   \n",
       "74848  0.195740  0.825696  0.529648  0.561781  0.577705     1.014916   \n",
       "74849 -0.447068 -0.603887 -0.642427 -0.631590 -0.632467    -0.695302   \n",
       "74850  1.318826  0.482231  0.249817  0.166319  0.114038     0.707112   \n",
       "74851  0.166400  0.555575  0.608519  0.707254  0.498802     0.938940   \n",
       "\n",
       "       redshift     plate       MJD  Galaxy  \n",
       "0      1.095904  0.376829  0.559617       1  \n",
       "1      1.586803  2.006441  1.572096       1  \n",
       "2      1.127876 -0.057922  0.131951       1  \n",
       "3      2.107859  1.550586  1.505308       1  \n",
       "4     -0.668062  0.485517  0.465889       1  \n",
       "...         ...       ...       ...     ...  \n",
       "74847 -1.062987  1.629728  1.342548       1  \n",
       "74848  0.314034  1.014886  0.885136       1  \n",
       "74849 -0.575410 -0.695275 -0.461281       1  \n",
       "74850  0.484572  0.707113  0.567474       1  \n",
       "74851  0.783530  0.938910  0.980547       1  \n",
       "\n",
       "[74852 rows x 10 columns]"
      ]
     },
     "execution_count": 29,
     "metadata": {},
     "output_type": "execute_result"
    }
   ],
   "source": [
    "#reset df index and view the df \n",
    "df = df.reset_index(drop=True)\n",
    "df"
   ]
  },
  {
   "cell_type": "code",
   "execution_count": 20,
   "id": "b26f49d9",
   "metadata": {},
   "outputs": [
    {
     "data": {
      "image/png": "[encoded data removed]",
      "text/plain": [
       "<Figure size 1440x720 with 2 Axes>"
      ]
     },
     "metadata": {},
     "output_type": "display_data"
    }
   ],
   "source": [
    "#check multicollinearity after drop \n",
    "CorrelationMatrix = df.corr().round(2)\n",
    "plt.figure(figsize= (20, 10)) #(width,hight)\n",
    "plt.title('Correlation Matrix')\n",
    "sns.heatmap(data= CorrelationMatrix,annot=True)\n",
    "plt.show()"
   ]
  },
  {
   "cell_type": "code",
   "execution_count": null,
   "id": "c2de3610-e1fa-4cff-8e96-ee7d5e296575",
   "metadata": {},
   "outputs": [],
   "source": [
    "\"\"\"\n",
    "A correlation heatmap was used to check for colinearity between variables. After looking at this heatmap, the variables obj_ID','alpha','delta',\n",
    "'run_ID','rerun_ID','cam_col','field_ID','fiber_ID' were all dropped. There was colinearity between these variables and so they were dropped.\n",
    "A standard scaler was then used to normalize the data around zero. After the drop, another heatmap was created to check correlation again.\n",
    "\"\"\"\n"
   ]
  },
  {
   "cell_type": "markdown",
   "id": "e33b5f6b",
   "metadata": {},
   "source": [
    "# Split data into Train/validation and test "
   ]
  },
  {
   "cell_type": "code",
   "execution_count": 30,
   "id": "5446db20",
   "metadata": {},
   "outputs": [],
   "source": [
    "#preform train/validation and test split \n",
    "split = StratifiedShuffleSplit(n_splits=1, test_size=0.1,random_state=1)\n",
    "for train_validation_indices, test_indices in split.split(df,df['Galaxy']):\n",
    "    strat_train_validation = df.loc[train_validation_indices]\n",
    "    strat_test = df.loc[test_indices]"
   ]
  },
  {
   "cell_type": "code",
   "execution_count": 31,
   "id": "9525f963",
   "metadata": {},
   "outputs": [],
   "source": [
    "strat_train_validation=strat_train_validation.reset_index(drop=True)"
   ]
  },
  {
   "cell_type": "code",
   "execution_count": 23,
   "id": "35a4683f",
   "metadata": {},
   "outputs": [
    {
     "data": {
      "text/html": [
       "<div>\n",
       "<style scoped>\n",
       "    .dataframe tbody tr th:only-of-type {\n",
       "        vertical-align: middle;\n",
       "    }\n",
       "\n",
       "    .dataframe tbody tr th {\n",
       "        vertical-align: top;\n",
       "    }\n",
       "\n",
       "    .dataframe thead th {\n",
       "        text-align: right;\n",
       "    }\n",
       "</style>\n",
       "<table border=\"1\" class=\"dataframe\">\n",
       "  <thead>\n",
       "    <tr style=\"text-align: right;\">\n",
       "      <th></th>\n",
       "      <th>u</th>\n",
       "      <th>g</th>\n",
       "      <th>r</th>\n",
       "      <th>i</th>\n",
       "      <th>z</th>\n",
       "      <th>spec_obj_ID</th>\n",
       "      <th>redshift</th>\n",
       "      <th>plate</th>\n",
       "      <th>MJD</th>\n",
       "      <th>Galaxy</th>\n",
       "    </tr>\n",
       "  </thead>\n",
       "  <tbody>\n",
       "    <tr>\n",
       "      <th>0</th>\n",
       "      <td>-0.040403</td>\n",
       "      <td>-0.045205</td>\n",
       "      <td>-0.897341</td>\n",
       "      <td>-0.879775</td>\n",
       "      <td>-0.039672</td>\n",
       "      <td>-0.688631</td>\n",
       "      <td>-0.480066</td>\n",
       "      <td>-0.688615</td>\n",
       "      <td>-0.609776</td>\n",
       "      <td>1</td>\n",
       "    </tr>\n",
       "    <tr>\n",
       "      <th>1</th>\n",
       "      <td>0.120193</td>\n",
       "      <td>0.046828</td>\n",
       "      <td>0.641149</td>\n",
       "      <td>0.458840</td>\n",
       "      <td>0.021074</td>\n",
       "      <td>0.497282</td>\n",
       "      <td>0.842045</td>\n",
       "      <td>0.497263</td>\n",
       "      <td>0.485547</td>\n",
       "      <td>1</td>\n",
       "    </tr>\n",
       "    <tr>\n",
       "      <th>2</th>\n",
       "      <td>-0.069027</td>\n",
       "      <td>-0.072539</td>\n",
       "      <td>-1.226420</td>\n",
       "      <td>-1.216538</td>\n",
       "      <td>-0.054037</td>\n",
       "      <td>-1.421657</td>\n",
       "      <td>-0.906288</td>\n",
       "      <td>-1.421652</td>\n",
       "      <td>-1.769995</td>\n",
       "      <td>1</td>\n",
       "    </tr>\n",
       "    <tr>\n",
       "      <th>3</th>\n",
       "      <td>0.048526</td>\n",
       "      <td>0.031567</td>\n",
       "      <td>0.264507</td>\n",
       "      <td>0.193094</td>\n",
       "      <td>0.008243</td>\n",
       "      <td>0.066019</td>\n",
       "      <td>0.543420</td>\n",
       "      <td>0.066002</td>\n",
       "      <td>0.206214</td>\n",
       "      <td>1</td>\n",
       "    </tr>\n",
       "    <tr>\n",
       "      <th>4</th>\n",
       "      <td>-0.112573</td>\n",
       "      <td>-0.112916</td>\n",
       "      <td>-1.944004</td>\n",
       "      <td>-2.031779</td>\n",
       "      <td>-0.096376</td>\n",
       "      <td>-1.164092</td>\n",
       "      <td>-0.890254</td>\n",
       "      <td>-1.164099</td>\n",
       "      <td>-1.373286</td>\n",
       "      <td>1</td>\n",
       "    </tr>\n",
       "    <tr>\n",
       "      <th>...</th>\n",
       "      <td>...</td>\n",
       "      <td>...</td>\n",
       "      <td>...</td>\n",
       "      <td>...</td>\n",
       "      <td>...</td>\n",
       "      <td>...</td>\n",
       "      <td>...</td>\n",
       "      <td>...</td>\n",
       "      <td>...</td>\n",
       "      <td>...</td>\n",
       "    </tr>\n",
       "    <tr>\n",
       "      <th>72930</th>\n",
       "      <td>0.055379</td>\n",
       "      <td>0.063306</td>\n",
       "      <td>0.838664</td>\n",
       "      <td>0.698557</td>\n",
       "      <td>0.037154</td>\n",
       "      <td>-0.301914</td>\n",
       "      <td>0.729361</td>\n",
       "      <td>-0.301931</td>\n",
       "      <td>-0.040389</td>\n",
       "      <td>1</td>\n",
       "    </tr>\n",
       "    <tr>\n",
       "      <th>72931</th>\n",
       "      <td>0.071055</td>\n",
       "      <td>0.058694</td>\n",
       "      <td>0.705888</td>\n",
       "      <td>0.503177</td>\n",
       "      <td>0.020267</td>\n",
       "      <td>0.055001</td>\n",
       "      <td>0.850043</td>\n",
       "      <td>0.055035</td>\n",
       "      <td>0.325848</td>\n",
       "      <td>1</td>\n",
       "    </tr>\n",
       "    <tr>\n",
       "      <th>72932</th>\n",
       "      <td>0.028103</td>\n",
       "      <td>0.050402</td>\n",
       "      <td>0.684435</td>\n",
       "      <td>0.619221</td>\n",
       "      <td>0.030640</td>\n",
       "      <td>-0.295574</td>\n",
       "      <td>0.480045</td>\n",
       "      <td>-0.295563</td>\n",
       "      <td>-0.057318</td>\n",
       "      <td>1</td>\n",
       "    </tr>\n",
       "    <tr>\n",
       "      <th>72933</th>\n",
       "      <td>0.079300</td>\n",
       "      <td>0.041432</td>\n",
       "      <td>0.412951</td>\n",
       "      <td>0.285625</td>\n",
       "      <td>0.014104</td>\n",
       "      <td>-0.147696</td>\n",
       "      <td>0.705695</td>\n",
       "      <td>-0.147682</td>\n",
       "      <td>0.259823</td>\n",
       "      <td>1</td>\n",
       "    </tr>\n",
       "    <tr>\n",
       "      <th>72934</th>\n",
       "      <td>0.035529</td>\n",
       "      <td>0.009783</td>\n",
       "      <td>-0.185303</td>\n",
       "      <td>-0.234294</td>\n",
       "      <td>-0.006401</td>\n",
       "      <td>-1.159153</td>\n",
       "      <td>0.372891</td>\n",
       "      <td>-1.159146</td>\n",
       "      <td>-1.293154</td>\n",
       "      <td>1</td>\n",
       "    </tr>\n",
       "  </tbody>\n",
       "</table>\n",
       "<p>72935 rows × 10 columns</p>\n",
       "</div>"
      ],
      "text/plain": [
       "              u         g         r         i         z  spec_obj_ID  \\\n",
       "0     -0.040403 -0.045205 -0.897341 -0.879775 -0.039672    -0.688631   \n",
       "1      0.120193  0.046828  0.641149  0.458840  0.021074     0.497282   \n",
       "2     -0.069027 -0.072539 -1.226420 -1.216538 -0.054037    -1.421657   \n",
       "3      0.048526  0.031567  0.264507  0.193094  0.008243     0.066019   \n",
       "4     -0.112573 -0.112916 -1.944004 -2.031779 -0.096376    -1.164092   \n",
       "...         ...       ...       ...       ...       ...          ...   \n",
       "72930  0.055379  0.063306  0.838664  0.698557  0.037154    -0.301914   \n",
       "72931  0.071055  0.058694  0.705888  0.503177  0.020267     0.055001   \n",
       "72932  0.028103  0.050402  0.684435  0.619221  0.030640    -0.295574   \n",
       "72933  0.079300  0.041432  0.412951  0.285625  0.014104    -0.147696   \n",
       "72934  0.035529  0.009783 -0.185303 -0.234294 -0.006401    -1.159153   \n",
       "\n",
       "       redshift     plate       MJD  Galaxy  \n",
       "0     -0.480066 -0.688615 -0.609776       1  \n",
       "1      0.842045  0.497263  0.485547       1  \n",
       "2     -0.906288 -1.421652 -1.769995       1  \n",
       "3      0.543420  0.066002  0.206214       1  \n",
       "4     -0.890254 -1.164099 -1.373286       1  \n",
       "...         ...       ...       ...     ...  \n",
       "72930  0.729361 -0.301931 -0.040389       1  \n",
       "72931  0.850043  0.055035  0.325848       1  \n",
       "72932  0.480045 -0.295563 -0.057318       1  \n",
       "72933  0.705695 -0.147682  0.259823       1  \n",
       "72934  0.372891 -1.159146 -1.293154       1  \n",
       "\n",
       "[72935 rows x 10 columns]"
      ]
     },
     "execution_count": 23,
     "metadata": {},
     "output_type": "execute_result"
    }
   ],
   "source": [
    "strat_train_validation"
   ]
  },
  {
   "cell_type": "code",
   "execution_count": 32,
   "id": "05ea639d",
   "metadata": {},
   "outputs": [],
   "source": [
    "strat_test=strat_test.reset_index(drop=True)"
   ]
  },
  {
   "cell_type": "code",
   "execution_count": 25,
   "id": "02aeed38",
   "metadata": {},
   "outputs": [
    {
     "data": {
      "text/html": [
       "<div>\n",
       "<style scoped>\n",
       "    .dataframe tbody tr th:only-of-type {\n",
       "        vertical-align: middle;\n",
       "    }\n",
       "\n",
       "    .dataframe tbody tr th {\n",
       "        vertical-align: top;\n",
       "    }\n",
       "\n",
       "    .dataframe thead th {\n",
       "        text-align: right;\n",
       "    }\n",
       "</style>\n",
       "<table border=\"1\" class=\"dataframe\">\n",
       "  <thead>\n",
       "    <tr style=\"text-align: right;\">\n",
       "      <th></th>\n",
       "      <th>u</th>\n",
       "      <th>g</th>\n",
       "      <th>r</th>\n",
       "      <th>i</th>\n",
       "      <th>z</th>\n",
       "      <th>spec_obj_ID</th>\n",
       "      <th>redshift</th>\n",
       "      <th>plate</th>\n",
       "      <th>MJD</th>\n",
       "      <th>Galaxy</th>\n",
       "    </tr>\n",
       "  </thead>\n",
       "  <tbody>\n",
       "    <tr>\n",
       "      <th>0</th>\n",
       "      <td>0.068435</td>\n",
       "      <td>0.091449</td>\n",
       "      <td>1.729725</td>\n",
       "      <td>1.506555</td>\n",
       "      <td>0.046192</td>\n",
       "      <td>1.301758</td>\n",
       "      <td>1.556058</td>\n",
       "      <td>1.301763</td>\n",
       "      <td>1.421735</td>\n",
       "      <td>1</td>\n",
       "    </tr>\n",
       "    <tr>\n",
       "      <th>1</th>\n",
       "      <td>-0.075714</td>\n",
       "      <td>-0.025167</td>\n",
       "      <td>0.297537</td>\n",
       "      <td>0.862594</td>\n",
       "      <td>0.080117</td>\n",
       "      <td>-1.437912</td>\n",
       "      <td>-1.054238</td>\n",
       "      <td>-1.437926</td>\n",
       "      <td>-1.807240</td>\n",
       "      <td>0</td>\n",
       "    </tr>\n",
       "    <tr>\n",
       "      <th>2</th>\n",
       "      <td>0.118196</td>\n",
       "      <td>0.031165</td>\n",
       "      <td>0.275746</td>\n",
       "      <td>0.117817</td>\n",
       "      <td>0.004795</td>\n",
       "      <td>0.103180</td>\n",
       "      <td>0.690308</td>\n",
       "      <td>0.103149</td>\n",
       "      <td>0.203393</td>\n",
       "      <td>1</td>\n",
       "    </tr>\n",
       "    <tr>\n",
       "      <th>3</th>\n",
       "      <td>-0.047317</td>\n",
       "      <td>-0.055895</td>\n",
       "      <td>-0.997144</td>\n",
       "      <td>-0.963798</td>\n",
       "      <td>-0.045171</td>\n",
       "      <td>-1.340616</td>\n",
       "      <td>-0.569679</td>\n",
       "      <td>-1.340636</td>\n",
       "      <td>-1.656005</td>\n",
       "      <td>1</td>\n",
       "    </tr>\n",
       "    <tr>\n",
       "      <th>4</th>\n",
       "      <td>0.061937</td>\n",
       "      <td>0.035052</td>\n",
       "      <td>0.506260</td>\n",
       "      <td>0.474367</td>\n",
       "      <td>0.023511</td>\n",
       "      <td>-0.063137</td>\n",
       "      <td>0.903632</td>\n",
       "      <td>-0.063128</td>\n",
       "      <td>0.288603</td>\n",
       "      <td>1</td>\n",
       "    </tr>\n",
       "    <tr>\n",
       "      <th>...</th>\n",
       "      <td>...</td>\n",
       "      <td>...</td>\n",
       "      <td>...</td>\n",
       "      <td>...</td>\n",
       "      <td>...</td>\n",
       "      <td>...</td>\n",
       "      <td>...</td>\n",
       "      <td>...</td>\n",
       "      <td>...</td>\n",
       "      <td>...</td>\n",
       "    </tr>\n",
       "    <tr>\n",
       "      <th>8099</th>\n",
       "      <td>-0.057109</td>\n",
       "      <td>-0.046629</td>\n",
       "      <td>-0.608342</td>\n",
       "      <td>-0.410900</td>\n",
       "      <td>-0.010159</td>\n",
       "      <td>1.266055</td>\n",
       "      <td>-1.053550</td>\n",
       "      <td>1.266031</td>\n",
       "      <td>1.137324</td>\n",
       "      <td>0</td>\n",
       "    </tr>\n",
       "    <tr>\n",
       "      <th>8100</th>\n",
       "      <td>0.018635</td>\n",
       "      <td>0.042301</td>\n",
       "      <td>0.305509</td>\n",
       "      <td>0.175799</td>\n",
       "      <td>0.007331</td>\n",
       "      <td>-0.120115</td>\n",
       "      <td>0.729342</td>\n",
       "      <td>-0.120087</td>\n",
       "      <td>0.306661</td>\n",
       "      <td>1</td>\n",
       "    </tr>\n",
       "    <tr>\n",
       "      <th>8101</th>\n",
       "      <td>-0.088137</td>\n",
       "      <td>-0.068428</td>\n",
       "      <td>-0.879873</td>\n",
       "      <td>-0.724052</td>\n",
       "      <td>-0.026307</td>\n",
       "      <td>-1.148883</td>\n",
       "      <td>-0.853483</td>\n",
       "      <td>-1.148886</td>\n",
       "      <td>-1.258731</td>\n",
       "      <td>1</td>\n",
       "    </tr>\n",
       "    <tr>\n",
       "      <th>8102</th>\n",
       "      <td>0.142267</td>\n",
       "      <td>0.028545</td>\n",
       "      <td>0.181463</td>\n",
       "      <td>-0.028499</td>\n",
       "      <td>-0.004402</td>\n",
       "      <td>0.023179</td>\n",
       "      <td>0.729342</td>\n",
       "      <td>0.023194</td>\n",
       "      <td>0.189849</td>\n",
       "      <td>1</td>\n",
       "    </tr>\n",
       "    <tr>\n",
       "      <th>8103</th>\n",
       "      <td>0.066049</td>\n",
       "      <td>0.057262</td>\n",
       "      <td>0.802252</td>\n",
       "      <td>0.604696</td>\n",
       "      <td>0.033641</td>\n",
       "      <td>-0.182690</td>\n",
       "      <td>0.927147</td>\n",
       "      <td>-0.182707</td>\n",
       "      <td>0.075859</td>\n",
       "      <td>1</td>\n",
       "    </tr>\n",
       "  </tbody>\n",
       "</table>\n",
       "<p>8104 rows × 10 columns</p>\n",
       "</div>"
      ],
      "text/plain": [
       "             u         g         r         i         z  spec_obj_ID  redshift  \\\n",
       "0     0.068435  0.091449  1.729725  1.506555  0.046192     1.301758  1.556058   \n",
       "1    -0.075714 -0.025167  0.297537  0.862594  0.080117    -1.437912 -1.054238   \n",
       "2     0.118196  0.031165  0.275746  0.117817  0.004795     0.103180  0.690308   \n",
       "3    -0.047317 -0.055895 -0.997144 -0.963798 -0.045171    -1.340616 -0.569679   \n",
       "4     0.061937  0.035052  0.506260  0.474367  0.023511    -0.063137  0.903632   \n",
       "...        ...       ...       ...       ...       ...          ...       ...   \n",
       "8099 -0.057109 -0.046629 -0.608342 -0.410900 -0.010159     1.266055 -1.053550   \n",
       "8100  0.018635  0.042301  0.305509  0.175799  0.007331    -0.120115  0.729342   \n",
       "8101 -0.088137 -0.068428 -0.879873 -0.724052 -0.026307    -1.148883 -0.853483   \n",
       "8102  0.142267  0.028545  0.181463 -0.028499 -0.004402     0.023179  0.729342   \n",
       "8103  0.066049  0.057262  0.802252  0.604696  0.033641    -0.182690  0.927147   \n",
       "\n",
       "         plate       MJD  Galaxy  \n",
       "0     1.301763  1.421735       1  \n",
       "1    -1.437926 -1.807240       0  \n",
       "2     0.103149  0.203393       1  \n",
       "3    -1.340636 -1.656005       1  \n",
       "4    -0.063128  0.288603       1  \n",
       "...        ...       ...     ...  \n",
       "8099  1.266031  1.137324       0  \n",
       "8100 -0.120087  0.306661       1  \n",
       "8101 -1.148886 -1.258731       1  \n",
       "8102  0.023194  0.189849       1  \n",
       "8103 -0.182707  0.075859       1  \n",
       "\n",
       "[8104 rows x 10 columns]"
      ]
     },
     "execution_count": 25,
     "metadata": {},
     "output_type": "execute_result"
    }
   ],
   "source": [
    "strat_test"
   ]
  },
  {
   "cell_type": "code",
   "execution_count": null,
   "id": "0aab4b15-a623-400a-b4f8-82cba8292ecf",
   "metadata": {},
   "outputs": [],
   "source": [
    "\"\"\"\n",
    "Next, we split the data into a train/validation and test set. There are 62517 observations in the training set and 6946 observations in \n",
    "the test set.\n",
    "\"\"\""
   ]
  },
  {
   "cell_type": "markdown",
   "id": "31e49b0e",
   "metadata": {
    "tags": []
   },
   "source": [
    "# Split train/validation into 80% train and 20% validation"
   ]
  },
  {
   "cell_type": "code",
   "execution_count": 33,
   "id": "8a6e91d2",
   "metadata": {},
   "outputs": [],
   "source": [
    "#preform train and validation split \n",
    "split = StratifiedShuffleSplit(n_splits=1, test_size=0.2,random_state=1)\n",
    "for train_indices, validation_indices in split.split(strat_train_validation,strat_train_validation['Galaxy']):\n",
    "    strat_train = df.loc[train_indices]\n",
    "    strat_validation = df.loc[validation_indices]"
   ]
  },
  {
   "cell_type": "code",
   "execution_count": 27,
   "id": "bb940352",
   "metadata": {},
   "outputs": [
    {
     "data": {
      "text/html": [
       "<div>\n",
       "<style scoped>\n",
       "    .dataframe tbody tr th:only-of-type {\n",
       "        vertical-align: middle;\n",
       "    }\n",
       "\n",
       "    .dataframe tbody tr th {\n",
       "        vertical-align: top;\n",
       "    }\n",
       "\n",
       "    .dataframe thead th {\n",
       "        text-align: right;\n",
       "    }\n",
       "</style>\n",
       "<table border=\"1\" class=\"dataframe\">\n",
       "  <thead>\n",
       "    <tr style=\"text-align: right;\">\n",
       "      <th></th>\n",
       "      <th>u</th>\n",
       "      <th>g</th>\n",
       "      <th>r</th>\n",
       "      <th>i</th>\n",
       "      <th>z</th>\n",
       "      <th>spec_obj_ID</th>\n",
       "      <th>redshift</th>\n",
       "      <th>plate</th>\n",
       "      <th>MJD</th>\n",
       "      <th>Galaxy</th>\n",
       "    </tr>\n",
       "  </thead>\n",
       "  <tbody>\n",
       "    <tr>\n",
       "      <th>50769</th>\n",
       "      <td>-0.043839</td>\n",
       "      <td>-0.011797</td>\n",
       "      <td>-0.041542</td>\n",
       "      <td>-0.303077</td>\n",
       "      <td>-0.021941</td>\n",
       "      <td>-1.225994</td>\n",
       "      <td>-1.053008</td>\n",
       "      <td>-1.226010</td>\n",
       "      <td>-0.486193</td>\n",
       "      <td>0</td>\n",
       "    </tr>\n",
       "    <tr>\n",
       "      <th>52728</th>\n",
       "      <td>-0.075575</td>\n",
       "      <td>-0.075095</td>\n",
       "      <td>-1.184419</td>\n",
       "      <td>-1.061390</td>\n",
       "      <td>-0.041746</td>\n",
       "      <td>-0.545319</td>\n",
       "      <td>-1.053372</td>\n",
       "      <td>-0.545333</td>\n",
       "      <td>-0.280220</td>\n",
       "      <td>0</td>\n",
       "    </tr>\n",
       "    <tr>\n",
       "      <th>9177</th>\n",
       "      <td>0.037678</td>\n",
       "      <td>0.005497</td>\n",
       "      <td>0.243184</td>\n",
       "      <td>0.508099</td>\n",
       "      <td>0.032721</td>\n",
       "      <td>1.232414</td>\n",
       "      <td>-1.052928</td>\n",
       "      <td>1.232422</td>\n",
       "      <td>1.144660</td>\n",
       "      <td>0</td>\n",
       "    </tr>\n",
       "    <tr>\n",
       "      <th>52451</th>\n",
       "      <td>-0.069003</td>\n",
       "      <td>-0.061109</td>\n",
       "      <td>-0.932442</td>\n",
       "      <td>-0.889137</td>\n",
       "      <td>-0.039169</td>\n",
       "      <td>-1.573412</td>\n",
       "      <td>-0.734646</td>\n",
       "      <td>-1.573424</td>\n",
       "      <td>-2.109145</td>\n",
       "      <td>1</td>\n",
       "    </tr>\n",
       "    <tr>\n",
       "      <th>59598</th>\n",
       "      <td>-0.038953</td>\n",
       "      <td>-0.051596</td>\n",
       "      <td>-1.086567</td>\n",
       "      <td>-1.117345</td>\n",
       "      <td>-0.050954</td>\n",
       "      <td>-1.154574</td>\n",
       "      <td>-0.417228</td>\n",
       "      <td>-1.154546</td>\n",
       "      <td>-1.257603</td>\n",
       "      <td>1</td>\n",
       "    </tr>\n",
       "    <tr>\n",
       "      <th>...</th>\n",
       "      <td>...</td>\n",
       "      <td>...</td>\n",
       "      <td>...</td>\n",
       "      <td>...</td>\n",
       "      <td>...</td>\n",
       "      <td>...</td>\n",
       "      <td>...</td>\n",
       "      <td>...</td>\n",
       "      <td>...</td>\n",
       "      <td>...</td>\n",
       "    </tr>\n",
       "    <tr>\n",
       "      <th>29897</th>\n",
       "      <td>-0.021450</td>\n",
       "      <td>-0.004372</td>\n",
       "      <td>0.445611</td>\n",
       "      <td>0.910674</td>\n",
       "      <td>0.057335</td>\n",
       "      <td>-0.734247</td>\n",
       "      <td>-1.053923</td>\n",
       "      <td>-0.734253</td>\n",
       "      <td>-0.693858</td>\n",
       "      <td>0</td>\n",
       "    </tr>\n",
       "    <tr>\n",
       "      <th>39139</th>\n",
       "      <td>-0.008635</td>\n",
       "      <td>-0.001654</td>\n",
       "      <td>-0.216262</td>\n",
       "      <td>-0.156611</td>\n",
       "      <td>-0.004960</td>\n",
       "      <td>-1.090493</td>\n",
       "      <td>-0.005648</td>\n",
       "      <td>-1.090512</td>\n",
       "      <td>-1.325884</td>\n",
       "      <td>1</td>\n",
       "    </tr>\n",
       "    <tr>\n",
       "      <th>7413</th>\n",
       "      <td>-0.075116</td>\n",
       "      <td>-0.064300</td>\n",
       "      <td>-1.051133</td>\n",
       "      <td>-1.033536</td>\n",
       "      <td>-0.044307</td>\n",
       "      <td>-0.917882</td>\n",
       "      <td>-0.444241</td>\n",
       "      <td>-0.917866</td>\n",
       "      <td>-0.842836</td>\n",
       "      <td>1</td>\n",
       "    </tr>\n",
       "    <tr>\n",
       "      <th>34157</th>\n",
       "      <td>0.059569</td>\n",
       "      <td>0.055718</td>\n",
       "      <td>0.222975</td>\n",
       "      <td>0.153403</td>\n",
       "      <td>0.008635</td>\n",
       "      <td>-0.733879</td>\n",
       "      <td>0.211747</td>\n",
       "      <td>-0.733899</td>\n",
       "      <td>-0.491836</td>\n",
       "      <td>1</td>\n",
       "    </tr>\n",
       "    <tr>\n",
       "      <th>53346</th>\n",
       "      <td>-0.005316</td>\n",
       "      <td>-0.019096</td>\n",
       "      <td>-0.647663</td>\n",
       "      <td>-0.693267</td>\n",
       "      <td>-0.033164</td>\n",
       "      <td>0.554615</td>\n",
       "      <td>0.001220</td>\n",
       "      <td>0.554575</td>\n",
       "      <td>0.692084</td>\n",
       "      <td>1</td>\n",
       "    </tr>\n",
       "  </tbody>\n",
       "</table>\n",
       "<p>58348 rows × 10 columns</p>\n",
       "</div>"
      ],
      "text/plain": [
       "              u         g         r         i         z  spec_obj_ID  \\\n",
       "50769 -0.043839 -0.011797 -0.041542 -0.303077 -0.021941    -1.225994   \n",
       "52728 -0.075575 -0.075095 -1.184419 -1.061390 -0.041746    -0.545319   \n",
       "9177   0.037678  0.005497  0.243184  0.508099  0.032721     1.232414   \n",
       "52451 -0.069003 -0.061109 -0.932442 -0.889137 -0.039169    -1.573412   \n",
       "59598 -0.038953 -0.051596 -1.086567 -1.117345 -0.050954    -1.154574   \n",
       "...         ...       ...       ...       ...       ...          ...   \n",
       "29897 -0.021450 -0.004372  0.445611  0.910674  0.057335    -0.734247   \n",
       "39139 -0.008635 -0.001654 -0.216262 -0.156611 -0.004960    -1.090493   \n",
       "7413  -0.075116 -0.064300 -1.051133 -1.033536 -0.044307    -0.917882   \n",
       "34157  0.059569  0.055718  0.222975  0.153403  0.008635    -0.733879   \n",
       "53346 -0.005316 -0.019096 -0.647663 -0.693267 -0.033164     0.554615   \n",
       "\n",
       "       redshift     plate       MJD  Galaxy  \n",
       "50769 -1.053008 -1.226010 -0.486193       0  \n",
       "52728 -1.053372 -0.545333 -0.280220       0  \n",
       "9177  -1.052928  1.232422  1.144660       0  \n",
       "52451 -0.734646 -1.573424 -2.109145       1  \n",
       "59598 -0.417228 -1.154546 -1.257603       1  \n",
       "...         ...       ...       ...     ...  \n",
       "29897 -1.053923 -0.734253 -0.693858       0  \n",
       "39139 -0.005648 -1.090512 -1.325884       1  \n",
       "7413  -0.444241 -0.917866 -0.842836       1  \n",
       "34157  0.211747 -0.733899 -0.491836       1  \n",
       "53346  0.001220  0.554575  0.692084       1  \n",
       "\n",
       "[58348 rows x 10 columns]"
      ]
     },
     "execution_count": 27,
     "metadata": {},
     "output_type": "execute_result"
    }
   ],
   "source": [
    "strat_train"
   ]
  },
  {
   "cell_type": "code",
   "execution_count": 28,
   "id": "5d9c59b3",
   "metadata": {},
   "outputs": [
    {
     "data": {
      "text/html": [
       "<div>\n",
       "<style scoped>\n",
       "    .dataframe tbody tr th:only-of-type {\n",
       "        vertical-align: middle;\n",
       "    }\n",
       "\n",
       "    .dataframe tbody tr th {\n",
       "        vertical-align: top;\n",
       "    }\n",
       "\n",
       "    .dataframe thead th {\n",
       "        text-align: right;\n",
       "    }\n",
       "</style>\n",
       "<table border=\"1\" class=\"dataframe\">\n",
       "  <thead>\n",
       "    <tr style=\"text-align: right;\">\n",
       "      <th></th>\n",
       "      <th>u</th>\n",
       "      <th>g</th>\n",
       "      <th>r</th>\n",
       "      <th>i</th>\n",
       "      <th>z</th>\n",
       "      <th>spec_obj_ID</th>\n",
       "      <th>redshift</th>\n",
       "      <th>plate</th>\n",
       "      <th>MJD</th>\n",
       "      <th>Galaxy</th>\n",
       "    </tr>\n",
       "  </thead>\n",
       "  <tbody>\n",
       "    <tr>\n",
       "      <th>1042</th>\n",
       "      <td>0.017792</td>\n",
       "      <td>0.053363</td>\n",
       "      <td>0.645666</td>\n",
       "      <td>0.536673</td>\n",
       "      <td>0.026367</td>\n",
       "      <td>0.610445</td>\n",
       "      <td>0.670617</td>\n",
       "      <td>0.610473</td>\n",
       "      <td>0.578094</td>\n",
       "      <td>1</td>\n",
       "    </tr>\n",
       "    <tr>\n",
       "      <th>30787</th>\n",
       "      <td>-0.081483</td>\n",
       "      <td>-0.074856</td>\n",
       "      <td>-1.212272</td>\n",
       "      <td>-1.176300</td>\n",
       "      <td>-0.051867</td>\n",
       "      <td>-1.151727</td>\n",
       "      <td>-0.814940</td>\n",
       "      <td>-1.151716</td>\n",
       "      <td>-1.257603</td>\n",
       "      <td>1</td>\n",
       "    </tr>\n",
       "    <tr>\n",
       "      <th>44083</th>\n",
       "      <td>-0.011274</td>\n",
       "      <td>-0.025236</td>\n",
       "      <td>-0.530455</td>\n",
       "      <td>-0.536404</td>\n",
       "      <td>-0.023131</td>\n",
       "      <td>-0.760453</td>\n",
       "      <td>-1.053461</td>\n",
       "      <td>-0.760433</td>\n",
       "      <td>-0.573661</td>\n",
       "      <td>0</td>\n",
       "    </tr>\n",
       "    <tr>\n",
       "      <th>26117</th>\n",
       "      <td>-0.016801</td>\n",
       "      <td>0.007236</td>\n",
       "      <td>0.509460</td>\n",
       "      <td>0.861190</td>\n",
       "      <td>0.047502</td>\n",
       "      <td>-0.332350</td>\n",
       "      <td>-1.052891</td>\n",
       "      <td>-0.332357</td>\n",
       "      <td>-0.078198</td>\n",
       "      <td>0</td>\n",
       "    </tr>\n",
       "    <tr>\n",
       "      <th>29671</th>\n",
       "      <td>-0.060375</td>\n",
       "      <td>-0.042269</td>\n",
       "      <td>-0.391003</td>\n",
       "      <td>-0.138118</td>\n",
       "      <td>0.005205</td>\n",
       "      <td>0.101357</td>\n",
       "      <td>-1.056468</td>\n",
       "      <td>0.101380</td>\n",
       "      <td>0.210729</td>\n",
       "      <td>0</td>\n",
       "    </tr>\n",
       "    <tr>\n",
       "      <th>...</th>\n",
       "      <td>...</td>\n",
       "      <td>...</td>\n",
       "      <td>...</td>\n",
       "      <td>...</td>\n",
       "      <td>...</td>\n",
       "      <td>...</td>\n",
       "      <td>...</td>\n",
       "      <td>...</td>\n",
       "      <td>...</td>\n",
       "      <td>...</td>\n",
       "    </tr>\n",
       "    <tr>\n",
       "      <th>61841</th>\n",
       "      <td>0.095156</td>\n",
       "      <td>0.101185</td>\n",
       "      <td>1.340803</td>\n",
       "      <td>1.163535</td>\n",
       "      <td>0.045680</td>\n",
       "      <td>1.342064</td>\n",
       "      <td>1.518722</td>\n",
       "      <td>1.342094</td>\n",
       "      <td>1.410449</td>\n",
       "      <td>1</td>\n",
       "    </tr>\n",
       "    <tr>\n",
       "      <th>28979</th>\n",
       "      <td>0.111328</td>\n",
       "      <td>0.063344</td>\n",
       "      <td>1.257697</td>\n",
       "      <td>1.213140</td>\n",
       "      <td>0.069795</td>\n",
       "      <td>1.669012</td>\n",
       "      <td>1.444812</td>\n",
       "      <td>1.668989</td>\n",
       "      <td>1.554348</td>\n",
       "      <td>1</td>\n",
       "    </tr>\n",
       "    <tr>\n",
       "      <th>29768</th>\n",
       "      <td>0.022210</td>\n",
       "      <td>0.033255</td>\n",
       "      <td>0.425267</td>\n",
       "      <td>0.360586</td>\n",
       "      <td>0.017497</td>\n",
       "      <td>0.270506</td>\n",
       "      <td>0.520185</td>\n",
       "      <td>0.270488</td>\n",
       "      <td>0.378328</td>\n",
       "      <td>1</td>\n",
       "    </tr>\n",
       "    <tr>\n",
       "      <th>4200</th>\n",
       "      <td>-0.052596</td>\n",
       "      <td>-0.026939</td>\n",
       "      <td>-0.355626</td>\n",
       "      <td>-0.125781</td>\n",
       "      <td>-0.000616</td>\n",
       "      <td>-1.055819</td>\n",
       "      <td>0.081787</td>\n",
       "      <td>-1.055841</td>\n",
       "      <td>-1.042601</td>\n",
       "      <td>1</td>\n",
       "    </tr>\n",
       "    <tr>\n",
       "      <th>23713</th>\n",
       "      <td>-0.048830</td>\n",
       "      <td>-0.054032</td>\n",
       "      <td>-1.045508</td>\n",
       "      <td>-1.053479</td>\n",
       "      <td>-0.048398</td>\n",
       "      <td>-1.495939</td>\n",
       "      <td>-0.611363</td>\n",
       "      <td>-1.495946</td>\n",
       "      <td>-1.938723</td>\n",
       "      <td>1</td>\n",
       "    </tr>\n",
       "  </tbody>\n",
       "</table>\n",
       "<p>14587 rows × 10 columns</p>\n",
       "</div>"
      ],
      "text/plain": [
       "              u         g         r         i         z  spec_obj_ID  \\\n",
       "1042   0.017792  0.053363  0.645666  0.536673  0.026367     0.610445   \n",
       "30787 -0.081483 -0.074856 -1.212272 -1.176300 -0.051867    -1.151727   \n",
       "44083 -0.011274 -0.025236 -0.530455 -0.536404 -0.023131    -0.760453   \n",
       "26117 -0.016801  0.007236  0.509460  0.861190  0.047502    -0.332350   \n",
       "29671 -0.060375 -0.042269 -0.391003 -0.138118  0.005205     0.101357   \n",
       "...         ...       ...       ...       ...       ...          ...   \n",
       "61841  0.095156  0.101185  1.340803  1.163535  0.045680     1.342064   \n",
       "28979  0.111328  0.063344  1.257697  1.213140  0.069795     1.669012   \n",
       "29768  0.022210  0.033255  0.425267  0.360586  0.017497     0.270506   \n",
       "4200  -0.052596 -0.026939 -0.355626 -0.125781 -0.000616    -1.055819   \n",
       "23713 -0.048830 -0.054032 -1.045508 -1.053479 -0.048398    -1.495939   \n",
       "\n",
       "       redshift     plate       MJD  Galaxy  \n",
       "1042   0.670617  0.610473  0.578094       1  \n",
       "30787 -0.814940 -1.151716 -1.257603       1  \n",
       "44083 -1.053461 -0.760433 -0.573661       0  \n",
       "26117 -1.052891 -0.332357 -0.078198       0  \n",
       "29671 -1.056468  0.101380  0.210729       0  \n",
       "...         ...       ...       ...     ...  \n",
       "61841  1.518722  1.342094  1.410449       1  \n",
       "28979  1.444812  1.668989  1.554348       1  \n",
       "29768  0.520185  0.270488  0.378328       1  \n",
       "4200   0.081787 -1.055841 -1.042601       1  \n",
       "23713 -0.611363 -1.495946 -1.938723       1  \n",
       "\n",
       "[14587 rows x 10 columns]"
      ]
     },
     "execution_count": 28,
     "metadata": {},
     "output_type": "execute_result"
    }
   ],
   "source": [
    "strat_validation"
   ]
  },
  {
   "cell_type": "markdown",
   "id": "6afa125d",
   "metadata": {},
   "source": [
    "###  Build two matrices for training dataset and validation dataset"
   ]
  },
  {
   "cell_type": "code",
   "execution_count": 39,
   "id": "d94e6f99",
   "metadata": {},
   "outputs": [],
   "source": [
    "y_train, X_train = dmatrices('Galaxy~u+g+r+i+z+spec_obj_ID+redshift+plate+MJD', strat_train, return_type = 'dataframe')\n",
    "y_validation, X_validation = dmatrices('Galaxy~u+g+r+i+z+spec_obj_ID+redshift+plate+MJD', strat_validation, return_type = 'dataframe')"
   ]
  },
  {
   "cell_type": "code",
   "execution_count": 30,
   "id": "de66931b",
   "metadata": {},
   "outputs": [
    {
     "name": "stdout",
     "output_type": "stream",
     "text": [
      "       Galaxy\n",
      "50769     0.0\n",
      "52728     0.0\n",
      "9177      0.0\n",
      "52451     1.0\n",
      "59598     1.0\n",
      "...       ...\n",
      "29897     0.0\n",
      "39139     1.0\n",
      "7413      1.0\n",
      "34157     1.0\n",
      "53346     1.0\n",
      "\n",
      "[58348 rows x 1 columns]\n"
     ]
    }
   ],
   "source": [
    "print(y_train)"
   ]
  },
  {
   "cell_type": "code",
   "execution_count": 31,
   "id": "a014fbc1",
   "metadata": {},
   "outputs": [
    {
     "name": "stdout",
     "output_type": "stream",
     "text": [
      "              u         g         r         i         z  spec_obj_ID  \\\n",
      "1042   0.017792  0.053363  0.645666  0.536673  0.026367     0.610445   \n",
      "30787 -0.081483 -0.074856 -1.212272 -1.176300 -0.051867    -1.151727   \n",
      "44083 -0.011274 -0.025236 -0.530455 -0.536404 -0.023131    -0.760453   \n",
      "26117 -0.016801  0.007236  0.509460  0.861190  0.047502    -0.332350   \n",
      "29671 -0.060375 -0.042269 -0.391003 -0.138118  0.005205     0.101357   \n",
      "...         ...       ...       ...       ...       ...          ...   \n",
      "61841  0.095156  0.101185  1.340803  1.163535  0.045680     1.342064   \n",
      "28979  0.111328  0.063344  1.257697  1.213140  0.069795     1.669012   \n",
      "29768  0.022210  0.033255  0.425267  0.360586  0.017497     0.270506   \n",
      "4200  -0.052596 -0.026939 -0.355626 -0.125781 -0.000616    -1.055819   \n",
      "23713 -0.048830 -0.054032 -1.045508 -1.053479 -0.048398    -1.495939   \n",
      "\n",
      "       redshift     plate       MJD  \n",
      "1042   0.670617  0.610473  0.578094  \n",
      "30787 -0.814940 -1.151716 -1.257603  \n",
      "44083 -1.053461 -0.760433 -0.573661  \n",
      "26117 -1.052891 -0.332357 -0.078198  \n",
      "29671 -1.056468  0.101380  0.210729  \n",
      "...         ...       ...       ...  \n",
      "61841  1.518722  1.342094  1.410449  \n",
      "28979  1.444812  1.668989  1.554348  \n",
      "29768  0.520185  0.270488  0.378328  \n",
      "4200   0.081787 -1.055841 -1.042601  \n",
      "23713 -0.611363 -1.495946 -1.938723  \n",
      "\n",
      "[14587 rows x 9 columns]\n"
     ]
    }
   ],
   "source": [
    "print(X_validation.iloc[:,1:10])"
   ]
  },
  {
   "cell_type": "code",
   "execution_count": null,
   "id": "f4f31887-dd32-416d-b8bf-d81fca3635b5",
   "metadata": {},
   "outputs": [],
   "source": [
    "\"\"\"\n",
    "We built a stratified training set consisting of 50013 observations and a validation set consisting of 12504 observations. This was an 80% \n",
    "training split and a 20% validation split.\n",
    "\"\"\""
   ]
  },
  {
   "cell_type": "markdown",
   "id": "c1ce0e2b",
   "metadata": {},
   "source": [
    "### Logistic Regression "
   ]
  },
  {
   "cell_type": "code",
   "execution_count": 99,
   "id": "b47fb16a",
   "metadata": {},
   "outputs": [
    {
     "name": "stdout",
     "output_type": "stream",
     "text": [
      "Warning: Maximum number of iterations has been exceeded.\n",
      "         Current function value: 2.844084\n",
      "         Iterations: 35\n",
      "                           Logit Regression Results                           \n",
      "==============================================================================\n",
      "Dep. Variable:                 Galaxy   No. Observations:                50013\n",
      "Model:                          Logit   Df Residuals:                    50004\n",
      "Method:                           MLE   Df Model:                            8\n",
      "Date:                Thu, 27 Oct 2022   Pseudo R-squ.:                  -3.930\n",
      "Time:                        14:11:11   Log-Likelihood:            -1.4224e+05\n",
      "converged:                      False   LL-Null:                       -28851.\n",
      "Covariance Type:            nonrobust   LLR p-value:                     1.000\n",
      "===============================================================================\n",
      "                  coef    std err          z      P>|z|      [0.025      0.975]\n",
      "-------------------------------------------------------------------------------\n",
      "u               2.8127      0.100     28.188      0.000       2.617       3.008\n",
      "g              14.0409      0.359     39.164      0.000      13.338      14.744\n",
      "r             -35.7785      0.818    -43.735      0.000     -37.382     -34.175\n",
      "i               7.3926      0.427     17.295      0.000       6.555       8.230\n",
      "z               1.3125      0.224      5.865      0.000       0.874       1.751\n",
      "spec_obj_ID -5.979e+05   1.14e+04    -52.310      0.000    -6.2e+05   -5.75e+05\n",
      "redshift       29.5065      0.567     52.030      0.000      28.395      30.618\n",
      "plate        5.979e+05   1.14e+04     52.310      0.000    5.75e+05     6.2e+05\n",
      "MJD            -5.6696      0.185    -30.706      0.000      -6.031      -5.308\n",
      "===============================================================================\n",
      "\n",
      "Possibly complete quasi-separation: A fraction 0.59 of observations can be\n",
      "perfectly predicted. This might indicate that there is complete\n",
      "quasi-separation. In this case some parameters will not be identified.\n"
     ]
    }
   ],
   "source": [
    "logit=sm.Logit(y_train,X_train.iloc[:,1:10])\n",
    "print(logit.fit().summary())"
   ]
  },
  {
   "cell_type": "code",
   "execution_count": 100,
   "id": "5bc97121",
   "metadata": {},
   "outputs": [
    {
     "name": "stdout",
     "output_type": "stream",
     "text": [
      "Warning: Maximum number of iterations has been exceeded.\n",
      "         Current function value: 2.844084\n",
      "         Iterations: 35\n"
     ]
    }
   ],
   "source": [
    "# Fit validation data into logistic model\n",
    "preds=logit.fit().predict(X_validation.iloc[:,1:10])\n",
    "predict_label_logistic = pd.DataFrame(np.zeros(shape=(X_validation.shape[0],1)), columns = ['label'])\n",
    "threshold=0.5\n",
    "mark=(preds>threshold).reset_index(drop=True)\n",
    "predict_label_logistic.loc[mark]=1"
   ]
  },
  {
   "cell_type": "code",
   "execution_count": null,
   "id": "27e2e570-94dc-4a6c-bd5f-961915361031",
   "metadata": {},
   "outputs": [],
   "source": [
    "\"\"\"\n",
    "We built a logistic regression consisting of all of the variables that were not dropped prebiously. Most of the coefficients were positive but\n",
    "the coefficients for r, spec_obj_ID and MDJ were all negative. The variable u has the lowest standard at 0.100 and plate and spec_obj_ID have\n",
    "high standard errors at 11400. With this regression, only 59% of observations can be perfectly predicted which is just a little over half, so \n",
    "we would definitely like it to be larger.\n",
    "\"\"\""
   ]
  },
  {
   "cell_type": "markdown",
   "id": "01e777f2",
   "metadata": {},
   "source": [
    "#### Confusion matrix for logistic model "
   ]
  },
  {
   "cell_type": "code",
   "execution_count": 101,
   "id": "1c29aa9d",
   "metadata": {},
   "outputs": [
    {
     "data": {
      "text/plain": [
       "array([[3051,  225],\n",
       "       [2765, 6463]], dtype=int64)"
      ]
     },
     "execution_count": 101,
     "metadata": {},
     "output_type": "execute_result"
    }
   ],
   "source": [
    "confusion_matrix(y_validation.iloc[:,0],predict_label_logistic.iloc[:,0])"
   ]
  },
  {
   "cell_type": "markdown",
   "id": "093d14ca",
   "metadata": {},
   "source": [
    "#### Accuracy for logistic regression "
   ]
  },
  {
   "cell_type": "code",
   "execution_count": 102,
   "id": "b5b1f571",
   "metadata": {},
   "outputs": [
    {
     "name": "stdout",
     "output_type": "stream",
     "text": [
      "0.7608765195137556\n"
     ]
    }
   ],
   "source": [
    "Accuracy=np.mean(y_validation.iloc[:,0].reset_index(drop=True)==predict_label_logistic.iloc[:,0].reset_index(drop=True))\n",
    "print(Accuracy)"
   ]
  },
  {
   "cell_type": "code",
   "execution_count": 103,
   "id": "b008a5b8",
   "metadata": {},
   "outputs": [
    {
     "data": {
      "text/plain": [
       "0.8158435625925874"
      ]
     },
     "execution_count": 103,
     "metadata": {},
     "output_type": "execute_result"
    }
   ],
   "source": [
    "roc_auc_score(y_validation,predict_label_logistic)"
   ]
  },
  {
   "cell_type": "code",
   "execution_count": null,
   "id": "cd5d21c0-387a-42aa-8097-1317b7ab6c5c",
   "metadata": {},
   "outputs": [],
   "source": [
    "\"\"\"\n",
    "The confusion matrix for the logistic regression has 225 false positives and 2765 false negatives. The false negatives are quite high and our\n",
    "accuracy is 76.08%. This is a pretty good accuracy but the amount of false negatives is more than we prefer. Our AUC schore is 0.816 which is a\n",
    "good score that is pretty close to 1. Overall the accuracy and AUC score for logisitic regression is quite good.\n",
    "\"\"\""
   ]
  },
  {
   "cell_type": "markdown",
   "id": "6736f34b",
   "metadata": {},
   "source": [
    "#### 10-Cross Validation "
   ]
  },
  {
   "cell_type": "code",
   "execution_count": 67,
   "id": "d5608a3d",
   "metadata": {},
   "outputs": [],
   "source": [
    "y_train2, X_train2 = dmatrices('Galaxy~u+g+r+i+z+spec_obj_ID+redshift+plate+MJD', strat_train_validation, return_type = 'dataframe')\n",
    "y_test, X_test = dmatrices('Galaxy~u+g+r+i+z+spec_obj_ID+redshift+plate+MJD', strat_test, return_type = 'dataframe')"
   ]
  },
  {
   "cell_type": "code",
   "execution_count": 68,
   "id": "c0c47707",
   "metadata": {},
   "outputs": [
    {
     "name": "stdout",
     "output_type": "stream",
     "text": [
      "Fitting 10 folds for each of 7 candidates, totalling 70 fits\n",
      "[CV 1/10] END C=0.001, penalty=l2, solver=newton-cg;, score=0.946 total time=   0.2s\n",
      "[CV 2/10] END C=0.001, penalty=l2, solver=newton-cg;, score=0.942 total time=   0.2s\n",
      "[CV 3/10] END C=0.001, penalty=l2, solver=newton-cg;, score=0.946 total time=   0.3s\n",
      "[CV 4/10] END C=0.001, penalty=l2, solver=newton-cg;, score=0.942 total time=   0.2s\n",
      "[CV 5/10] END C=0.001, penalty=l2, solver=newton-cg;, score=0.940 total time=   0.2s\n",
      "[CV 6/10] END C=0.001, penalty=l2, solver=newton-cg;, score=0.942 total time=   0.2s\n",
      "[CV 7/10] END C=0.001, penalty=l2, solver=newton-cg;, score=0.953 total time=   0.2s\n",
      "[CV 8/10] END C=0.001, penalty=l2, solver=newton-cg;, score=0.946 total time=   0.2s\n",
      "[CV 9/10] END C=0.001, penalty=l2, solver=newton-cg;, score=0.948 total time=   0.2s\n",
      "[CV 10/10] END C=0.001, penalty=l2, solver=newton-cg;, score=0.946 total time=   0.2s\n",
      "[CV 1/10] END C=0.01, penalty=l2, solver=newton-cg;, score=0.981 total time=   0.1s\n",
      "[CV 2/10] END C=0.01, penalty=l2, solver=newton-cg;, score=0.973 total time=   0.2s\n",
      "[CV 3/10] END C=0.01, penalty=l2, solver=newton-cg;, score=0.978 total time=   0.2s\n",
      "[CV 4/10] END C=0.01, penalty=l2, solver=newton-cg;, score=0.979 total time=   0.2s\n",
      "[CV 5/10] END C=0.01, penalty=l2, solver=newton-cg;, score=0.978 total time=   0.2s\n",
      "[CV 6/10] END C=0.01, penalty=l2, solver=newton-cg;, score=0.977 total time=   0.1s\n",
      "[CV 7/10] END C=0.01, penalty=l2, solver=newton-cg;, score=0.981 total time=   0.2s\n",
      "[CV 8/10] END C=0.01, penalty=l2, solver=newton-cg;, score=0.979 total time=   0.2s\n",
      "[CV 9/10] END C=0.01, penalty=l2, solver=newton-cg;, score=0.981 total time=   0.2s\n",
      "[CV 10/10] END C=0.01, penalty=l2, solver=newton-cg;, score=0.980 total time=   0.1s\n",
      "[CV 1/10] END C=0.1, penalty=l2, solver=newton-cg;, score=0.986 total time=   0.3s\n",
      "[CV 2/10] END C=0.1, penalty=l2, solver=newton-cg;, score=0.982 total time=   0.3s\n",
      "[CV 3/10] END C=0.1, penalty=l2, solver=newton-cg;, score=0.985 total time=   0.3s\n",
      "[CV 4/10] END C=0.1, penalty=l2, solver=newton-cg;, score=0.988 total time=   0.3s\n",
      "[CV 5/10] END C=0.1, penalty=l2, solver=newton-cg;, score=0.986 total time=   0.3s\n",
      "[CV 6/10] END C=0.1, penalty=l2, solver=newton-cg;, score=0.983 total time=   0.4s\n",
      "[CV 7/10] END C=0.1, penalty=l2, solver=newton-cg;, score=0.988 total time=   0.2s\n",
      "[CV 8/10] END C=0.1, penalty=l2, solver=newton-cg;, score=0.984 total time=   0.3s\n",
      "[CV 9/10] END C=0.1, penalty=l2, solver=newton-cg;, score=0.986 total time=   0.4s\n",
      "[CV 10/10] END C=0.1, penalty=l2, solver=newton-cg;, score=0.986 total time=   0.2s\n",
      "[CV 1/10] END C=1, penalty=l2, solver=newton-cg;, score=0.992 total time=   0.3s\n",
      "[CV 2/10] END C=1, penalty=l2, solver=newton-cg;, score=0.987 total time=   0.4s\n",
      "[CV 3/10] END C=1, penalty=l2, solver=newton-cg;, score=0.988 total time=   0.3s\n",
      "[CV 4/10] END C=1, penalty=l2, solver=newton-cg;, score=0.992 total time=   0.5s\n",
      "[CV 5/10] END C=1, penalty=l2, solver=newton-cg;, score=0.990 total time=   0.6s\n",
      "[CV 6/10] END C=1, penalty=l2, solver=newton-cg;, score=0.987 total time=   0.4s\n",
      "[CV 7/10] END C=1, penalty=l2, solver=newton-cg;, score=0.991 total time=   0.5s\n",
      "[CV 8/10] END C=1, penalty=l2, solver=newton-cg;, score=0.988 total time=   0.5s\n",
      "[CV 9/10] END C=1, penalty=l2, solver=newton-cg;, score=0.991 total time=   0.4s\n",
      "[CV 10/10] END C=1, penalty=l2, solver=newton-cg;, score=0.990 total time=   1.2s\n",
      "[CV 1/10] END C=10, penalty=l2, solver=newton-cg;, score=0.994 total time=   0.5s\n",
      "[CV 2/10] END C=10, penalty=l2, solver=newton-cg;, score=0.990 total time=   0.5s\n",
      "[CV 3/10] END C=10, penalty=l2, solver=newton-cg;, score=0.990 total time=   1.3s\n",
      "[CV 4/10] END C=10, penalty=l2, solver=newton-cg;, score=0.993 total time=   0.5s\n",
      "[CV 5/10] END C=10, penalty=l2, solver=newton-cg;, score=0.992 total time=   0.5s\n",
      "[CV 6/10] END C=10, penalty=l2, solver=newton-cg;, score=0.989 total time=   0.4s\n",
      "[CV 7/10] END C=10, penalty=l2, solver=newton-cg;, score=0.993 total time=   0.5s\n",
      "[CV 8/10] END C=10, penalty=l2, solver=newton-cg;, score=0.992 total time=   0.5s\n",
      "[CV 9/10] END C=10, penalty=l2, solver=newton-cg;, score=0.993 total time=   0.5s\n",
      "[CV 10/10] END C=10, penalty=l2, solver=newton-cg;, score=0.992 total time=   0.4s\n",
      "[CV 1/10] END C=100, penalty=l2, solver=newton-cg;, score=0.995 total time=   0.7s\n",
      "[CV 2/10] END C=100, penalty=l2, solver=newton-cg;, score=0.991 total time=   0.8s\n",
      "[CV 3/10] END C=100, penalty=l2, solver=newton-cg;, score=0.992 total time=   0.7s\n",
      "[CV 4/10] END C=100, penalty=l2, solver=newton-cg;, score=0.993 total time=   0.7s\n",
      "[CV 5/10] END C=100, penalty=l2, solver=newton-cg;, score=0.993 total time=   0.7s\n",
      "[CV 6/10] END C=100, penalty=l2, solver=newton-cg;, score=0.991 total time=   0.7s\n",
      "[CV 7/10] END C=100, penalty=l2, solver=newton-cg;, score=0.994 total time=   0.8s\n",
      "[CV 8/10] END C=100, penalty=l2, solver=newton-cg;, score=0.993 total time=   1.0s\n",
      "[CV 9/10] END C=100, penalty=l2, solver=newton-cg;, score=0.994 total time=   1.0s\n",
      "[CV 10/10] END C=100, penalty=l2, solver=newton-cg;, score=0.993 total time=   0.7s\n",
      "[CV 1/10] END C=1000, penalty=l2, solver=newton-cg;, score=0.995 total time=   0.8s\n",
      "[CV 2/10] END C=1000, penalty=l2, solver=newton-cg;, score=0.992 total time=   0.8s\n",
      "[CV 3/10] END C=1000, penalty=l2, solver=newton-cg;, score=0.992 total time=   0.7s\n",
      "[CV 4/10] END C=1000, penalty=l2, solver=newton-cg;, score=0.993 total time=   0.9s\n",
      "[CV 5/10] END C=1000, penalty=l2, solver=newton-cg;, score=0.993 total time=   0.9s\n",
      "[CV 6/10] END C=1000, penalty=l2, solver=newton-cg;, score=0.991 total time=   1.2s\n",
      "[CV 7/10] END C=1000, penalty=l2, solver=newton-cg;, score=0.994 total time=   1.4s\n",
      "[CV 8/10] END C=1000, penalty=l2, solver=newton-cg;, score=0.994 total time=   1.7s\n",
      "[CV 9/10] END C=1000, penalty=l2, solver=newton-cg;, score=0.995 total time=   2.0s\n",
      "[CV 10/10] END C=1000, penalty=l2, solver=newton-cg;, score=0.994 total time=   1.8s\n",
      "Mean Accuracy: 0.993\n",
      "Config: {'C': 1000, 'penalty': 'l2', 'solver': 'newton-cg'}\n"
     ]
    }
   ],
   "source": [
    "#Train the model \n",
    "\n",
    "LR = LogisticRegression() # Define the model \n",
    "\n",
    "LRparam_grid = {                              # Define the model paramerters \n",
    "    'C': [0.001, 0.01, 0.1, 1, 10, 100, 1000],\n",
    "    'penalty': ['l2'],\n",
    "  # 'max_iter': list(range(100,800,100)),\n",
    "    'solver': ['newton-cg']\n",
    "}\n",
    "LR_search = GridSearchCV(LR, param_grid=LRparam_grid, refit = True, verbose = 3, cv=10)\n",
    "\n",
    "# fitting the model for grid search \n",
    "LR_search.fit(X_train2.iloc[:,1:10] , np.ravel(y_train2))\n",
    "LR_search.best_params_\n",
    "# summarize\n",
    "print('Mean Accuracy: %.3f' % LR_search.best_score_)\n",
    "print('Config: %s' % LR_search.best_params_)"
   ]
  },
  {
   "cell_type": "code",
   "execution_count": 69,
   "id": "000700e8",
   "metadata": {},
   "outputs": [
    {
     "name": "stdout",
     "output_type": "stream",
     "text": [
      "LogisticRegression(C=1000, solver='newton-cg')\n",
      "roc_auc_score: 0.9933052730745269\n"
     ]
    }
   ],
   "source": [
    "print(LR_search.best_estimator_)\n",
    "print('roc_auc_score: %s' % LR_search.best_score_)"
   ]
  },
  {
   "cell_type": "code",
   "execution_count": 70,
   "id": "2a8965ae",
   "metadata": {},
   "outputs": [
    {
     "data": {
      "text/plain": [
       "array([[-3.25793582e-01,  8.19205710e-01, -6.25965318e-01,\n",
       "         3.93046949e-01,  2.92449010e-02,  1.13968919e+00,\n",
       "         2.27386447e+02, -1.64180346e-01, -6.60326302e-01]])"
      ]
     },
     "execution_count": 70,
     "metadata": {},
     "output_type": "execute_result"
    }
   ],
   "source": [
    " LR_search.best_estimator_.coef_"
   ]
  },
  {
   "cell_type": "code",
   "execution_count": 37,
   "id": "5da6654f",
   "metadata": {},
   "outputs": [
    {
     "ename": "ValueError",
     "evalue": "Length of values (9) does not match length of index (10)",
     "output_type": "error",
     "traceback": [
      "\u001b[0;31m---------------------------------------------------------------------------\u001b[0m",
      "\u001b[0;31mValueError\u001b[0m                                Traceback (most recent call last)",
      "Input \u001b[0;32mIn [37]\u001b[0m, in \u001b[0;36m<cell line: 5>\u001b[0;34m()\u001b[0m\n\u001b[1;32m      1\u001b[0m coeff \u001b[38;5;241m=\u001b[39m np\u001b[38;5;241m.\u001b[39marray([\u001b[38;5;241m-\u001b[39m\u001b[38;5;241m5.89163342e+00\u001b[39m,  \u001b[38;5;241m1.31148698e+01\u001b[39m, \u001b[38;5;241m-\u001b[39m\u001b[38;5;241m5.21516052e-01\u001b[39m,\n\u001b[1;32m      2\u001b[0m          \u001b[38;5;241m2.98036538e-01\u001b[39m,  \u001b[38;5;241m1.15509578e+00\u001b[39m,  \u001b[38;5;241m1.16048286e+00\u001b[39m,\n\u001b[1;32m      3\u001b[0m          \u001b[38;5;241m2.26132549e+02\u001b[39m, \u001b[38;5;241m-\u001b[39m\u001b[38;5;241m6.43629573e-02\u001b[39m, \u001b[38;5;241m-\u001b[39m\u001b[38;5;241m8.03288084e-01\u001b[39m])\n\u001b[0;32m----> 5\u001b[0m \u001b[38;5;28mprint\u001b[39m(\u001b[43mpd\u001b[49m\u001b[38;5;241;43m.\u001b[39;49m\u001b[43mSeries\u001b[49m\u001b[43m(\u001b[49m\u001b[43mcoeff\u001b[49m\u001b[43m,\u001b[49m\u001b[43m \u001b[49m\u001b[43mX_train\u001b[49m\u001b[38;5;241;43m.\u001b[39;49m\u001b[43mcolumns\u001b[49m\u001b[43m)\u001b[49m)\n",
      "File \u001b[0;32m~/opt/anaconda3/lib/python3.9/site-packages/pandas/core/series.py:442\u001b[0m, in \u001b[0;36mSeries.__init__\u001b[0;34m(self, data, index, dtype, name, copy, fastpath)\u001b[0m\n\u001b[1;32m    440\u001b[0m     index \u001b[38;5;241m=\u001b[39m default_index(\u001b[38;5;28mlen\u001b[39m(data))\n\u001b[1;32m    441\u001b[0m \u001b[38;5;28;01melif\u001b[39;00m is_list_like(data):\n\u001b[0;32m--> 442\u001b[0m     \u001b[43mcom\u001b[49m\u001b[38;5;241;43m.\u001b[39;49m\u001b[43mrequire_length_match\u001b[49m\u001b[43m(\u001b[49m\u001b[43mdata\u001b[49m\u001b[43m,\u001b[49m\u001b[43m \u001b[49m\u001b[43mindex\u001b[49m\u001b[43m)\u001b[49m\n\u001b[1;32m    444\u001b[0m \u001b[38;5;66;03m# create/copy the manager\u001b[39;00m\n\u001b[1;32m    445\u001b[0m \u001b[38;5;28;01mif\u001b[39;00m \u001b[38;5;28misinstance\u001b[39m(data, (SingleBlockManager, SingleArrayManager)):\n",
      "File \u001b[0;32m~/opt/anaconda3/lib/python3.9/site-packages/pandas/core/common.py:557\u001b[0m, in \u001b[0;36mrequire_length_match\u001b[0;34m(data, index)\u001b[0m\n\u001b[1;32m    553\u001b[0m \u001b[38;5;124;03m\"\"\"\u001b[39;00m\n\u001b[1;32m    554\u001b[0m \u001b[38;5;124;03mCheck the length of data matches the length of the index.\u001b[39;00m\n\u001b[1;32m    555\u001b[0m \u001b[38;5;124;03m\"\"\"\u001b[39;00m\n\u001b[1;32m    556\u001b[0m \u001b[38;5;28;01mif\u001b[39;00m \u001b[38;5;28mlen\u001b[39m(data) \u001b[38;5;241m!=\u001b[39m \u001b[38;5;28mlen\u001b[39m(index):\n\u001b[0;32m--> 557\u001b[0m     \u001b[38;5;28;01mraise\u001b[39;00m \u001b[38;5;167;01mValueError\u001b[39;00m(\n\u001b[1;32m    558\u001b[0m         \u001b[38;5;124m\"\u001b[39m\u001b[38;5;124mLength of values \u001b[39m\u001b[38;5;124m\"\u001b[39m\n\u001b[1;32m    559\u001b[0m         \u001b[38;5;124mf\u001b[39m\u001b[38;5;124m\"\u001b[39m\u001b[38;5;124m(\u001b[39m\u001b[38;5;132;01m{\u001b[39;00m\u001b[38;5;28mlen\u001b[39m(data)\u001b[38;5;132;01m}\u001b[39;00m\u001b[38;5;124m) \u001b[39m\u001b[38;5;124m\"\u001b[39m\n\u001b[1;32m    560\u001b[0m         \u001b[38;5;124m\"\u001b[39m\u001b[38;5;124mdoes not match length of index \u001b[39m\u001b[38;5;124m\"\u001b[39m\n\u001b[1;32m    561\u001b[0m         \u001b[38;5;124mf\u001b[39m\u001b[38;5;124m\"\u001b[39m\u001b[38;5;124m(\u001b[39m\u001b[38;5;132;01m{\u001b[39;00m\u001b[38;5;28mlen\u001b[39m(index)\u001b[38;5;132;01m}\u001b[39;00m\u001b[38;5;124m)\u001b[39m\u001b[38;5;124m\"\u001b[39m\n\u001b[1;32m    562\u001b[0m     )\n",
      "\u001b[0;31mValueError\u001b[0m: Length of values (9) does not match length of index (10)"
     ]
    }
   ],
   "source": [
    "coeff = np.array([-5.89163342e+00,  1.31148698e+01, -5.21516052e-01,\n",
    "         2.98036538e-01,  1.15509578e+00,  1.16048286e+00,\n",
    "         2.26132549e+02, -6.43629573e-02, -8.03288084e-01])\n",
    "\n",
    "print(pd.Series(coeff, X_train.columns))"
   ]
  },
  {
   "cell_type": "code",
   "execution_count": 108,
   "id": "1e8607ad",
   "metadata": {},
   "outputs": [],
   "source": [
    "pred = LR_search.predict(X_test.iloc[:,1:10])"
   ]
  },
  {
   "cell_type": "code",
   "execution_count": 109,
   "id": "07eb2c5d",
   "metadata": {},
   "outputs": [
    {
     "data": {
      "text/plain": [
       "(1805, 0, 59, 5083)"
      ]
     },
     "execution_count": 109,
     "metadata": {},
     "output_type": "execute_result"
    }
   ],
   "source": [
    "cm = confusion_matrix(y_test, pred)\n",
    "tn, fp, fn, tp = confusion_matrix(y_test, pred).ravel()\n",
    "(tn, fp, fn, tp)"
   ]
  },
  {
   "cell_type": "code",
   "execution_count": 110,
   "id": "8df6fd2c",
   "metadata": {},
   "outputs": [
    {
     "name": "stdout",
     "output_type": "stream",
     "text": [
      "Precision:    1.0\n",
      "Specificity:  1.0\n",
      "Sensitivity:  0.9885258654220148\n",
      "Accuracy:     0.9915071253778609\n",
      "Error rate:   0.008492874622139053\n"
     ]
    },
    {
     "data": {
      "image/png": "[encoded data removed]",
      "text/plain": [
       "<Figure size 576x396 with 2 Axes>"
      ]
     },
     "metadata": {},
     "output_type": "display_data"
    }
   ],
   "source": [
    "cm_display = ConfusionMatrixDisplay(cm).plot()\n",
    "print(\"Precision:   \", tp/(tp+fp))\n",
    "print(\"Specificity: \", tn/(fp+tn))\n",
    "print(\"Sensitivity: \", tp/(tp+fn))\n",
    "print(\"Accuracy:    \", (tp+tn)/(tp+tn+fp+fn))\n",
    "print(\"Error rate:  \", (fp+fn)/(tp+tn+fp+fn))"
   ]
  },
  {
   "cell_type": "code",
   "execution_count": null,
   "id": "a69ff6ca-b0d8-4b72-ae85-c6b49d7f73ed",
   "metadata": {},
   "outputs": [],
   "source": [
    "\"\"\"\n",
    "Here we did 10-fold cross validation and then created another confusion matrix which ended up being much more accurate with 99.2%. Specifity and \n",
    "precision were both 100% and sensitivity was 98.9%. The error rate was very low at only 0.0084. This is quite an improvement from the previous \n",
    "logistic model and much better when using 10-fold cross validation. \n",
    "\"\"\""
   ]
  },
  {
   "cell_type": "code",
   "execution_count": 111,
   "id": "055f228b",
   "metadata": {},
   "outputs": [],
   "source": [
    "#ROC curve for the validation data \n",
    "y_score = LR_search.predict_proba(X_test.iloc[:,1:10])[:,1]\n",
    "false_positive_rate1, true_positive_rate1, threshold1 = roc_curve(y_test, y_score)"
   ]
  },
  {
   "cell_type": "markdown",
   "id": "b209fed9",
   "metadata": {},
   "source": [
    "#### ROC curve"
   ]
  },
  {
   "cell_type": "code",
   "execution_count": 112,
   "id": "1b4ea66d",
   "metadata": {},
   "outputs": [
    {
     "data": {
      "image/png": "[encoded data removed]",
      "text/plain": [
       "<Figure size 720x720 with 1 Axes>"
      ]
     },
     "metadata": {},
     "output_type": "display_data"
    }
   ],
   "source": [
    "#plot ROC curve \n",
    "plt.subplots(1, figsize=(10,10))\n",
    "plt.title('Receiver Operating Characteristic - Logistic regression')\n",
    "plt.plot(false_positive_rate1, true_positive_rate1)\n",
    "plt.plot([0, 1], ls=\"--\")\n",
    "plt.plot([0, 0], [1, 0] , c=\".7\"), plt.plot([1, 1] , c=\".7\")\n",
    "plt.ylabel('True Positive Rate')\n",
    "plt.xlabel('False Positive Rate')\n",
    "plt.show()"
   ]
  },
  {
   "cell_type": "code",
   "execution_count": null,
   "id": "025ade51-3a0c-411b-96f1-437a4895aff0",
   "metadata": {},
   "outputs": [],
   "source": [
    "\"\"\"\n",
    "Above is a plot of the ROC curve which shows the false posive and true positive rates. There is not much room for improvement with the\n",
    "accurcacy being 99%. You can see the accuracy at the top of the plot with the blue line.\n",
    "\"\"\""
   ]
  },
  {
   "cell_type": "markdown",
   "id": "8c5f7c63",
   "metadata": {},
   "source": [
    "### Linear Discriminant Analysis"
   ]
  },
  {
   "cell_type": "code",
   "execution_count": 113,
   "id": "14ef9607",
   "metadata": {},
   "outputs": [],
   "source": [
    "# the training process \n",
    "sklearn_lda = LDA(n_components=1) #creating a LDA object\n",
    "lda = sklearn_lda.fit(X_train.iloc[:,1:10], y_train) #learning the projection matrix\n",
    "X_lda = lda.transform(X_train.iloc[:,1:10]) #using the model to project X \n",
    "X_labels_lda = lda.predict(X_train.iloc[:,1:10]) #gives you the predicted label for each sample\n",
    "X_prob_lda = lda.predict_proba(X_train.iloc[:,1:10]) #the probability of each sample to belong to each class"
   ]
  },
  {
   "cell_type": "code",
   "execution_count": 114,
   "id": "642ed0b8",
   "metadata": {},
   "outputs": [
    {
     "name": "stdout",
     "output_type": "stream",
     "text": [
      "[[4.59501167e-03 9.95404988e-01]\n",
      " [7.74964961e-02 9.22503504e-01]\n",
      " [2.43057276e-04 9.99756943e-01]\n",
      " ...\n",
      " [8.34060419e-02 9.16593958e-01]\n",
      " [7.89782937e-01 2.10217063e-01]\n",
      " [3.28816206e-03 9.96711838e-01]]\n"
     ]
    }
   ],
   "source": [
    "# testing step \n",
    "X_validation_labels_lda =lda.predict(X_validation.iloc[:,1:10])\n",
    "X_validation_prob_lda = lda.predict_proba(X_validation.iloc[:,1:10]) \n",
    "print(X_validation_prob_lda)"
   ]
  },
  {
   "cell_type": "markdown",
   "id": "ba5db155",
   "metadata": {},
   "source": [
    "#### Confusion matrix for LDA"
   ]
  },
  {
   "cell_type": "code",
   "execution_count": 115,
   "id": "50c65bb8",
   "metadata": {},
   "outputs": [
    {
     "data": {
      "text/plain": [
       "array([[2680,  596],\n",
       "       [ 351, 8877]], dtype=int64)"
      ]
     },
     "execution_count": 115,
     "metadata": {},
     "output_type": "execute_result"
    }
   ],
   "source": [
    "threshold=0.5\n",
    "confusion_matrix(y_validation.iloc[:,0],X_validation_prob_lda[:,1]>=threshold)"
   ]
  },
  {
   "cell_type": "markdown",
   "id": "df46321c",
   "metadata": {},
   "source": [
    "#### Accuracy for LDA"
   ]
  },
  {
   "cell_type": "code",
   "execution_count": 116,
   "id": "79bbeb2a",
   "metadata": {},
   "outputs": [
    {
     "data": {
      "text/plain": [
       "0.9242642354446577"
      ]
     },
     "execution_count": 116,
     "metadata": {},
     "output_type": "execute_result"
    }
   ],
   "source": [
    "threshold=0.5\n",
    "np.mean(y_validation.iloc[:,0]==(X_validation_prob_lda[:,1]>=threshold))"
   ]
  },
  {
   "cell_type": "code",
   "execution_count": 117,
   "id": "082af4f4",
   "metadata": {},
   "outputs": [
    {
     "data": {
      "text/plain": [
       "0.8900172035737705"
      ]
     },
     "execution_count": 117,
     "metadata": {},
     "output_type": "execute_result"
    }
   ],
   "source": [
    "roc_auc_score(y_validation,X_validation_labels_lda)"
   ]
  },
  {
   "cell_type": "markdown",
   "id": "2483730b",
   "metadata": {},
   "source": [
    "#### 10-Cross validation "
   ]
  },
  {
   "cell_type": "code",
   "execution_count": 118,
   "id": "29d5090b",
   "metadata": {},
   "outputs": [
    {
     "name": "stdout",
     "output_type": "stream",
     "text": [
      "Max Accuracy: 0.931 (0.004)\n"
     ]
    }
   ],
   "source": [
    "model2 = LDA()\n",
    "cv = RepeatedStratifiedKFold(n_splits=10, n_repeats=3, random_state=1)\n",
    "scores = cross_val_score(model2, X_train2.iloc[:,1:10], y_train2, scoring='accuracy', cv=cv, n_jobs=-1)\n",
    "print('Max Accuracy: %.3f (%.3f)' % (np.max(scores), np.std(scores)))"
   ]
  },
  {
   "cell_type": "markdown",
   "id": "7bcc6635",
   "metadata": {},
   "source": [
    "### ROC curve"
   ]
  },
  {
   "cell_type": "code",
   "execution_count": 119,
   "id": "0091e735",
   "metadata": {},
   "outputs": [
    {
     "data": {
      "image/png": "[encoded data removed]",
      "text/plain": [
       "<Figure size 576x396 with 1 Axes>"
      ]
     },
     "metadata": {},
     "output_type": "display_data"
    },
    {
     "data": {
      "text/plain": [
       "<AxesSubplot:title={'center':'ROC Curves for LinearDiscriminantAnalysis'}, xlabel='False Positive Rate', ylabel='True Positive Rate'>"
      ]
     },
     "execution_count": 119,
     "metadata": {},
     "output_type": "execute_result"
    }
   ],
   "source": [
    "visualizer = ROCAUC(sklearn_lda)\n",
    "##set_palette('bold')\n",
    "visualizer.fit(X_train2.iloc[:,1:10],y_train2)\n",
    "visualizer.score(X_test.iloc[:,1:10],y_test)\n",
    "visualizer.show()"
   ]
  },
  {
   "cell_type": "markdown",
   "id": "121b7df4",
   "metadata": {},
   "source": [
    "### Quadratic Discriminant Analysis "
   ]
  },
  {
   "cell_type": "code",
   "execution_count": 120,
   "id": "d74e1521",
   "metadata": {},
   "outputs": [],
   "source": [
    "sklearn_qda = QDA(priors=None,store_covariance=True,reg_param=0.000000) #creating a QDA object\n",
    "qda = sklearn_qda.fit(X_train.iloc[:,1:10], y_train.iloc[:,0]) #learning the projection matrix\n",
    "X_labels_qda = qda.predict(X_train.iloc[:,1:10]) #gives you the predicted label for each sample\n",
    "X_prob_qda = qda.predict_proba(X_train.iloc[:,1:10]) #the probability of each sample to belong to each class\n",
    "\n",
    "X_validation_labels_qda=qda.predict(X_validation.iloc[:,1:10])\n",
    "X_validation_prob_qda = qda.predict_proba(X_validation.iloc[:,1:10]) "
   ]
  },
  {
   "cell_type": "code",
   "execution_count": 121,
   "id": "26b8098a",
   "metadata": {},
   "outputs": [
    {
     "data": {
      "text/plain": [
       "array([[0.00000000e+00, 1.00000000e+00],\n",
       "       [9.99999996e-01, 3.94494322e-09],\n",
       "       [0.00000000e+00, 1.00000000e+00],\n",
       "       ...,\n",
       "       [0.00000000e+00, 1.00000000e+00],\n",
       "       [0.00000000e+00, 1.00000000e+00],\n",
       "       [9.99326044e-01, 6.73955509e-04]])"
      ]
     },
     "execution_count": 121,
     "metadata": {},
     "output_type": "execute_result"
    }
   ],
   "source": [
    "X_prob_qda"
   ]
  },
  {
   "cell_type": "markdown",
   "id": "152a6acc",
   "metadata": {},
   "source": [
    "#### Confusion matrix for QDA"
   ]
  },
  {
   "cell_type": "code",
   "execution_count": 122,
   "id": "8108df4a",
   "metadata": {},
   "outputs": [
    {
     "data": {
      "text/plain": [
       "array([[3264,   12],\n",
       "       [  60, 9168]], dtype=int64)"
      ]
     },
     "execution_count": 122,
     "metadata": {},
     "output_type": "execute_result"
    }
   ],
   "source": [
    "threshold = 0.5\n",
    "confusion_matrix(y_validation.iloc[:,0],X_validation_prob_qda[:,1]>=threshold)"
   ]
  },
  {
   "cell_type": "markdown",
   "id": "76e3b0fe",
   "metadata": {},
   "source": [
    "#### Accuracy for QDA"
   ]
  },
  {
   "cell_type": "code",
   "execution_count": 123,
   "id": "c3020d53",
   "metadata": {},
   "outputs": [
    {
     "data": {
      "text/plain": [
       "0.9942418426103646"
      ]
     },
     "execution_count": 123,
     "metadata": {},
     "output_type": "execute_result"
    }
   ],
   "source": [
    "threshold=0.5\n",
    "np.mean(y_validation.iloc[:,0]==(X_validation_prob_qda[:,1]>=threshold))"
   ]
  },
  {
   "cell_type": "code",
   "execution_count": 124,
   "id": "5bac3072",
   "metadata": {},
   "outputs": [
    {
     "data": {
      "text/plain": [
       "0.9949175228759104"
      ]
     },
     "execution_count": 124,
     "metadata": {},
     "output_type": "execute_result"
    }
   ],
   "source": [
    "roc_auc_score(y_validation,X_validation_labels_qda)"
   ]
  },
  {
   "cell_type": "markdown",
   "id": "10f32af3",
   "metadata": {},
   "source": [
    "#### 10-Cross validation"
   ]
  },
  {
   "cell_type": "code",
   "execution_count": 125,
   "id": "7ce2f0ed",
   "metadata": {},
   "outputs": [
    {
     "name": "stdout",
     "output_type": "stream",
     "text": [
      "Max Accuracy: 0.995 (0.001)\n"
     ]
    }
   ],
   "source": [
    "model2 = QDA()\n",
    "cv = RepeatedStratifiedKFold(n_splits=10, n_repeats=3, random_state=1)\n",
    "scores = cross_val_score(model2, X_train2.iloc[:,1:10], y_train2, scoring='accuracy', cv=cv, n_jobs=-1)\n",
    "print('Max Accuracy: %.3f (%.3f)' % (np.max(scores), np.std(scores)))"
   ]
  },
  {
   "cell_type": "markdown",
   "id": "d8b34f15",
   "metadata": {},
   "source": [
    "#### ROC curve"
   ]
  },
  {
   "cell_type": "code",
   "execution_count": 126,
   "id": "4aaed80f",
   "metadata": {},
   "outputs": [
    {
     "data": {
      "image/png": "[encoded data removed]",
      "text/plain": [
       "<Figure size 576x396 with 1 Axes>"
      ]
     },
     "metadata": {},
     "output_type": "display_data"
    },
    {
     "data": {
      "text/plain": [
       "<AxesSubplot:title={'center':'ROC Curves for QuadraticDiscriminantAnalysis'}, xlabel='False Positive Rate', ylabel='True Positive Rate'>"
      ]
     },
     "execution_count": 126,
     "metadata": {},
     "output_type": "execute_result"
    }
   ],
   "source": [
    "visualizer = ROCAUC(sklearn_qda)\n",
    "##set_palette('bold')\n",
    "visualizer.fit(X_train2.iloc[:,1:10],y_train2)\n",
    "visualizer.score(X_test.iloc[:,1:10],y_test)\n",
    "visualizer.show()"
   ]
  },
  {
   "cell_type": "markdown",
   "id": "88d0e60b",
   "metadata": {},
   "source": [
    "### Naive Bayes "
   ]
  },
  {
   "cell_type": "code",
   "execution_count": 127,
   "id": "43bdc61b",
   "metadata": {},
   "outputs": [
    {
     "name": "stdout",
     "output_type": "stream",
     "text": [
      "0.9930422264875239\n"
     ]
    }
   ],
   "source": [
    "NB_class = NB()\n",
    "NB_class.fit(X_train.iloc[:,1:10], y_train)\n",
    "X_validation_labels_NB=NB_class.predict(X_validation.iloc[:,1:10])\n",
    "X_validation_prob_NB = NB_class.predict_proba(X_validation.iloc[:,1:10]) \n",
    "print(np.mean(y_validation.iloc[:,0]==X_validation_labels_NB))\n",
    "#dir(NB_class) # use dir command to check what Naive Bayes classifier has"
   ]
  },
  {
   "cell_type": "code",
   "execution_count": 128,
   "id": "683377c0",
   "metadata": {},
   "outputs": [
    {
     "name": "stdout",
     "output_type": "stream",
     "text": [
      "[[0.00000000e+00 1.00000000e+00]\n",
      " [0.00000000e+00 1.00000000e+00]\n",
      " [0.00000000e+00 1.00000000e+00]\n",
      " ...\n",
      " [9.99856099e-01 1.43901153e-04]\n",
      " [0.00000000e+00 1.00000000e+00]\n",
      " [0.00000000e+00 1.00000000e+00]]\n"
     ]
    }
   ],
   "source": [
    "print(X_validation_prob_NB)"
   ]
  },
  {
   "cell_type": "markdown",
   "id": "c0f79e30",
   "metadata": {},
   "source": [
    "#### Confusion matrix for Naive Bayes"
   ]
  },
  {
   "cell_type": "code",
   "execution_count": 129,
   "id": "c0e3612f",
   "metadata": {},
   "outputs": [
    {
     "data": {
      "text/plain": [
       "array([[3248,   28],\n",
       "       [  59, 9169]], dtype=int64)"
      ]
     },
     "execution_count": 129,
     "metadata": {},
     "output_type": "execute_result"
    }
   ],
   "source": [
    "threshold=0.5\n",
    "confusion_matrix(y_validation.iloc[:,0],X_validation_prob_NB[:,1]>=threshold)"
   ]
  },
  {
   "cell_type": "markdown",
   "id": "3b6d80c6",
   "metadata": {},
   "source": [
    "#### Accuracy for Naive Bayes "
   ]
  },
  {
   "cell_type": "code",
   "execution_count": 130,
   "id": "b5581ddb",
   "metadata": {},
   "outputs": [
    {
     "data": {
      "text/plain": [
       "0.9930422264875239"
      ]
     },
     "execution_count": 130,
     "metadata": {},
     "output_type": "execute_result"
    }
   ],
   "source": [
    "threshold=0.5\n",
    "np.mean(y_validation.iloc[:,0]==(X_validation_prob_NB[:,1]>=threshold))"
   ]
  },
  {
   "cell_type": "code",
   "execution_count": 131,
   "id": "97d33be3",
   "metadata": {},
   "outputs": [
    {
     "data": {
      "text/plain": [
       "0.9925297033554512"
      ]
     },
     "execution_count": 131,
     "metadata": {},
     "output_type": "execute_result"
    }
   ],
   "source": [
    "roc_auc_score(y_validation,X_validation_labels_NB)"
   ]
  },
  {
   "cell_type": "markdown",
   "id": "719a6a38",
   "metadata": {},
   "source": [
    "#### 10-Cross validation"
   ]
  },
  {
   "cell_type": "code",
   "execution_count": 132,
   "id": "d53739c2",
   "metadata": {},
   "outputs": [
    {
     "name": "stdout",
     "output_type": "stream",
     "text": [
      "Max Accuracy: 0.994 (0.001)\n"
     ]
    }
   ],
   "source": [
    "model3 = NB()\n",
    "cv = RepeatedStratifiedKFold(n_splits=10, n_repeats=3, random_state=1)\n",
    "scores = cross_val_score(model3, X_train2.iloc[:,1:10], y_train2, scoring='accuracy', cv=cv, n_jobs=-1)\n",
    "print('Max Accuracy: %.3f (%.3f)' % (np.max(scores), np.std(scores)))"
   ]
  },
  {
   "cell_type": "markdown",
   "id": "e61ad5f6",
   "metadata": {},
   "source": [
    "####  ROC curve"
   ]
  },
  {
   "cell_type": "code",
   "execution_count": 133,
   "id": "ac5b808c",
   "metadata": {},
   "outputs": [
    {
     "data": {
      "image/png": "[encoded data removed]",
      "text/plain": [
       "<Figure size 576x396 with 1 Axes>"
      ]
     },
     "metadata": {},
     "output_type": "display_data"
    },
    {
     "data": {
      "text/plain": [
       "<AxesSubplot:title={'center':'ROC Curves for GaussianNB'}, xlabel='False Positive Rate', ylabel='True Positive Rate'>"
      ]
     },
     "execution_count": 133,
     "metadata": {},
     "output_type": "execute_result"
    }
   ],
   "source": [
    "visualizer = ROCAUC(NB_class)\n",
    "##set_palette('bold')\n",
    "visualizer.fit(X_train2.iloc[:,1:10],y_train2)\n",
    "visualizer.score(X_test.iloc[:,1:10],y_test)\n",
    "visualizer.show()"
   ]
  },
  {
   "cell_type": "markdown",
   "id": "a76cc834",
   "metadata": {},
   "source": [
    "### K-Nearest Neighbors"
   ]
  },
  {
   "cell_type": "code",
   "execution_count": 134,
   "id": "8e9a8fa0",
   "metadata": {},
   "outputs": [],
   "source": [
    "neigh = KNN(n_neighbors= 4) # use n_neighbors to change the # of tune the performance of KNN\n",
    "KNN_fit = neigh.fit(X_train.iloc[:,1:10], y_train) #learning the projection matrix\n",
    "X_validation_labels_KNN=KNN_fit.predict(X_validation.iloc[:,1:10])\n",
    "X_validation_prob_KNN = KNN_fit.predict_proba(X_validation.iloc[:,1:10])"
   ]
  },
  {
   "cell_type": "markdown",
   "id": "3132a9bc",
   "metadata": {},
   "source": [
    "#### Confusion matrix for KNN"
   ]
  },
  {
   "cell_type": "code",
   "execution_count": 135,
   "id": "5897642e",
   "metadata": {},
   "outputs": [
    {
     "data": {
      "text/plain": [
       "array([[3187,   89],\n",
       "       [ 152, 9076]], dtype=int64)"
      ]
     },
     "execution_count": 135,
     "metadata": {},
     "output_type": "execute_result"
    }
   ],
   "source": [
    "threshold=0.5\n",
    "confusion_matrix(y_validation.iloc[:,0],X_validation_prob_KNN[:,1]>=threshold)"
   ]
  },
  {
   "cell_type": "markdown",
   "id": "d1e7d013",
   "metadata": {},
   "source": [
    "#### Accuracy for KNN"
   ]
  },
  {
   "cell_type": "code",
   "execution_count": 136,
   "id": "4efcc8e8",
   "metadata": {},
   "outputs": [
    {
     "data": {
      "text/plain": [
       "0.9807261676263596"
      ]
     },
     "execution_count": 136,
     "metadata": {},
     "output_type": "execute_result"
    }
   ],
   "source": [
    "threshold=0.5\n",
    "np.mean(y_validation.iloc[:,0]==(X_validation_prob_KNN[:,1]>=threshold))"
   ]
  },
  {
   "cell_type": "code",
   "execution_count": 137,
   "id": "98619fa1",
   "metadata": {},
   "outputs": [
    {
     "data": {
      "text/plain": [
       "0.9834368961482096"
      ]
     },
     "execution_count": 137,
     "metadata": {},
     "output_type": "execute_result"
    }
   ],
   "source": [
    "roc_auc_score(y_validation,X_validation_labels_KNN)"
   ]
  },
  {
   "cell_type": "markdown",
   "id": "10501fa1",
   "metadata": {},
   "source": [
    "#### 10-Cross validation"
   ]
  },
  {
   "cell_type": "code",
   "execution_count": 138,
   "id": "7aa2c18b",
   "metadata": {},
   "outputs": [
    {
     "name": "stdout",
     "output_type": "stream",
     "text": [
      "Max Accuracy: 0.984 (0.001)\n"
     ]
    }
   ],
   "source": [
    "model4 = KNN()\n",
    "cv = RepeatedStratifiedKFold(n_splits=10, n_repeats=3, random_state=1)\n",
    "scores = cross_val_score(model4, X_train2.iloc[:,1:10], y_train2, scoring='accuracy', cv=cv, n_jobs=-1)\n",
    "print('Max Accuracy: %.3f (%.3f)' % (np.max(scores), np.std(scores)))"
   ]
  },
  {
   "cell_type": "markdown",
   "id": "c003ac63",
   "metadata": {},
   "source": [
    "#### ROC curve"
   ]
  },
  {
   "cell_type": "code",
   "execution_count": 139,
   "id": "65464cac",
   "metadata": {},
   "outputs": [
    {
     "data": {
      "image/png": "[encoded data removed]",
      "text/plain": [
       "<Figure size 576x396 with 1 Axes>"
      ]
     },
     "metadata": {},
     "output_type": "display_data"
    },
    {
     "data": {
      "text/plain": [
       "<AxesSubplot:title={'center':'ROC Curves for KNeighborsClassifier'}, xlabel='False Positive Rate', ylabel='True Positive Rate'>"
      ]
     },
     "execution_count": 139,
     "metadata": {},
     "output_type": "execute_result"
    }
   ],
   "source": [
    "visualizer = ROCAUC(neigh)\n",
    "##set_palette('bold')\n",
    "visualizer.fit(X_train2.iloc[:,1:10],y_train2)\n",
    "visualizer.score(X_test.iloc[:,1:10],y_test)\n",
    "visualizer.show()"
   ]
  },
  {
   "cell_type": "markdown",
   "id": "547f269c",
   "metadata": {},
   "source": [
    "## Lasso"
   ]
  },
  {
   "cell_type": "code",
   "execution_count": 140,
   "id": "af3cdd7c",
   "metadata": {},
   "outputs": [],
   "source": [
    "lr = LogisticRegression(C=10000.0, random_state=0,penalty='l1',solver='saga')\n",
    "lr.fit(X_train.iloc[:,1:10], np.ravel(y_train)) # np.ravel(y_train) is used to get around an error\n",
    "pred = lr.predict(X_validation.iloc[:,1:10]) "
   ]
  },
  {
   "cell_type": "code",
   "execution_count": 141,
   "id": "a60ebdae",
   "metadata": {},
   "outputs": [
    {
     "data": {
      "text/plain": [
       "array([[-1.04101819e+00,  8.80241323e-01, -2.05103276e-01,\n",
       "         1.21947598e-01, -4.45329153e-02,  7.40491583e-01,\n",
       "         4.71802802e+01,  7.38893136e-01, -1.46571097e+00]])"
      ]
     },
     "execution_count": 141,
     "metadata": {},
     "output_type": "execute_result"
    }
   ],
   "source": [
    "lr.coef_"
   ]
  },
  {
   "cell_type": "code",
   "execution_count": 142,
   "id": "94ecb50f",
   "metadata": {},
   "outputs": [],
   "source": [
    "coeff = np.array([-1.04101819e+00,  8.80241323e-01, -2.05103276e-01,\n",
    "         1.21947598e-01, -4.45329153e-02,  7.40491583e-01,\n",
    "         4.71802802e+01,  7.38893136e-01, -1.46571097e+00])"
   ]
  },
  {
   "cell_type": "code",
   "execution_count": 143,
   "id": "c73b6ada",
   "metadata": {},
   "outputs": [
    {
     "name": "stdout",
     "output_type": "stream",
     "text": [
      "u              -1.041018\n",
      "g               0.880241\n",
      "r              -0.205103\n",
      "i               0.121948\n",
      "z              -0.044533\n",
      "spec_obj_ID     0.740492\n",
      "redshift       47.180280\n",
      "plate           0.738893\n",
      "MJD            -1.465711\n",
      "dtype: float64\n"
     ]
    }
   ],
   "source": [
    "print(pd.Series(coeff, X_validation.iloc[:,1:10].columns))"
   ]
  },
  {
   "cell_type": "markdown",
   "id": "01ddd8e3",
   "metadata": {},
   "source": [
    "#### Confusion matrix for Lasso"
   ]
  },
  {
   "cell_type": "code",
   "execution_count": 144,
   "id": "cc0c1307",
   "metadata": {},
   "outputs": [
    {
     "data": {
      "text/plain": [
       "array([[3275,    1],\n",
       "       [ 113, 9115]], dtype=int64)"
      ]
     },
     "execution_count": 144,
     "metadata": {},
     "output_type": "execute_result"
    }
   ],
   "source": [
    "threshold=0.5\n",
    "confusion_matrix(y_validation.iloc[:,0],pred>=threshold)"
   ]
  },
  {
   "cell_type": "markdown",
   "id": "ca9fb15b",
   "metadata": {},
   "source": [
    "#### Accuracy for Lasso"
   ]
  },
  {
   "cell_type": "code",
   "execution_count": 145,
   "id": "853afa83",
   "metadata": {},
   "outputs": [
    {
     "data": {
      "text/plain": [
       "0.9908829174664108"
      ]
     },
     "execution_count": 145,
     "metadata": {},
     "output_type": "execute_result"
    }
   ],
   "source": [
    "threshold=0.5\n",
    "np.mean(y_validation.iloc[:,0]==(pred>=threshold))"
   ]
  },
  {
   "cell_type": "markdown",
   "id": "49bb1103",
   "metadata": {},
   "source": [
    "#### ROC curve"
   ]
  },
  {
   "cell_type": "code",
   "execution_count": 146,
   "id": "96a91593",
   "metadata": {},
   "outputs": [
    {
     "data": {
      "image/png": "[encoded data removed]",
      "text/plain": [
       "<Figure size 576x396 with 1 Axes>"
      ]
     },
     "metadata": {},
     "output_type": "display_data"
    },
    {
     "data": {
      "text/plain": [
       "<AxesSubplot:title={'center':'ROC Curves for LogisticRegression'}, xlabel='False Positive Rate', ylabel='True Positive Rate'>"
      ]
     },
     "execution_count": 146,
     "metadata": {},
     "output_type": "execute_result"
    }
   ],
   "source": [
    "visualizer = ROCAUC(lr)\n",
    "##set_palette('bold')\n",
    "visualizer.fit(X_train2.iloc[:,1:10],y_train2)\n",
    "visualizer.score(X_test.iloc[:,1:10],y_test)\n",
    "visualizer.show()"
   ]
  },
  {
   "cell_type": "markdown",
   "id": "ca992864",
   "metadata": {},
   "source": [
    "#### 10-Cross validation "
   ]
  },
  {
   "cell_type": "code",
   "execution_count": 147,
   "id": "04af053a",
   "metadata": {},
   "outputs": [
    {
     "data": {
      "text/plain": [
       "0.9931222008957133"
      ]
     },
     "execution_count": 147,
     "metadata": {},
     "output_type": "execute_result"
    }
   ],
   "source": [
    "logr = LogisticRegressionCV(penalty='l1',solver='saga')\n",
    "logr.fit(X_train.iloc[:,1:10], y_train)\n",
    "logr.score(X_validation.iloc[:,1:10],y_validation)"
   ]
  },
  {
   "cell_type": "markdown",
   "id": "4b176148",
   "metadata": {},
   "source": [
    "## The Bootstrap"
   ]
  },
  {
   "cell_type": "code",
   "execution_count": 35,
   "id": "ff430455-be98-4104-aaf7-130c1165cb09",
   "metadata": {},
   "outputs": [],
   "source": [
    "import numpy as np\n",
    "import pandas as pd\n",
    "import matplotlib.pyplot as plt\n",
    "import seaborn as sns\n",
    "from sklearn.linear_model import LogisticRegression\n",
    "from sklearn.metrics import confusion_matrix\n",
    "from IPython.display import display, HTML\n",
    "import statsmodels.api as sm\n",
    "import statsmodels.formula.api as smf\n",
    "from sklearn import datasets\n",
    "from scipy import stats"
   ]
  },
  {
   "cell_type": "code",
   "execution_count": 61,
   "id": "2d79af8d-9b09-4063-bd7d-383617cd7d2a",
   "metadata": {},
   "outputs": [
    {
     "data": {
      "text/html": [
       "<div>\n",
       "<style scoped>\n",
       "    .dataframe tbody tr th:only-of-type {\n",
       "        vertical-align: middle;\n",
       "    }\n",
       "\n",
       "    .dataframe tbody tr th {\n",
       "        vertical-align: top;\n",
       "    }\n",
       "\n",
       "    .dataframe thead th {\n",
       "        text-align: right;\n",
       "    }\n",
       "</style>\n",
       "<table border=\"1\" class=\"dataframe\">\n",
       "  <thead>\n",
       "    <tr style=\"text-align: right;\">\n",
       "      <th></th>\n",
       "      <th>u</th>\n",
       "      <th>g</th>\n",
       "      <th>r</th>\n",
       "      <th>i</th>\n",
       "      <th>z</th>\n",
       "      <th>spec_obj_ID</th>\n",
       "      <th>redshift</th>\n",
       "      <th>plate</th>\n",
       "      <th>MJD</th>\n",
       "      <th>Galaxy</th>\n",
       "    </tr>\n",
       "  </thead>\n",
       "  <tbody>\n",
       "    <tr>\n",
       "      <th>0</th>\n",
       "      <td>0.723916</td>\n",
       "      <td>1.713481</td>\n",
       "      <td>1.345933</td>\n",
       "      <td>0.957272</td>\n",
       "      <td>0.756604</td>\n",
       "      <td>1.332172</td>\n",
       "      <td>1.517021</td>\n",
       "      <td>1.332155</td>\n",
       "      <td>1.425050</td>\n",
       "      <td>1</td>\n",
       "    </tr>\n",
       "    <tr>\n",
       "      <th>1</th>\n",
       "      <td>1.666306</td>\n",
       "      <td>0.355123</td>\n",
       "      <td>0.070160</td>\n",
       "      <td>-0.004699</td>\n",
       "      <td>-0.035526</td>\n",
       "      <td>-1.417376</td>\n",
       "      <td>0.386295</td>\n",
       "      <td>-1.417397</td>\n",
       "      <td>-1.770657</td>\n",
       "      <td>1</td>\n",
       "    </tr>\n",
       "    <tr>\n",
       "      <th>2</th>\n",
       "      <td>-1.190705</td>\n",
       "      <td>-1.478809</td>\n",
       "      <td>-1.561962</td>\n",
       "      <td>-1.577374</td>\n",
       "      <td>-1.541083</td>\n",
       "      <td>-0.725525</td>\n",
       "      <td>-1.062771</td>\n",
       "      <td>-0.725524</td>\n",
       "      <td>-0.664450</td>\n",
       "      <td>0</td>\n",
       "    </tr>\n",
       "    <tr>\n",
       "      <th>3</th>\n",
       "      <td>0.808781</td>\n",
       "      <td>0.921637</td>\n",
       "      <td>1.071665</td>\n",
       "      <td>1.478678</td>\n",
       "      <td>2.112286</td>\n",
       "      <td>1.333544</td>\n",
       "      <td>0.428945</td>\n",
       "      <td>1.333562</td>\n",
       "      <td>1.495767</td>\n",
       "      <td>1</td>\n",
       "    </tr>\n",
       "    <tr>\n",
       "      <th>4</th>\n",
       "      <td>0.020685</td>\n",
       "      <td>-0.197524</td>\n",
       "      <td>-0.040500</td>\n",
       "      <td>0.025776</td>\n",
       "      <td>0.174451</td>\n",
       "      <td>-0.783236</td>\n",
       "      <td>-0.590407</td>\n",
       "      <td>-0.783210</td>\n",
       "      <td>-0.827771</td>\n",
       "      <td>1</td>\n",
       "    </tr>\n",
       "    <tr>\n",
       "      <th>...</th>\n",
       "      <td>...</td>\n",
       "      <td>...</td>\n",
       "      <td>...</td>\n",
       "      <td>...</td>\n",
       "      <td>...</td>\n",
       "      <td>...</td>\n",
       "      <td>...</td>\n",
       "      <td>...</td>\n",
       "      <td>...</td>\n",
       "      <td>...</td>\n",
       "    </tr>\n",
       "    <tr>\n",
       "      <th>53887</th>\n",
       "      <td>-1.691125</td>\n",
       "      <td>-1.673783</td>\n",
       "      <td>-1.640947</td>\n",
       "      <td>-1.672514</td>\n",
       "      <td>-1.663159</td>\n",
       "      <td>-1.009729</td>\n",
       "      <td>-0.890371</td>\n",
       "      <td>-1.009730</td>\n",
       "      <td>-1.107831</td>\n",
       "      <td>1</td>\n",
       "    </tr>\n",
       "    <tr>\n",
       "      <th>53888</th>\n",
       "      <td>-1.639533</td>\n",
       "      <td>-1.609000</td>\n",
       "      <td>-1.456891</td>\n",
       "      <td>-1.322051</td>\n",
       "      <td>-1.153696</td>\n",
       "      <td>0.953330</td>\n",
       "      <td>-1.062106</td>\n",
       "      <td>0.953331</td>\n",
       "      <td>0.775694</td>\n",
       "      <td>0</td>\n",
       "    </tr>\n",
       "    <tr>\n",
       "      <th>53889</th>\n",
       "      <td>1.202379</td>\n",
       "      <td>1.270497</td>\n",
       "      <td>1.082959</td>\n",
       "      <td>0.809738</td>\n",
       "      <td>0.626240</td>\n",
       "      <td>1.053960</td>\n",
       "      <td>1.648152</td>\n",
       "      <td>1.053929</td>\n",
       "      <td>1.327394</td>\n",
       "      <td>1</td>\n",
       "    </tr>\n",
       "    <tr>\n",
       "      <th>53890</th>\n",
       "      <td>-1.176535</td>\n",
       "      <td>-1.151560</td>\n",
       "      <td>-1.075752</td>\n",
       "      <td>-1.027358</td>\n",
       "      <td>-0.976234</td>\n",
       "      <td>-1.220761</td>\n",
       "      <td>-0.829689</td>\n",
       "      <td>-1.220774</td>\n",
       "      <td>-1.327837</td>\n",
       "      <td>1</td>\n",
       "    </tr>\n",
       "    <tr>\n",
       "      <th>53891</th>\n",
       "      <td>-0.167526</td>\n",
       "      <td>0.522706</td>\n",
       "      <td>0.687536</td>\n",
       "      <td>0.642617</td>\n",
       "      <td>0.694267</td>\n",
       "      <td>-0.087130</td>\n",
       "      <td>1.231764</td>\n",
       "      <td>-0.087116</td>\n",
       "      <td>0.128022</td>\n",
       "      <td>1</td>\n",
       "    </tr>\n",
       "  </tbody>\n",
       "</table>\n",
       "<p>53892 rows × 10 columns</p>\n",
       "</div>"
      ],
      "text/plain": [
       "              u         g         r         i         z  spec_obj_ID  \\\n",
       "0      0.723916  1.713481  1.345933  0.957272  0.756604     1.332172   \n",
       "1      1.666306  0.355123  0.070160 -0.004699 -0.035526    -1.417376   \n",
       "2     -1.190705 -1.478809 -1.561962 -1.577374 -1.541083    -0.725525   \n",
       "3      0.808781  0.921637  1.071665  1.478678  2.112286     1.333544   \n",
       "4      0.020685 -0.197524 -0.040500  0.025776  0.174451    -0.783236   \n",
       "...         ...       ...       ...       ...       ...          ...   \n",
       "53887 -1.691125 -1.673783 -1.640947 -1.672514 -1.663159    -1.009729   \n",
       "53888 -1.639533 -1.609000 -1.456891 -1.322051 -1.153696     0.953330   \n",
       "53889  1.202379  1.270497  1.082959  0.809738  0.626240     1.053960   \n",
       "53890 -1.176535 -1.151560 -1.075752 -1.027358 -0.976234    -1.220761   \n",
       "53891 -0.167526  0.522706  0.687536  0.642617  0.694267    -0.087130   \n",
       "\n",
       "       redshift     plate       MJD  Galaxy  \n",
       "0      1.517021  1.332155  1.425050       1  \n",
       "1      0.386295 -1.417397 -1.770657       1  \n",
       "2     -1.062771 -0.725524 -0.664450       0  \n",
       "3      0.428945  1.333562  1.495767       1  \n",
       "4     -0.590407 -0.783210 -0.827771       1  \n",
       "...         ...       ...       ...     ...  \n",
       "53887 -0.890371 -1.009730 -1.107831       1  \n",
       "53888 -1.062106  0.953331  0.775694       0  \n",
       "53889  1.648152  1.053929  1.327394       1  \n",
       "53890 -0.829689 -1.220774 -1.327837       1  \n",
       "53891  1.231764 -0.087116  0.128022       1  \n",
       "\n",
       "[53892 rows x 10 columns]"
      ]
     },
     "execution_count": 61,
     "metadata": {},
     "output_type": "execute_result"
    }
   ],
   "source": [
    "strat_train.reset_index(drop=True)"
   ]
  },
  {
   "cell_type": "code",
   "execution_count": 71,
   "id": "dc65e841",
   "metadata": {},
   "outputs": [
    {
     "name": "stdout",
     "output_type": "stream",
     "text": [
      "                           Logit Regression Results                           \n",
      "==============================================================================\n",
      "Dep. Variable:                      y   No. Observations:                53892\n",
      "Model:                          Logit   Df Residuals:                    53882\n",
      "Method:                           MLE   Df Model:                            9\n",
      "Date:                Sat, 05 Nov 2022   Pseudo R-squ.:                     inf\n",
      "Time:                        19:14:20   Log-Likelihood:                   -inf\n",
      "converged:                      False   LL-Null:                        0.0000\n",
      "Covariance Type:            nonrobust   LLR p-value:                     1.000\n",
      "==============================================================================\n",
      "                 coef    std err          z      P>|z|      [0.025      0.975]\n",
      "------------------------------------------------------------------------------\n",
      "const        282.6766     15.010     18.833      0.000     253.258     312.095\n",
      "x1            -0.3645      0.129     -2.835      0.005      -0.616      -0.113\n",
      "x2             0.8434      0.175      4.824      0.000       0.501       1.186\n",
      "x3            -0.5298      0.208     -2.552      0.011      -0.937      -0.123\n",
      "x4             0.2768      0.211      1.315      0.189      -0.136       0.690\n",
      "x5             0.0236      0.135      0.174      0.862      -0.242       0.289\n",
      "x6           269.4440     14.131     19.068      0.000     241.748     297.140\n",
      "x7         -9842.5644   2422.515     -4.063      0.000   -1.46e+04   -5094.523\n",
      "x8          9843.5020   2422.502      4.063      0.000    5095.486    1.46e+04\n",
      "x9            -0.5706      0.233     -2.449      0.014      -1.027      -0.114\n",
      "==============================================================================\n",
      "\n",
      "Possibly complete quasi-separation: A fraction 0.73 of observations can be\n",
      "perfectly predicted. This might indicate that there is complete\n",
      "quasi-separation. In this case some parameters will not be identified.\n"
     ]
    },
    {
     "data": {
      "text/html": [
       "<div>\n",
       "<style scoped>\n",
       "    .dataframe tbody tr th:only-of-type {\n",
       "        vertical-align: middle;\n",
       "    }\n",
       "\n",
       "    .dataframe tbody tr th {\n",
       "        vertical-align: top;\n",
       "    }\n",
       "\n",
       "    .dataframe thead th {\n",
       "        text-align: right;\n",
       "    }\n",
       "</style>\n",
       "<table border=\"1\" class=\"dataframe\">\n",
       "  <thead>\n",
       "    <tr style=\"text-align: right;\">\n",
       "      <th></th>\n",
       "      <th>coef_sm</th>\n",
       "      <th>SE_sm</th>\n",
       "    </tr>\n",
       "  </thead>\n",
       "  <tbody>\n",
       "    <tr>\n",
       "      <th>0</th>\n",
       "      <td>282.676623</td>\n",
       "      <td>15.009652</td>\n",
       "    </tr>\n",
       "    <tr>\n",
       "      <th>1</th>\n",
       "      <td>-0.364504</td>\n",
       "      <td>0.128559</td>\n",
       "    </tr>\n",
       "    <tr>\n",
       "      <th>2</th>\n",
       "      <td>0.843410</td>\n",
       "      <td>0.174839</td>\n",
       "    </tr>\n",
       "    <tr>\n",
       "      <th>3</th>\n",
       "      <td>-0.529827</td>\n",
       "      <td>0.207603</td>\n",
       "    </tr>\n",
       "    <tr>\n",
       "      <th>4</th>\n",
       "      <td>0.276830</td>\n",
       "      <td>0.210561</td>\n",
       "    </tr>\n",
       "    <tr>\n",
       "      <th>5</th>\n",
       "      <td>0.023556</td>\n",
       "      <td>0.135490</td>\n",
       "    </tr>\n",
       "    <tr>\n",
       "      <th>6</th>\n",
       "      <td>269.444031</td>\n",
       "      <td>14.130671</td>\n",
       "    </tr>\n",
       "    <tr>\n",
       "      <th>7</th>\n",
       "      <td>-9842.564386</td>\n",
       "      <td>2422.514520</td>\n",
       "    </tr>\n",
       "    <tr>\n",
       "      <th>8</th>\n",
       "      <td>9843.501952</td>\n",
       "      <td>2422.501548</td>\n",
       "    </tr>\n",
       "    <tr>\n",
       "      <th>9</th>\n",
       "      <td>-0.570598</td>\n",
       "      <td>0.232965</td>\n",
       "    </tr>\n",
       "  </tbody>\n",
       "</table>\n",
       "</div>"
      ],
      "text/plain": [
       "       coef_sm        SE_sm\n",
       "0   282.676623    15.009652\n",
       "1    -0.364504     0.128559\n",
       "2     0.843410     0.174839\n",
       "3    -0.529827     0.207603\n",
       "4     0.276830     0.210561\n",
       "5     0.023556     0.135490\n",
       "6   269.444031    14.130671\n",
       "7 -9842.564386  2422.514520\n",
       "8  9843.501952  2422.501548\n",
       "9    -0.570598     0.232965"
      ]
     },
     "metadata": {},
     "output_type": "display_data"
    }
   ],
   "source": [
    "response   = 'Galaxy'\n",
    "predictors = ['u','g','r','i','z','redshift','spec_obj_ID','plate','MJD']\n",
    "\n",
    "X_all = sm.add_constant(np.array(strat_train[predictors]))\n",
    "y_all = np.array(strat_train[response])\n",
    "\n",
    "## Logistic regression\n",
    "model_logit = sm.Logit(y_all, X_all).fit(disp=False);    \n",
    "\n",
    "# Summary\n",
    "print(model_logit.summary())\n",
    "\n",
    "statsmodels_est = pd.DataFrame({'coef_sm': model_logit.params, 'SE_sm': model_logit.bse})\n",
    "display(statsmodels_est)"
   ]
  },
  {
   "cell_type": "code",
   "execution_count": null,
   "id": "f3bd33f5-af77-47e1-95e3-5f776461e91a",
   "metadata": {},
   "outputs": [],
   "source": [
    "ols2 = sm.ols('mpg ~ horsepower + horsepower_2', data=auto).fit()\n",
    "ols2.summary().tables[1]\n"
   ]
  },
  {
   "cell_type": "code",
   "execution_count": 73,
   "id": "1085b500-1fdc-4370-a53c-477cefd62505",
   "metadata": {},
   "outputs": [],
   "source": [
    "def boot_fn(strat_train, idx):\n",
    "    response   = 'Galaxy'\n",
    "    predictors = ['u','g','r','i','z','redshift','spec_obj_ID','plate','MJD']\n",
    "    \n",
    "    X = sm.add_constant(np.array(strat_train[predictors]));\n",
    "    y = np.array(strat_train[response]) \n",
    "       \n",
    "    # Logistic regression\n",
    "    model_logit = sm.Logit(y, X).fit(disp=False);  \n",
    "    return model_logit.params;"
   ]
  },
  {
   "cell_type": "code",
   "execution_count": 74,
   "id": "8c64246e-2851-46c8-b2d4-a469c83cb2d0",
   "metadata": {},
   "outputs": [
    {
     "ename": "KeyboardInterrupt",
     "evalue": "",
     "output_type": "error",
     "traceback": [
      "\u001b[0;31m---------------------------------------------------------------------------\u001b[0m",
      "\u001b[0;31mKeyboardInterrupt\u001b[0m                         Traceback (most recent call last)",
      "Input \u001b[0;32mIn [74]\u001b[0m, in \u001b[0;36m<cell line: 22>\u001b[0;34m()\u001b[0m\n\u001b[1;32m     19\u001b[0m     \u001b[38;5;28;01mreturn\u001b[39;00m SE\n\u001b[1;32m     21\u001b[0m B \u001b[38;5;241m=\u001b[39m \u001b[38;5;241m5000\u001b[39m\n\u001b[0;32m---> 22\u001b[0m coef_preds    \u001b[38;5;241m=\u001b[39m \u001b[43mboot\u001b[49m\u001b[43m(\u001b[49m\u001b[43mboot_fn\u001b[49m\u001b[43m,\u001b[49m\u001b[43mstrat_train\u001b[49m\u001b[43m,\u001b[49m\u001b[43m \u001b[49m\u001b[43msamples\u001b[49m\u001b[38;5;241;43m=\u001b[39;49m\u001b[43mB\u001b[49m\u001b[43m)\u001b[49m\n\u001b[1;32m     23\u001b[0m coef_pred     \u001b[38;5;241m=\u001b[39m np\u001b[38;5;241m.\u001b[39mmean(coef_preds, axis\u001b[38;5;241m=\u001b[39m\u001b[38;5;241m0\u001b[39m)\n\u001b[1;32m     24\u001b[0m standard_errs \u001b[38;5;241m=\u001b[39m standard_deviation(coef_preds)\n",
      "Input \u001b[0;32mIn [74]\u001b[0m, in \u001b[0;36mboot\u001b[0;34m(fn, data_df, samples)\u001b[0m\n\u001b[1;32m      8\u001b[0m results \u001b[38;5;241m=\u001b[39m []\n\u001b[1;32m      9\u001b[0m \u001b[38;5;28;01mfor\u001b[39;00m s \u001b[38;5;129;01min\u001b[39;00m \u001b[38;5;28mrange\u001b[39m(samples):\n\u001b[0;32m---> 10\u001b[0m     Z \u001b[38;5;241m=\u001b[39m \u001b[43mfn\u001b[49m\u001b[43m(\u001b[49m\u001b[43mdata_df\u001b[49m\u001b[43m,\u001b[49m\u001b[43m \u001b[49m\u001b[43mboot_idx\u001b[49m\u001b[43m(\u001b[49m\u001b[43mdata_df\u001b[49m\u001b[38;5;241;43m.\u001b[39;49m\u001b[43mshape\u001b[49m\u001b[43m[\u001b[49m\u001b[38;5;241;43m0\u001b[39;49m\u001b[43m]\u001b[49m\u001b[43m)\u001b[49m\u001b[43m)\u001b[49m\n\u001b[1;32m     11\u001b[0m     results \u001b[38;5;241m+\u001b[39m\u001b[38;5;241m=\u001b[39m [Z]\n\u001b[1;32m     12\u001b[0m \u001b[38;5;28;01mreturn\u001b[39;00m np\u001b[38;5;241m.\u001b[39marray(results)\n",
      "Input \u001b[0;32mIn [73]\u001b[0m, in \u001b[0;36mboot_fn\u001b[0;34m(strat_train, idx)\u001b[0m\n\u001b[1;32m      6\u001b[0m y \u001b[38;5;241m=\u001b[39m np\u001b[38;5;241m.\u001b[39marray(strat_train[response]) \n\u001b[1;32m      8\u001b[0m \u001b[38;5;66;03m# Logistic regression\u001b[39;00m\n\u001b[0;32m----> 9\u001b[0m model_logit \u001b[38;5;241m=\u001b[39m \u001b[43msm\u001b[49m\u001b[38;5;241;43m.\u001b[39;49m\u001b[43mLogit\u001b[49m\u001b[43m(\u001b[49m\u001b[43my\u001b[49m\u001b[43m,\u001b[49m\u001b[43m \u001b[49m\u001b[43mX\u001b[49m\u001b[43m)\u001b[49m\u001b[38;5;241;43m.\u001b[39;49m\u001b[43mfit\u001b[49m\u001b[43m(\u001b[49m\u001b[43mdisp\u001b[49m\u001b[38;5;241;43m=\u001b[39;49m\u001b[38;5;28;43;01mFalse\u001b[39;49;00m\u001b[43m)\u001b[49m;  \n\u001b[1;32m     10\u001b[0m \u001b[38;5;28;01mreturn\u001b[39;00m model_logit\u001b[38;5;241m.\u001b[39mparams\n",
      "File \u001b[0;32m~/opt/anaconda3/lib/python3.9/site-packages/statsmodels/discrete/discrete_model.py:1983\u001b[0m, in \u001b[0;36mLogit.fit\u001b[0;34m(self, start_params, method, maxiter, full_output, disp, callback, **kwargs)\u001b[0m\n\u001b[1;32m   1980\u001b[0m \u001b[38;5;129m@Appender\u001b[39m(DiscreteModel\u001b[38;5;241m.\u001b[39mfit\u001b[38;5;241m.\u001b[39m\u001b[38;5;18m__doc__\u001b[39m)\n\u001b[1;32m   1981\u001b[0m \u001b[38;5;28;01mdef\u001b[39;00m \u001b[38;5;21mfit\u001b[39m(\u001b[38;5;28mself\u001b[39m, start_params\u001b[38;5;241m=\u001b[39m\u001b[38;5;28;01mNone\u001b[39;00m, method\u001b[38;5;241m=\u001b[39m\u001b[38;5;124m'\u001b[39m\u001b[38;5;124mnewton\u001b[39m\u001b[38;5;124m'\u001b[39m, maxiter\u001b[38;5;241m=\u001b[39m\u001b[38;5;241m35\u001b[39m,\n\u001b[1;32m   1982\u001b[0m         full_output\u001b[38;5;241m=\u001b[39m\u001b[38;5;241m1\u001b[39m, disp\u001b[38;5;241m=\u001b[39m\u001b[38;5;241m1\u001b[39m, callback\u001b[38;5;241m=\u001b[39m\u001b[38;5;28;01mNone\u001b[39;00m, \u001b[38;5;241m*\u001b[39m\u001b[38;5;241m*\u001b[39mkwargs):\n\u001b[0;32m-> 1983\u001b[0m     bnryfit \u001b[38;5;241m=\u001b[39m \u001b[38;5;28;43msuper\u001b[39;49m\u001b[43m(\u001b[49m\u001b[43m)\u001b[49m\u001b[38;5;241;43m.\u001b[39;49m\u001b[43mfit\u001b[49m\u001b[43m(\u001b[49m\u001b[43mstart_params\u001b[49m\u001b[38;5;241;43m=\u001b[39;49m\u001b[43mstart_params\u001b[49m\u001b[43m,\u001b[49m\n\u001b[1;32m   1984\u001b[0m \u001b[43m                          \u001b[49m\u001b[43mmethod\u001b[49m\u001b[38;5;241;43m=\u001b[39;49m\u001b[43mmethod\u001b[49m\u001b[43m,\u001b[49m\n\u001b[1;32m   1985\u001b[0m \u001b[43m                          \u001b[49m\u001b[43mmaxiter\u001b[49m\u001b[38;5;241;43m=\u001b[39;49m\u001b[43mmaxiter\u001b[49m\u001b[43m,\u001b[49m\n\u001b[1;32m   1986\u001b[0m \u001b[43m                          \u001b[49m\u001b[43mfull_output\u001b[49m\u001b[38;5;241;43m=\u001b[39;49m\u001b[43mfull_output\u001b[49m\u001b[43m,\u001b[49m\n\u001b[1;32m   1987\u001b[0m \u001b[43m                          \u001b[49m\u001b[43mdisp\u001b[49m\u001b[38;5;241;43m=\u001b[39;49m\u001b[43mdisp\u001b[49m\u001b[43m,\u001b[49m\n\u001b[1;32m   1988\u001b[0m \u001b[43m                          \u001b[49m\u001b[43mcallback\u001b[49m\u001b[38;5;241;43m=\u001b[39;49m\u001b[43mcallback\u001b[49m\u001b[43m,\u001b[49m\n\u001b[1;32m   1989\u001b[0m \u001b[43m                          \u001b[49m\u001b[38;5;241;43m*\u001b[39;49m\u001b[38;5;241;43m*\u001b[39;49m\u001b[43mkwargs\u001b[49m\u001b[43m)\u001b[49m\n\u001b[1;32m   1991\u001b[0m     discretefit \u001b[38;5;241m=\u001b[39m LogitResults(\u001b[38;5;28mself\u001b[39m, bnryfit)\n\u001b[1;32m   1992\u001b[0m     \u001b[38;5;28;01mreturn\u001b[39;00m BinaryResultsWrapper(discretefit)\n",
      "File \u001b[0;32m~/opt/anaconda3/lib/python3.9/site-packages/statsmodels/discrete/discrete_model.py:230\u001b[0m, in \u001b[0;36mDiscreteModel.fit\u001b[0;34m(self, start_params, method, maxiter, full_output, disp, callback, **kwargs)\u001b[0m\n\u001b[1;32m    227\u001b[0m \u001b[38;5;28;01melse\u001b[39;00m:\n\u001b[1;32m    228\u001b[0m     \u001b[38;5;28;01mpass\u001b[39;00m  \u001b[38;5;66;03m# TODO: make a function factory to have multiple call-backs\u001b[39;00m\n\u001b[0;32m--> 230\u001b[0m mlefit \u001b[38;5;241m=\u001b[39m \u001b[38;5;28;43msuper\u001b[39;49m\u001b[43m(\u001b[49m\u001b[43m)\u001b[49m\u001b[38;5;241;43m.\u001b[39;49m\u001b[43mfit\u001b[49m\u001b[43m(\u001b[49m\u001b[43mstart_params\u001b[49m\u001b[38;5;241;43m=\u001b[39;49m\u001b[43mstart_params\u001b[49m\u001b[43m,\u001b[49m\n\u001b[1;32m    231\u001b[0m \u001b[43m                     \u001b[49m\u001b[43mmethod\u001b[49m\u001b[38;5;241;43m=\u001b[39;49m\u001b[43mmethod\u001b[49m\u001b[43m,\u001b[49m\n\u001b[1;32m    232\u001b[0m \u001b[43m                     \u001b[49m\u001b[43mmaxiter\u001b[49m\u001b[38;5;241;43m=\u001b[39;49m\u001b[43mmaxiter\u001b[49m\u001b[43m,\u001b[49m\n\u001b[1;32m    233\u001b[0m \u001b[43m                     \u001b[49m\u001b[43mfull_output\u001b[49m\u001b[38;5;241;43m=\u001b[39;49m\u001b[43mfull_output\u001b[49m\u001b[43m,\u001b[49m\n\u001b[1;32m    234\u001b[0m \u001b[43m                     \u001b[49m\u001b[43mdisp\u001b[49m\u001b[38;5;241;43m=\u001b[39;49m\u001b[43mdisp\u001b[49m\u001b[43m,\u001b[49m\n\u001b[1;32m    235\u001b[0m \u001b[43m                     \u001b[49m\u001b[43mcallback\u001b[49m\u001b[38;5;241;43m=\u001b[39;49m\u001b[43mcallback\u001b[49m\u001b[43m,\u001b[49m\n\u001b[1;32m    236\u001b[0m \u001b[43m                     \u001b[49m\u001b[38;5;241;43m*\u001b[39;49m\u001b[38;5;241;43m*\u001b[39;49m\u001b[43mkwargs\u001b[49m\u001b[43m)\u001b[49m\n\u001b[1;32m    238\u001b[0m \u001b[38;5;28;01mreturn\u001b[39;00m mlefit\n",
      "File \u001b[0;32m~/opt/anaconda3/lib/python3.9/site-packages/statsmodels/base/model.py:563\u001b[0m, in \u001b[0;36mLikelihoodModel.fit\u001b[0;34m(self, start_params, method, maxiter, full_output, disp, fargs, callback, retall, skip_hessian, **kwargs)\u001b[0m\n\u001b[1;32m    560\u001b[0m     \u001b[38;5;28;01mdel\u001b[39;00m kwargs[\u001b[38;5;124m\"\u001b[39m\u001b[38;5;124muse_t\u001b[39m\u001b[38;5;124m\"\u001b[39m]\n\u001b[1;32m    562\u001b[0m optimizer \u001b[38;5;241m=\u001b[39m Optimizer()\n\u001b[0;32m--> 563\u001b[0m xopt, retvals, optim_settings \u001b[38;5;241m=\u001b[39m \u001b[43moptimizer\u001b[49m\u001b[38;5;241;43m.\u001b[39;49m\u001b[43m_fit\u001b[49m\u001b[43m(\u001b[49m\u001b[43mf\u001b[49m\u001b[43m,\u001b[49m\u001b[43m \u001b[49m\u001b[43mscore\u001b[49m\u001b[43m,\u001b[49m\u001b[43m \u001b[49m\u001b[43mstart_params\u001b[49m\u001b[43m,\u001b[49m\n\u001b[1;32m    564\u001b[0m \u001b[43m                                               \u001b[49m\u001b[43mfargs\u001b[49m\u001b[43m,\u001b[49m\u001b[43m \u001b[49m\u001b[43mkwargs\u001b[49m\u001b[43m,\u001b[49m\n\u001b[1;32m    565\u001b[0m \u001b[43m                                               \u001b[49m\u001b[43mhessian\u001b[49m\u001b[38;5;241;43m=\u001b[39;49m\u001b[43mhess\u001b[49m\u001b[43m,\u001b[49m\n\u001b[1;32m    566\u001b[0m \u001b[43m                                               \u001b[49m\u001b[43mmethod\u001b[49m\u001b[38;5;241;43m=\u001b[39;49m\u001b[43mmethod\u001b[49m\u001b[43m,\u001b[49m\n\u001b[1;32m    567\u001b[0m \u001b[43m                                               \u001b[49m\u001b[43mdisp\u001b[49m\u001b[38;5;241;43m=\u001b[39;49m\u001b[43mdisp\u001b[49m\u001b[43m,\u001b[49m\n\u001b[1;32m    568\u001b[0m \u001b[43m                                               \u001b[49m\u001b[43mmaxiter\u001b[49m\u001b[38;5;241;43m=\u001b[39;49m\u001b[43mmaxiter\u001b[49m\u001b[43m,\u001b[49m\n\u001b[1;32m    569\u001b[0m \u001b[43m                                               \u001b[49m\u001b[43mcallback\u001b[49m\u001b[38;5;241;43m=\u001b[39;49m\u001b[43mcallback\u001b[49m\u001b[43m,\u001b[49m\n\u001b[1;32m    570\u001b[0m \u001b[43m                                               \u001b[49m\u001b[43mretall\u001b[49m\u001b[38;5;241;43m=\u001b[39;49m\u001b[43mretall\u001b[49m\u001b[43m,\u001b[49m\n\u001b[1;32m    571\u001b[0m \u001b[43m                                               \u001b[49m\u001b[43mfull_output\u001b[49m\u001b[38;5;241;43m=\u001b[39;49m\u001b[43mfull_output\u001b[49m\u001b[43m)\u001b[49m\n\u001b[1;32m    572\u001b[0m \u001b[38;5;66;03m# Restore cov_type, cov_kwds and use_t\u001b[39;00m\n\u001b[1;32m    573\u001b[0m optim_settings\u001b[38;5;241m.\u001b[39mupdate(kwds)\n",
      "File \u001b[0;32m~/opt/anaconda3/lib/python3.9/site-packages/statsmodels/base/optimizer.py:241\u001b[0m, in \u001b[0;36mOptimizer._fit\u001b[0;34m(self, objective, gradient, start_params, fargs, kwargs, hessian, method, maxiter, full_output, disp, callback, retall)\u001b[0m\n\u001b[1;32m    238\u001b[0m     fit_funcs\u001b[38;5;241m.\u001b[39mupdate(extra_fit_funcs)\n\u001b[1;32m    240\u001b[0m func \u001b[38;5;241m=\u001b[39m fit_funcs[method]\n\u001b[0;32m--> 241\u001b[0m xopt, retvals \u001b[38;5;241m=\u001b[39m \u001b[43mfunc\u001b[49m\u001b[43m(\u001b[49m\u001b[43mobjective\u001b[49m\u001b[43m,\u001b[49m\u001b[43m \u001b[49m\u001b[43mgradient\u001b[49m\u001b[43m,\u001b[49m\u001b[43m \u001b[49m\u001b[43mstart_params\u001b[49m\u001b[43m,\u001b[49m\u001b[43m \u001b[49m\u001b[43mfargs\u001b[49m\u001b[43m,\u001b[49m\u001b[43m \u001b[49m\u001b[43mkwargs\u001b[49m\u001b[43m,\u001b[49m\n\u001b[1;32m    242\u001b[0m \u001b[43m                     \u001b[49m\u001b[43mdisp\u001b[49m\u001b[38;5;241;43m=\u001b[39;49m\u001b[43mdisp\u001b[49m\u001b[43m,\u001b[49m\u001b[43m \u001b[49m\u001b[43mmaxiter\u001b[49m\u001b[38;5;241;43m=\u001b[39;49m\u001b[43mmaxiter\u001b[49m\u001b[43m,\u001b[49m\u001b[43m \u001b[49m\u001b[43mcallback\u001b[49m\u001b[38;5;241;43m=\u001b[39;49m\u001b[43mcallback\u001b[49m\u001b[43m,\u001b[49m\n\u001b[1;32m    243\u001b[0m \u001b[43m                     \u001b[49m\u001b[43mretall\u001b[49m\u001b[38;5;241;43m=\u001b[39;49m\u001b[43mretall\u001b[49m\u001b[43m,\u001b[49m\u001b[43m \u001b[49m\u001b[43mfull_output\u001b[49m\u001b[38;5;241;43m=\u001b[39;49m\u001b[43mfull_output\u001b[49m\u001b[43m,\u001b[49m\n\u001b[1;32m    244\u001b[0m \u001b[43m                     \u001b[49m\u001b[43mhess\u001b[49m\u001b[38;5;241;43m=\u001b[39;49m\u001b[43mhessian\u001b[49m\u001b[43m)\u001b[49m\n\u001b[1;32m    246\u001b[0m optim_settings \u001b[38;5;241m=\u001b[39m {\u001b[38;5;124m'\u001b[39m\u001b[38;5;124moptimizer\u001b[39m\u001b[38;5;124m'\u001b[39m: method, \u001b[38;5;124m'\u001b[39m\u001b[38;5;124mstart_params\u001b[39m\u001b[38;5;124m'\u001b[39m: start_params,\n\u001b[1;32m    247\u001b[0m                   \u001b[38;5;124m'\u001b[39m\u001b[38;5;124mmaxiter\u001b[39m\u001b[38;5;124m'\u001b[39m: maxiter, \u001b[38;5;124m'\u001b[39m\u001b[38;5;124mfull_output\u001b[39m\u001b[38;5;124m'\u001b[39m: full_output,\n\u001b[1;32m    248\u001b[0m                   \u001b[38;5;124m'\u001b[39m\u001b[38;5;124mdisp\u001b[39m\u001b[38;5;124m'\u001b[39m: disp, \u001b[38;5;124m'\u001b[39m\u001b[38;5;124mfargs\u001b[39m\u001b[38;5;124m'\u001b[39m: fargs, \u001b[38;5;124m'\u001b[39m\u001b[38;5;124mcallback\u001b[39m\u001b[38;5;124m'\u001b[39m: callback,\n\u001b[1;32m    249\u001b[0m                   \u001b[38;5;124m'\u001b[39m\u001b[38;5;124mretall\u001b[39m\u001b[38;5;124m'\u001b[39m: retall, \u001b[38;5;124m\"\u001b[39m\u001b[38;5;124mextra_fit_funcs\u001b[39m\u001b[38;5;124m\"\u001b[39m: extra_fit_funcs}\n\u001b[1;32m    250\u001b[0m optim_settings\u001b[38;5;241m.\u001b[39mupdate(kwargs)\n",
      "File \u001b[0;32m~/opt/anaconda3/lib/python3.9/site-packages/statsmodels/base/optimizer.py:443\u001b[0m, in \u001b[0;36m_fit_newton\u001b[0;34m(f, score, start_params, fargs, kwargs, disp, maxiter, callback, retall, full_output, hess, ridge_factor)\u001b[0m\n\u001b[1;32m    441\u001b[0m         history\u001b[38;5;241m.\u001b[39mappend(newparams)\n\u001b[1;32m    442\u001b[0m     \u001b[38;5;28;01mif\u001b[39;00m callback \u001b[38;5;129;01mis\u001b[39;00m \u001b[38;5;129;01mnot\u001b[39;00m \u001b[38;5;28;01mNone\u001b[39;00m:\n\u001b[0;32m--> 443\u001b[0m         \u001b[43mcallback\u001b[49m\u001b[43m(\u001b[49m\u001b[43mnewparams\u001b[49m\u001b[43m)\u001b[49m\n\u001b[1;32m    444\u001b[0m     iterations \u001b[38;5;241m+\u001b[39m\u001b[38;5;241m=\u001b[39m \u001b[38;5;241m1\u001b[39m\n\u001b[1;32m    445\u001b[0m fval \u001b[38;5;241m=\u001b[39m f(newparams, \u001b[38;5;241m*\u001b[39mfargs)  \u001b[38;5;66;03m# this is the negative likelihood\u001b[39;00m\n",
      "File \u001b[0;32m~/opt/anaconda3/lib/python3.9/site-packages/statsmodels/discrete/discrete_model.py:210\u001b[0m, in \u001b[0;36mDiscreteModel._check_perfect_pred\u001b[0;34m(self, params, *args)\u001b[0m\n\u001b[1;32m    208\u001b[0m \u001b[38;5;28;01mdef\u001b[39;00m \u001b[38;5;21m_check_perfect_pred\u001b[39m(\u001b[38;5;28mself\u001b[39m, params, \u001b[38;5;241m*\u001b[39margs):\n\u001b[1;32m    209\u001b[0m     endog \u001b[38;5;241m=\u001b[39m \u001b[38;5;28mself\u001b[39m\u001b[38;5;241m.\u001b[39mendog\n\u001b[0;32m--> 210\u001b[0m     fittedvalues \u001b[38;5;241m=\u001b[39m \u001b[38;5;28;43mself\u001b[39;49m\u001b[38;5;241;43m.\u001b[39;49m\u001b[43mcdf\u001b[49m\u001b[43m(\u001b[49m\u001b[43mnp\u001b[49m\u001b[38;5;241;43m.\u001b[39;49m\u001b[43mdot\u001b[49m\u001b[43m(\u001b[49m\u001b[38;5;28;43mself\u001b[39;49m\u001b[38;5;241;43m.\u001b[39;49m\u001b[43mexog\u001b[49m\u001b[43m,\u001b[49m\u001b[43m \u001b[49m\u001b[43mparams\u001b[49m\u001b[43m[\u001b[49m\u001b[43m:\u001b[49m\u001b[38;5;28;43mself\u001b[39;49m\u001b[38;5;241;43m.\u001b[39;49m\u001b[43mexog\u001b[49m\u001b[38;5;241;43m.\u001b[39;49m\u001b[43mshape\u001b[49m\u001b[43m[\u001b[49m\u001b[38;5;241;43m1\u001b[39;49m\u001b[43m]\u001b[49m\u001b[43m]\u001b[49m\u001b[43m)\u001b[49m\u001b[43m)\u001b[49m\n\u001b[1;32m    211\u001b[0m     \u001b[38;5;28;01mif\u001b[39;00m (\u001b[38;5;28mself\u001b[39m\u001b[38;5;241m.\u001b[39mraise_on_perfect_prediction \u001b[38;5;129;01mand\u001b[39;00m\n\u001b[1;32m    212\u001b[0m             np\u001b[38;5;241m.\u001b[39mallclose(fittedvalues \u001b[38;5;241m-\u001b[39m endog, \u001b[38;5;241m0\u001b[39m)):\n\u001b[1;32m    213\u001b[0m         msg \u001b[38;5;241m=\u001b[39m \u001b[38;5;124m\"\u001b[39m\u001b[38;5;124mPerfect separation detected, results not available\u001b[39m\u001b[38;5;124m\"\u001b[39m\n",
      "File \u001b[0;32m~/opt/anaconda3/lib/python3.9/site-packages/statsmodels/discrete/discrete_model.py:1819\u001b[0m, in \u001b[0;36mLogit.cdf\u001b[0;34m(self, X)\u001b[0m\n\u001b[1;32m   1798\u001b[0m \u001b[38;5;124;03m\"\"\"\u001b[39;00m\n\u001b[1;32m   1799\u001b[0m \u001b[38;5;124;03mThe logistic cumulative distribution function\u001b[39;00m\n\u001b[1;32m   1800\u001b[0m \n\u001b[0;32m   (...)\u001b[0m\n\u001b[1;32m   1816\u001b[0m \u001b[38;5;124;03m          \\\\frac{e^{x^{\\\\prime}\\\\beta}}{1+e^{x^{\\\\prime}\\\\beta}}\u001b[39;00m\n\u001b[1;32m   1817\u001b[0m \u001b[38;5;124;03m\"\"\"\u001b[39;00m\n\u001b[1;32m   1818\u001b[0m X \u001b[38;5;241m=\u001b[39m np\u001b[38;5;241m.\u001b[39masarray(X)\n\u001b[0;32m-> 1819\u001b[0m \u001b[38;5;28;01mreturn\u001b[39;00m \u001b[38;5;241m1\u001b[39m\u001b[38;5;241m/\u001b[39m(\u001b[38;5;241m1\u001b[39m\u001b[38;5;241m+\u001b[39m\u001b[43mnp\u001b[49m\u001b[38;5;241;43m.\u001b[39;49m\u001b[43mexp\u001b[49m\u001b[43m(\u001b[49m\u001b[38;5;241;43m-\u001b[39;49m\u001b[43mX\u001b[49m\u001b[43m)\u001b[49m)\n",
      "\u001b[0;31mKeyboardInterrupt\u001b[0m: "
     ]
    }
   ],
   "source": [
    "def boot_idx(n):\n",
    "    \"\"\"Return index for bootstrap sample of size n\n",
    "    e.g. generate array in range 0 to n, with replacement\"\"\"\n",
    "    return np.random.randint(low=0, high=n, size=n)\n",
    "\n",
    "def boot(fn, data_df, samples):\n",
    "    \"\"\"Perform bootstrap for B number of samples\"\"\"\n",
    "    results = []\n",
    "    for s in range(samples):\n",
    "        Z = fn(data_df, boot_idx(data_df.shape[0]))\n",
    "        results += [Z]\n",
    "    return np.array(results)\n",
    "\n",
    "def standard_deviation(X):\n",
    "    \"\"\"Compute deviation error for jth element in matrix X\n",
    "    equivalent to np.std(X, axis=0)\"\"\"\n",
    "    X_bar = np.mean(X, axis=0)\n",
    "    SE = np.sqrt((np.sum(np.square(X - X_bar), axis=0)) / (len(X)))\n",
    "    return SE\n",
    "\n",
    "B = 5000\n",
    "coef_preds    = boot(boot_fn,strat_train, samples=B)\n",
    "coef_pred     = np.mean(coef_preds, axis=0)\n",
    "standard_errs = standard_deviation(coef_preds)\n",
    "\n",
    "bootstrap_est = pd.DataFrame({'coef_boot': coef_pred, 'SE_boot': standard_errs})\n",
    "display(bootstrap_est)"
   ]
  }
 ],
 "metadata": {
  "kernelspec": {
   "display_name": "Python 3 (ipykernel)",
   "language": "python",
   "name": "python3"
  },
  "language_info": {
   "codemirror_mode": {
    "name": "ipython",
    "version": 3
   },
   "file_extension": ".py",
   "mimetype": "text/x-python",
   "name": "python",
   "nbconvert_exporter": "python",
   "pygments_lexer": "ipython3",
   "version": "3.9.12"
  }
 },
 "nbformat": 4,
 "nbformat_minor": 5
}
