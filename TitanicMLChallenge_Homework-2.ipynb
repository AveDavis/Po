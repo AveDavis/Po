{
 "cells": [
  {
   "cell_type": "markdown",
   "id": "c3e65d32",
   "metadata": {},
   "source": [
    "# *Titanic Challenge*\n",
    "> The goal of this project is to use Classification algorithms to predict what passengers will survive the sinking of the <a href=\"https://www.kaggle.com/competitions/titanic\" target=\"_blank\"> Titianic</a>.\n",
    "\n",
    "> <a href=\"https://scikit-learn.org/stable/modules/ensemble.html?highlight=gridsearchcv#\" target=\"_blank\"> Sklearn ensemble methods artical</a>.\n"
   ]
  },
  {
   "cell_type": "markdown",
   "id": "b527fc0a",
   "metadata": {},
   "source": [
    "## Prepare work space:"
   ]
  },
  {
   "cell_type": "code",
   "execution_count": 8,
   "id": "1f986a78",
   "metadata": {},
   "outputs": [],
   "source": [
    "# upload the needed libarys \n",
    "import numpy as np \n",
    "import pandas as pd \n",
    "import matplotlib.pyplot as plt \n",
    "import seaborn as sns \n",
    "import warnings\n",
    "import time\n",
    "import scipy \n",
    "\n",
    "from yellowbrick.classifier import ConfusionMatrix\n",
    "from yellowbrick.classifier import ROCAUC"
   ]
  },
  {
   "cell_type": "code",
   "execution_count": 9,
   "id": "877e71b7",
   "metadata": {},
   "outputs": [],
   "source": [
    "warnings.filterwarnings('ignore')"
   ]
  },
  {
   "cell_type": "code",
   "execution_count": 10,
   "id": "3f792482",
   "metadata": {},
   "outputs": [],
   "source": [
    "# upload the data \n",
    "train_data = pd.read_csv('~/Desktop/ADAN7430/data/train.csv')"
   ]
  },
  {
   "cell_type": "code",
   "execution_count": 11,
   "id": "9ec37814",
   "metadata": {},
   "outputs": [],
   "source": [
    "# Load the test data \n",
    "titanic_test_data = pd.read_csv('~/Desktop/ADAN7430/data/test.csv')"
   ]
  },
  {
   "cell_type": "code",
   "execution_count": 12,
   "id": "1b8cceb9",
   "metadata": {
    "scrolled": true
   },
   "outputs": [
    {
     "data": {
      "text/html": [
       "<div>\n",
       "<style scoped>\n",
       "    .dataframe tbody tr th:only-of-type {\n",
       "        vertical-align: middle;\n",
       "    }\n",
       "\n",
       "    .dataframe tbody tr th {\n",
       "        vertical-align: top;\n",
       "    }\n",
       "\n",
       "    .dataframe thead th {\n",
       "        text-align: right;\n",
       "    }\n",
       "</style>\n",
       "<table border=\"1\" class=\"dataframe\">\n",
       "  <thead>\n",
       "    <tr style=\"text-align: right;\">\n",
       "      <th></th>\n",
       "      <th>PassengerId</th>\n",
       "      <th>Survived</th>\n",
       "      <th>Pclass</th>\n",
       "      <th>Name</th>\n",
       "      <th>Sex</th>\n",
       "      <th>Age</th>\n",
       "      <th>SibSp</th>\n",
       "      <th>Parch</th>\n",
       "      <th>Ticket</th>\n",
       "      <th>Fare</th>\n",
       "      <th>Cabin</th>\n",
       "      <th>Embarked</th>\n",
       "    </tr>\n",
       "  </thead>\n",
       "  <tbody>\n",
       "    <tr>\n",
       "      <th>0</th>\n",
       "      <td>1</td>\n",
       "      <td>0</td>\n",
       "      <td>3</td>\n",
       "      <td>Braund, Mr. Owen Harris</td>\n",
       "      <td>male</td>\n",
       "      <td>22.0</td>\n",
       "      <td>1</td>\n",
       "      <td>0</td>\n",
       "      <td>A/5 21171</td>\n",
       "      <td>7.2500</td>\n",
       "      <td>NaN</td>\n",
       "      <td>S</td>\n",
       "    </tr>\n",
       "    <tr>\n",
       "      <th>1</th>\n",
       "      <td>2</td>\n",
       "      <td>1</td>\n",
       "      <td>1</td>\n",
       "      <td>Cumings, Mrs. John Bradley (Florence Briggs Th...</td>\n",
       "      <td>female</td>\n",
       "      <td>38.0</td>\n",
       "      <td>1</td>\n",
       "      <td>0</td>\n",
       "      <td>PC 17599</td>\n",
       "      <td>71.2833</td>\n",
       "      <td>C85</td>\n",
       "      <td>C</td>\n",
       "    </tr>\n",
       "    <tr>\n",
       "      <th>2</th>\n",
       "      <td>3</td>\n",
       "      <td>1</td>\n",
       "      <td>3</td>\n",
       "      <td>Heikkinen, Miss. Laina</td>\n",
       "      <td>female</td>\n",
       "      <td>26.0</td>\n",
       "      <td>0</td>\n",
       "      <td>0</td>\n",
       "      <td>STON/O2. 3101282</td>\n",
       "      <td>7.9250</td>\n",
       "      <td>NaN</td>\n",
       "      <td>S</td>\n",
       "    </tr>\n",
       "    <tr>\n",
       "      <th>3</th>\n",
       "      <td>4</td>\n",
       "      <td>1</td>\n",
       "      <td>1</td>\n",
       "      <td>Futrelle, Mrs. Jacques Heath (Lily May Peel)</td>\n",
       "      <td>female</td>\n",
       "      <td>35.0</td>\n",
       "      <td>1</td>\n",
       "      <td>0</td>\n",
       "      <td>113803</td>\n",
       "      <td>53.1000</td>\n",
       "      <td>C123</td>\n",
       "      <td>S</td>\n",
       "    </tr>\n",
       "    <tr>\n",
       "      <th>4</th>\n",
       "      <td>5</td>\n",
       "      <td>0</td>\n",
       "      <td>3</td>\n",
       "      <td>Allen, Mr. William Henry</td>\n",
       "      <td>male</td>\n",
       "      <td>35.0</td>\n",
       "      <td>0</td>\n",
       "      <td>0</td>\n",
       "      <td>373450</td>\n",
       "      <td>8.0500</td>\n",
       "      <td>NaN</td>\n",
       "      <td>S</td>\n",
       "    </tr>\n",
       "  </tbody>\n",
       "</table>\n",
       "</div>"
      ],
      "text/plain": [
       "   PassengerId  Survived  Pclass  \\\n",
       "0            1         0       3   \n",
       "1            2         1       1   \n",
       "2            3         1       3   \n",
       "3            4         1       1   \n",
       "4            5         0       3   \n",
       "\n",
       "                                                Name     Sex   Age  SibSp  \\\n",
       "0                            Braund, Mr. Owen Harris    male  22.0      1   \n",
       "1  Cumings, Mrs. John Bradley (Florence Briggs Th...  female  38.0      1   \n",
       "2                             Heikkinen, Miss. Laina  female  26.0      0   \n",
       "3       Futrelle, Mrs. Jacques Heath (Lily May Peel)  female  35.0      1   \n",
       "4                           Allen, Mr. William Henry    male  35.0      0   \n",
       "\n",
       "   Parch            Ticket     Fare Cabin Embarked  \n",
       "0      0         A/5 21171   7.2500   NaN        S  \n",
       "1      0          PC 17599  71.2833   C85        C  \n",
       "2      0  STON/O2. 3101282   7.9250   NaN        S  \n",
       "3      0            113803  53.1000  C123        S  \n",
       "4      0            373450   8.0500   NaN        S  "
      ]
     },
     "execution_count": 12,
     "metadata": {},
     "output_type": "execute_result"
    }
   ],
   "source": [
    "# show the data training\n",
    "train_data.head()"
   ]
  },
  {
   "cell_type": "markdown",
   "id": "8ee7e2b3",
   "metadata": {},
   "source": [
    "## Data Prep:"
   ]
  },
  {
   "cell_type": "code",
   "execution_count": 13,
   "id": "c2cb196e",
   "metadata": {},
   "outputs": [
    {
     "name": "stdout",
     "output_type": "stream",
     "text": [
      "True\n"
     ]
    }
   ],
   "source": [
    "# Quick initial check for missing data using a boolean statement \n",
    "# True means there is missing data \n",
    "# False means there is NO missing data \n",
    "print(train_data.isnull().values.any())"
   ]
  },
  {
   "cell_type": "code",
   "execution_count": 14,
   "id": "af0f4f83",
   "metadata": {},
   "outputs": [
    {
     "name": "stdout",
     "output_type": "stream",
     "text": [
      "<class 'pandas.core.frame.DataFrame'>\n",
      "RangeIndex: 891 entries, 0 to 890\n",
      "Data columns (total 12 columns):\n",
      " #   Column       Non-Null Count  Dtype  \n",
      "---  ------       --------------  -----  \n",
      " 0   PassengerId  891 non-null    int64  \n",
      " 1   Survived     891 non-null    int64  \n",
      " 2   Pclass       891 non-null    int64  \n",
      " 3   Name         891 non-null    object \n",
      " 4   Sex          891 non-null    object \n",
      " 5   Age          714 non-null    float64\n",
      " 6   SibSp        891 non-null    int64  \n",
      " 7   Parch        891 non-null    int64  \n",
      " 8   Ticket       891 non-null    object \n",
      " 9   Fare         891 non-null    float64\n",
      " 10  Cabin        204 non-null    object \n",
      " 11  Embarked     889 non-null    object \n",
      "dtypes: float64(2), int64(5), object(5)\n",
      "memory usage: 83.7+ KB\n"
     ]
    }
   ],
   "source": [
    "train_data.info()"
   ]
  },
  {
   "cell_type": "code",
   "execution_count": 15,
   "id": "0d73b305",
   "metadata": {},
   "outputs": [
    {
     "data": {
      "text/html": [
       "<div>\n",
       "<style scoped>\n",
       "    .dataframe tbody tr th:only-of-type {\n",
       "        vertical-align: middle;\n",
       "    }\n",
       "\n",
       "    .dataframe tbody tr th {\n",
       "        vertical-align: top;\n",
       "    }\n",
       "\n",
       "    .dataframe thead th {\n",
       "        text-align: right;\n",
       "    }\n",
       "</style>\n",
       "<table border=\"1\" class=\"dataframe\">\n",
       "  <thead>\n",
       "    <tr style=\"text-align: right;\">\n",
       "      <th></th>\n",
       "      <th>PassengerId</th>\n",
       "      <th>Survived</th>\n",
       "      <th>Pclass</th>\n",
       "      <th>Age</th>\n",
       "      <th>SibSp</th>\n",
       "      <th>Parch</th>\n",
       "      <th>Fare</th>\n",
       "    </tr>\n",
       "  </thead>\n",
       "  <tbody>\n",
       "    <tr>\n",
       "      <th>count</th>\n",
       "      <td>891.000000</td>\n",
       "      <td>891.000000</td>\n",
       "      <td>891.000000</td>\n",
       "      <td>714.000000</td>\n",
       "      <td>891.000000</td>\n",
       "      <td>891.000000</td>\n",
       "      <td>891.000000</td>\n",
       "    </tr>\n",
       "    <tr>\n",
       "      <th>mean</th>\n",
       "      <td>446.000000</td>\n",
       "      <td>0.383838</td>\n",
       "      <td>2.308642</td>\n",
       "      <td>29.699118</td>\n",
       "      <td>0.523008</td>\n",
       "      <td>0.381594</td>\n",
       "      <td>32.204208</td>\n",
       "    </tr>\n",
       "    <tr>\n",
       "      <th>std</th>\n",
       "      <td>257.353842</td>\n",
       "      <td>0.486592</td>\n",
       "      <td>0.836071</td>\n",
       "      <td>14.526497</td>\n",
       "      <td>1.102743</td>\n",
       "      <td>0.806057</td>\n",
       "      <td>49.693429</td>\n",
       "    </tr>\n",
       "    <tr>\n",
       "      <th>min</th>\n",
       "      <td>1.000000</td>\n",
       "      <td>0.000000</td>\n",
       "      <td>1.000000</td>\n",
       "      <td>0.420000</td>\n",
       "      <td>0.000000</td>\n",
       "      <td>0.000000</td>\n",
       "      <td>0.000000</td>\n",
       "    </tr>\n",
       "    <tr>\n",
       "      <th>25%</th>\n",
       "      <td>223.500000</td>\n",
       "      <td>0.000000</td>\n",
       "      <td>2.000000</td>\n",
       "      <td>20.125000</td>\n",
       "      <td>0.000000</td>\n",
       "      <td>0.000000</td>\n",
       "      <td>7.910400</td>\n",
       "    </tr>\n",
       "    <tr>\n",
       "      <th>50%</th>\n",
       "      <td>446.000000</td>\n",
       "      <td>0.000000</td>\n",
       "      <td>3.000000</td>\n",
       "      <td>28.000000</td>\n",
       "      <td>0.000000</td>\n",
       "      <td>0.000000</td>\n",
       "      <td>14.454200</td>\n",
       "    </tr>\n",
       "    <tr>\n",
       "      <th>75%</th>\n",
       "      <td>668.500000</td>\n",
       "      <td>1.000000</td>\n",
       "      <td>3.000000</td>\n",
       "      <td>38.000000</td>\n",
       "      <td>1.000000</td>\n",
       "      <td>0.000000</td>\n",
       "      <td>31.000000</td>\n",
       "    </tr>\n",
       "    <tr>\n",
       "      <th>max</th>\n",
       "      <td>891.000000</td>\n",
       "      <td>1.000000</td>\n",
       "      <td>3.000000</td>\n",
       "      <td>80.000000</td>\n",
       "      <td>8.000000</td>\n",
       "      <td>6.000000</td>\n",
       "      <td>512.329200</td>\n",
       "    </tr>\n",
       "  </tbody>\n",
       "</table>\n",
       "</div>"
      ],
      "text/plain": [
       "       PassengerId    Survived      Pclass         Age       SibSp  \\\n",
       "count   891.000000  891.000000  891.000000  714.000000  891.000000   \n",
       "mean    446.000000    0.383838    2.308642   29.699118    0.523008   \n",
       "std     257.353842    0.486592    0.836071   14.526497    1.102743   \n",
       "min       1.000000    0.000000    1.000000    0.420000    0.000000   \n",
       "25%     223.500000    0.000000    2.000000   20.125000    0.000000   \n",
       "50%     446.000000    0.000000    3.000000   28.000000    0.000000   \n",
       "75%     668.500000    1.000000    3.000000   38.000000    1.000000   \n",
       "max     891.000000    1.000000    3.000000   80.000000    8.000000   \n",
       "\n",
       "            Parch        Fare  \n",
       "count  891.000000  891.000000  \n",
       "mean     0.381594   32.204208  \n",
       "std      0.806057   49.693429  \n",
       "min      0.000000    0.000000  \n",
       "25%      0.000000    7.910400  \n",
       "50%      0.000000   14.454200  \n",
       "75%      0.000000   31.000000  \n",
       "max      6.000000  512.329200  "
      ]
     },
     "execution_count": 15,
     "metadata": {},
     "output_type": "execute_result"
    }
   ],
   "source": [
    "# descriptive statistics \n",
    "train_data.describe()"
   ]
  },
  {
   "cell_type": "markdown",
   "id": "f3df4679",
   "metadata": {},
   "source": [
    "1. The `SratifiedSuffleSplit` function will be used to create training and validation data sets *80/20* with equal preportions of the target variable. \n",
    "2. Then a `Pipeline` will be created that cleans the data automatically. \n",
    "3. Lastly we will scale the data using `StandardScaler`"
   ]
  },
  {
   "cell_type": "code",
   "execution_count": 16,
   "id": "cd64e52b",
   "metadata": {},
   "outputs": [
    {
     "data": {
      "text/html": [
       "<div>\n",
       "<style scoped>\n",
       "    .dataframe tbody tr th:only-of-type {\n",
       "        vertical-align: middle;\n",
       "    }\n",
       "\n",
       "    .dataframe tbody tr th {\n",
       "        vertical-align: top;\n",
       "    }\n",
       "\n",
       "    .dataframe thead th {\n",
       "        text-align: right;\n",
       "    }\n",
       "</style>\n",
       "<table border=\"1\" class=\"dataframe\">\n",
       "  <thead>\n",
       "    <tr style=\"text-align: right;\">\n",
       "      <th></th>\n",
       "      <th>Name</th>\n",
       "      <th>Sex</th>\n",
       "      <th>Ticket</th>\n",
       "      <th>Cabin</th>\n",
       "      <th>Embarked</th>\n",
       "    </tr>\n",
       "  </thead>\n",
       "  <tbody>\n",
       "    <tr>\n",
       "      <th>count</th>\n",
       "      <td>891</td>\n",
       "      <td>891</td>\n",
       "      <td>891</td>\n",
       "      <td>204</td>\n",
       "      <td>889</td>\n",
       "    </tr>\n",
       "    <tr>\n",
       "      <th>unique</th>\n",
       "      <td>891</td>\n",
       "      <td>2</td>\n",
       "      <td>681</td>\n",
       "      <td>147</td>\n",
       "      <td>3</td>\n",
       "    </tr>\n",
       "    <tr>\n",
       "      <th>top</th>\n",
       "      <td>Braund, Mr. Owen Harris</td>\n",
       "      <td>male</td>\n",
       "      <td>347082</td>\n",
       "      <td>B96 B98</td>\n",
       "      <td>S</td>\n",
       "    </tr>\n",
       "    <tr>\n",
       "      <th>freq</th>\n",
       "      <td>1</td>\n",
       "      <td>577</td>\n",
       "      <td>7</td>\n",
       "      <td>4</td>\n",
       "      <td>644</td>\n",
       "    </tr>\n",
       "  </tbody>\n",
       "</table>\n",
       "</div>"
      ],
      "text/plain": [
       "                           Name   Sex  Ticket    Cabin Embarked\n",
       "count                       891   891     891      204      889\n",
       "unique                      891     2     681      147        3\n",
       "top     Braund, Mr. Owen Harris  male  347082  B96 B98        S\n",
       "freq                          1   577       7        4      644"
      ]
     },
     "execution_count": 16,
     "metadata": {},
     "output_type": "execute_result"
    }
   ],
   "source": [
    "train_data.describe(include=['O'])"
   ]
  },
  {
   "cell_type": "code",
   "execution_count": 17,
   "id": "6856a361",
   "metadata": {},
   "outputs": [],
   "source": [
    "# Split up the training data so that we can evaluate the accuracy of the model before making predictions with the\n",
    "# test data. This section splits up the data with equal preportions of Survived, Pclass, and Sex variables. \n",
    "\n",
    "from sklearn.model_selection import StratifiedShuffleSplit\n",
    "\n",
    "split = StratifiedShuffleSplit(n_splits=1, test_size=0.2)\n",
    "for train_indices, test_indices in split.split(train_data,train_data[[\"Survived\", \"Pclass\", \"Sex\"]]):\n",
    "    strat_train = train_data.loc[train_indices] # Training data\n",
    "    strat_val = train_data.loc[test_indices] # Validation data "
   ]
  },
  {
   "cell_type": "code",
   "execution_count": 18,
   "id": "8dc75c3a",
   "metadata": {},
   "outputs": [
    {
     "data": {
      "image/png": "[encoded data removed]",
      "text/plain": [
       "<Figure size 648x432 with 2 Axes>"
      ]
     },
     "metadata": {},
     "output_type": "display_data"
    }
   ],
   "source": [
    "# show that there are even preportions of Survived Pclass and sex in each group\n",
    "# in theory this allows for more realistic training and Validation sets \n",
    "# plot the the eval and training sets for the model \n",
    "\n",
    "plt.figure(figsize=(9,6))\n",
    "sns.set(style=\"darkgrid\")\n",
    "plt.subplot(1,2,1)\n",
    "plt.title('Training Set')\n",
    "strat_train['Survived'].hist()\n",
    "strat_train['Pclass'].hist()\n",
    "\n",
    "plt.subplot(1,2,2)\n",
    "plt.title('Validation set')\n",
    "strat_val['Survived'].hist()\n",
    "strat_val['Pclass'].hist()\n",
    "\n",
    "plt.show()"
   ]
  },
  {
   "cell_type": "code",
   "execution_count": 19,
   "id": "a6009e46",
   "metadata": {},
   "outputs": [
    {
     "name": "stdout",
     "output_type": "stream",
     "text": [
      "<class 'pandas.core.frame.DataFrame'>\n",
      "RangeIndex: 891 entries, 0 to 890\n",
      "Data columns (total 12 columns):\n",
      " #   Column       Non-Null Count  Dtype  \n",
      "---  ------       --------------  -----  \n",
      " 0   PassengerId  891 non-null    int64  \n",
      " 1   Survived     891 non-null    int64  \n",
      " 2   Pclass       891 non-null    int64  \n",
      " 3   Name         891 non-null    object \n",
      " 4   Sex          891 non-null    object \n",
      " 5   Age          714 non-null    float64\n",
      " 6   SibSp        891 non-null    int64  \n",
      " 7   Parch        891 non-null    int64  \n",
      " 8   Ticket       891 non-null    object \n",
      " 9   Fare         891 non-null    float64\n",
      " 10  Cabin        204 non-null    object \n",
      " 11  Embarked     889 non-null    object \n",
      "dtypes: float64(2), int64(5), object(5)\n",
      "memory usage: 83.7+ KB\n"
     ]
    }
   ],
   "source": [
    "# information about the features \n",
    "train_data.info()"
   ]
  },
  {
   "cell_type": "markdown",
   "id": "8ae14e56",
   "metadata": {},
   "source": [
    "### Data Cleaning:\n",
    "This data set has Numerous issues that our model cannot handle so there is some data cleaning that will need to happen before we can train our model. To do this job we will create a <a href=\"https://scikit-learn.org/stable/modules/generated/sklearn.pipeline.Pipeline.html\" target=\"_blank\">Pipeline</a> that will contain our data cleaning functions. This will allow us to clean data sets just by calling `pipeline.fit_transform(Data)`. \n",
    "  \n",
    "The Fist issue that must be resolved is the missing data in 4 of our features `Age` , `Cabin `, `Embarked `and` Fare`. Next we must create dummy varaibles with the `OneHotEncoder` function the `Embarked` and `Sex` variables because the <a href=\"https://scikit-learn.org/stable/modules/generated/sklearn.ensemble.RandomForestClassifier.html\" target=\"_blank\">RandomForrest</a> model that we will use can not handel catagrical variabes. Then the new dummy variable matrix have to be transposed so that the new matrix can fit into our existing data. Then lastly we will have to drop the variables that will not be used in our model. \n",
    "\n",
    "\n",
    "<a href=\"url\" target=\"_blank\">hyperlinked words</a>\n",
    "\n"
   ]
  },
  {
   "cell_type": "markdown",
   "id": "3fa2cb80",
   "metadata": {},
   "source": [
    "Data cleaining Pipeline: \n",
    "\n",
    "1. Create `AgeImputer` object that will use <a href=\"https://scikit-learn.org/stable/modules/generated/sklearn.impute.KNNImputer.html#sklearn.impute.KNNImputer\" target=\"_blank\"> KNNImputer</a> to fill in the missing values."
   ]
  },
  {
   "cell_type": "code",
   "execution_count": 20,
   "id": "30b104bf",
   "metadata": {},
   "outputs": [],
   "source": [
    "from sklearn.base import BaseEstimator, TransformerMixin \n",
    "from sklearn.impute import KNNImputer\n",
    "\n",
    "class AgeImputer(BaseEstimator, TransformerMixin):\n",
    "\n",
    "    def fit(self,X,y =None): \n",
    "        return self\n",
    "    \n",
    "    def transform(self, X):\n",
    "        imputer = KNNImputer(n_neighbors=5) # KNN Imputer \n",
    "        X['Age'] = imputer.fit_transform(X[['Age']])\n",
    "        return X"
   ]
  },
  {
   "cell_type": "markdown",
   "id": "dedcd967",
   "metadata": {},
   "source": [
    "2. Create `FareImputer` object that will use  <a href=\"https://scikit-learn.org/stable/modules/generated/sklearn.impute.KNNImputer.html#sklearn.impute.KNNImputer\" target=\"_blank\"> KNNImputer</a> to fill in the missing values. "
   ]
  },
  {
   "cell_type": "code",
   "execution_count": 21,
   "id": "58ef9c43",
   "metadata": {},
   "outputs": [],
   "source": [
    "# Fare is missing one value in the Test data set\n",
    "class FareImputer(BaseEstimator, TransformerMixin):\n",
    "\n",
    "    def fit(self,X,y =None):\n",
    "        return self\n",
    "    \n",
    "    def transform(self, X):\n",
    "        imputer = KNNImputer(n_neighbors=5) # KNN Imputer \n",
    "        X['Fare'] = imputer.fit_transform(X[['Fare']])\n",
    "        return X"
   ]
  },
  {
   "cell_type": "markdown",
   "id": "64097160",
   "metadata": {},
   "source": [
    "3. Create `FeatureEncoder` object that will  <a href=\"https://scikit-learn.org/stable/modules/generated/sklearn.preprocessing.OneHotEncoder.html\" target=\"_blank\">One-Hot-Encode</a> `Embarked` and `Sex` into dummys. Then transpose the new dummy data to make it fit into the the existing dataframe."
   ]
  },
  {
   "cell_type": "code",
   "execution_count": 22,
   "id": "b449b7ce",
   "metadata": {},
   "outputs": [],
   "source": [
    "from sklearn.preprocessing import OneHotEncoder\n",
    "\n",
    "class FeatureEncoder(BaseEstimator, TransformerMixin):\n",
    "    \n",
    "    def fit(self, X,y =None):\n",
    "        return self\n",
    "    \n",
    "    def transform(self,X):\n",
    "        encoder = OneHotEncoder()\n",
    "        matrix = encoder.fit_transform(X[['Embarked']]).toarray()  # hot encoded Embarked \n",
    "        \n",
    "        column_names = [\"C\",\"S\", \"Q\", \"N\"]  # new dummy columns \n",
    "        \n",
    "        for i in range(len(matrix.T)):   # transpose hot encoded values \n",
    "            X[column_names[i]] = matrix.T[i]\n",
    "            \n",
    "        matrix = encoder.fit_transform(X[['Sex']]).toarray()  # hot encoded sex\n",
    "        \n",
    "        column_names = [\"Female\",\"Male\"]   # new dummy columns \n",
    "        \n",
    "        for i in range(len(matrix.T)):  # transpose hot encoded values\n",
    "            X[column_names[i]] = matrix.T[i]\n",
    "            \n",
    "        return X"
   ]
  },
  {
   "cell_type": "markdown",
   "id": "37dffaa1",
   "metadata": {},
   "source": [
    "4. Create `FeatureDropper` object that will drop the varaibles that will not be usefull in our model. "
   ]
  },
  {
   "cell_type": "code",
   "execution_count": 23,
   "id": "7698605c",
   "metadata": {},
   "outputs": [],
   "source": [
    "# drop the un-needed features \n",
    "\n",
    "class FeatureDropper(BaseEstimator,TransformerMixin):\n",
    "    def fit(self, X, y=None):\n",
    "        return self\n",
    "    def transform(self,X,):\n",
    "        return X.drop([\"Embarked\", \"Name\", \"Ticket\", \"Cabin\", \"Sex\",\"N\", \"Male\", \"PassengerId\"], axis=1, errors= \"ignore\")"
   ]
  },
  {
   "cell_type": "markdown",
   "id": "52aa349b",
   "metadata": {},
   "source": [
    "5. Define the `pipeline` that houses all of the data cleaning objects that where created in steps 1-4"
   ]
  },
  {
   "cell_type": "code",
   "execution_count": 24,
   "id": "f683827e",
   "metadata": {},
   "outputs": [],
   "source": [
    "# create the pipline that preforms the cleaning task \n",
    "from sklearn.pipeline import Pipeline \n",
    "\n",
    "pipeline = Pipeline([(\"ageimputer\",AgeImputer()),\n",
    "                    (\"fareimputer\",FareImputer()),\n",
    "                    (\"featureencoder\", FeatureEncoder()),\n",
    "                    (\"featuredropper\", FeatureDropper())])"
   ]
  },
  {
   "cell_type": "markdown",
   "id": "b227f5d9-3ad2-4f3d-900c-9c08cde5f5d8",
   "metadata": {},
   "source": [
    "<div class=\"alert alert-block alert-success\">\n",
    "<b>Success:</b> The data pipeline has been created and is ready to use on our data.</div>"
   ]
  },
  {
   "cell_type": "code",
   "execution_count": 25,
   "id": "56c5c4f8",
   "metadata": {},
   "outputs": [],
   "source": [
    "# use the pipeline to clean strat_train \n",
    "# Change name to df\n",
    "df = pipeline.fit_transform(strat_train)"
   ]
  },
  {
   "cell_type": "code",
   "execution_count": 26,
   "id": "8723c14a",
   "metadata": {},
   "outputs": [
    {
     "data": {
      "text/html": [
       "<div>\n",
       "<style scoped>\n",
       "    .dataframe tbody tr th:only-of-type {\n",
       "        vertical-align: middle;\n",
       "    }\n",
       "\n",
       "    .dataframe tbody tr th {\n",
       "        vertical-align: top;\n",
       "    }\n",
       "\n",
       "    .dataframe thead th {\n",
       "        text-align: right;\n",
       "    }\n",
       "</style>\n",
       "<table border=\"1\" class=\"dataframe\">\n",
       "  <thead>\n",
       "    <tr style=\"text-align: right;\">\n",
       "      <th></th>\n",
       "      <th>Survived</th>\n",
       "      <th>Pclass</th>\n",
       "      <th>Age</th>\n",
       "      <th>SibSp</th>\n",
       "      <th>Parch</th>\n",
       "      <th>Fare</th>\n",
       "      <th>C</th>\n",
       "      <th>S</th>\n",
       "      <th>Q</th>\n",
       "      <th>Female</th>\n",
       "    </tr>\n",
       "  </thead>\n",
       "  <tbody>\n",
       "    <tr>\n",
       "      <th>699</th>\n",
       "      <td>0</td>\n",
       "      <td>3</td>\n",
       "      <td>42.000000</td>\n",
       "      <td>0</td>\n",
       "      <td>0</td>\n",
       "      <td>7.6500</td>\n",
       "      <td>0.0</td>\n",
       "      <td>0.0</td>\n",
       "      <td>1.0</td>\n",
       "      <td>0.0</td>\n",
       "    </tr>\n",
       "    <tr>\n",
       "      <th>245</th>\n",
       "      <td>0</td>\n",
       "      <td>1</td>\n",
       "      <td>44.000000</td>\n",
       "      <td>2</td>\n",
       "      <td>0</td>\n",
       "      <td>90.0000</td>\n",
       "      <td>0.0</td>\n",
       "      <td>1.0</td>\n",
       "      <td>0.0</td>\n",
       "      <td>0.0</td>\n",
       "    </tr>\n",
       "    <tr>\n",
       "      <th>451</th>\n",
       "      <td>0</td>\n",
       "      <td>3</td>\n",
       "      <td>29.899601</td>\n",
       "      <td>1</td>\n",
       "      <td>0</td>\n",
       "      <td>19.9667</td>\n",
       "      <td>0.0</td>\n",
       "      <td>0.0</td>\n",
       "      <td>1.0</td>\n",
       "      <td>0.0</td>\n",
       "    </tr>\n",
       "    <tr>\n",
       "      <th>321</th>\n",
       "      <td>0</td>\n",
       "      <td>3</td>\n",
       "      <td>27.000000</td>\n",
       "      <td>0</td>\n",
       "      <td>0</td>\n",
       "      <td>7.8958</td>\n",
       "      <td>0.0</td>\n",
       "      <td>0.0</td>\n",
       "      <td>1.0</td>\n",
       "      <td>0.0</td>\n",
       "    </tr>\n",
       "    <tr>\n",
       "      <th>448</th>\n",
       "      <td>1</td>\n",
       "      <td>3</td>\n",
       "      <td>5.000000</td>\n",
       "      <td>2</td>\n",
       "      <td>1</td>\n",
       "      <td>19.2583</td>\n",
       "      <td>1.0</td>\n",
       "      <td>0.0</td>\n",
       "      <td>0.0</td>\n",
       "      <td>1.0</td>\n",
       "    </tr>\n",
       "    <tr>\n",
       "      <th>...</th>\n",
       "      <td>...</td>\n",
       "      <td>...</td>\n",
       "      <td>...</td>\n",
       "      <td>...</td>\n",
       "      <td>...</td>\n",
       "      <td>...</td>\n",
       "      <td>...</td>\n",
       "      <td>...</td>\n",
       "      <td>...</td>\n",
       "      <td>...</td>\n",
       "    </tr>\n",
       "    <tr>\n",
       "      <th>747</th>\n",
       "      <td>1</td>\n",
       "      <td>2</td>\n",
       "      <td>30.000000</td>\n",
       "      <td>0</td>\n",
       "      <td>0</td>\n",
       "      <td>13.0000</td>\n",
       "      <td>0.0</td>\n",
       "      <td>0.0</td>\n",
       "      <td>1.0</td>\n",
       "      <td>1.0</td>\n",
       "    </tr>\n",
       "    <tr>\n",
       "      <th>154</th>\n",
       "      <td>0</td>\n",
       "      <td>3</td>\n",
       "      <td>29.899601</td>\n",
       "      <td>0</td>\n",
       "      <td>0</td>\n",
       "      <td>7.3125</td>\n",
       "      <td>0.0</td>\n",
       "      <td>0.0</td>\n",
       "      <td>1.0</td>\n",
       "      <td>0.0</td>\n",
       "    </tr>\n",
       "    <tr>\n",
       "      <th>740</th>\n",
       "      <td>1</td>\n",
       "      <td>1</td>\n",
       "      <td>29.899601</td>\n",
       "      <td>0</td>\n",
       "      <td>0</td>\n",
       "      <td>30.0000</td>\n",
       "      <td>0.0</td>\n",
       "      <td>0.0</td>\n",
       "      <td>1.0</td>\n",
       "      <td>0.0</td>\n",
       "    </tr>\n",
       "    <tr>\n",
       "      <th>816</th>\n",
       "      <td>0</td>\n",
       "      <td>3</td>\n",
       "      <td>23.000000</td>\n",
       "      <td>0</td>\n",
       "      <td>0</td>\n",
       "      <td>7.9250</td>\n",
       "      <td>0.0</td>\n",
       "      <td>0.0</td>\n",
       "      <td>1.0</td>\n",
       "      <td>1.0</td>\n",
       "    </tr>\n",
       "    <tr>\n",
       "      <th>167</th>\n",
       "      <td>0</td>\n",
       "      <td>3</td>\n",
       "      <td>45.000000</td>\n",
       "      <td>1</td>\n",
       "      <td>4</td>\n",
       "      <td>27.9000</td>\n",
       "      <td>0.0</td>\n",
       "      <td>0.0</td>\n",
       "      <td>1.0</td>\n",
       "      <td>1.0</td>\n",
       "    </tr>\n",
       "  </tbody>\n",
       "</table>\n",
       "<p>712 rows × 10 columns</p>\n",
       "</div>"
      ],
      "text/plain": [
       "     Survived  Pclass        Age  SibSp  Parch     Fare    C    S    Q  Female\n",
       "699         0       3  42.000000      0      0   7.6500  0.0  0.0  1.0     0.0\n",
       "245         0       1  44.000000      2      0  90.0000  0.0  1.0  0.0     0.0\n",
       "451         0       3  29.899601      1      0  19.9667  0.0  0.0  1.0     0.0\n",
       "321         0       3  27.000000      0      0   7.8958  0.0  0.0  1.0     0.0\n",
       "448         1       3   5.000000      2      1  19.2583  1.0  0.0  0.0     1.0\n",
       "..        ...     ...        ...    ...    ...      ...  ...  ...  ...     ...\n",
       "747         1       2  30.000000      0      0  13.0000  0.0  0.0  1.0     1.0\n",
       "154         0       3  29.899601      0      0   7.3125  0.0  0.0  1.0     0.0\n",
       "740         1       1  29.899601      0      0  30.0000  0.0  0.0  1.0     0.0\n",
       "816         0       3  23.000000      0      0   7.9250  0.0  0.0  1.0     1.0\n",
       "167         0       3  45.000000      1      4  27.9000  0.0  0.0  1.0     1.0\n",
       "\n",
       "[712 rows x 10 columns]"
      ]
     },
     "execution_count": 26,
     "metadata": {},
     "output_type": "execute_result"
    }
   ],
   "source": [
    "# Check that the cleaning process worked correctly \n",
    "df"
   ]
  },
  {
   "cell_type": "code",
   "execution_count": 27,
   "id": "155b5f60",
   "metadata": {},
   "outputs": [
    {
     "name": "stdout",
     "output_type": "stream",
     "text": [
      "<class 'pandas.core.frame.DataFrame'>\n",
      "Int64Index: 712 entries, 699 to 167\n",
      "Data columns (total 10 columns):\n",
      " #   Column    Non-Null Count  Dtype  \n",
      "---  ------    --------------  -----  \n",
      " 0   Survived  712 non-null    int64  \n",
      " 1   Pclass    712 non-null    int64  \n",
      " 2   Age       712 non-null    float64\n",
      " 3   SibSp     712 non-null    int64  \n",
      " 4   Parch     712 non-null    int64  \n",
      " 5   Fare      712 non-null    float64\n",
      " 6   C         712 non-null    float64\n",
      " 7   S         712 non-null    float64\n",
      " 8   Q         712 non-null    float64\n",
      " 9   Female    712 non-null    float64\n",
      "dtypes: float64(6), int64(4)\n",
      "memory usage: 61.2 KB\n"
     ]
    }
   ],
   "source": [
    "#double check the cleaing process worked\n",
    "df.info()"
   ]
  },
  {
   "cell_type": "markdown",
   "id": "fb86f29d",
   "metadata": {},
   "source": [
    "## Data Visualization and exploration: "
   ]
  },
  {
   "cell_type": "code",
   "execution_count": 28,
   "id": "157aeaab-6767-4d96-8ae9-0d805172ecfa",
   "metadata": {},
   "outputs": [
    {
     "data": {
      "text/html": [
       "<div>\n",
       "<style scoped>\n",
       "    .dataframe tbody tr th:only-of-type {\n",
       "        vertical-align: middle;\n",
       "    }\n",
       "\n",
       "    .dataframe tbody tr th {\n",
       "        vertical-align: top;\n",
       "    }\n",
       "\n",
       "    .dataframe thead th {\n",
       "        text-align: right;\n",
       "    }\n",
       "</style>\n",
       "<table border=\"1\" class=\"dataframe\">\n",
       "  <thead>\n",
       "    <tr style=\"text-align: right;\">\n",
       "      <th></th>\n",
       "      <th>Survived</th>\n",
       "      <th>Pclass</th>\n",
       "      <th>Age</th>\n",
       "      <th>SibSp</th>\n",
       "      <th>Parch</th>\n",
       "      <th>Fare</th>\n",
       "      <th>C</th>\n",
       "      <th>S</th>\n",
       "      <th>Q</th>\n",
       "      <th>Female</th>\n",
       "    </tr>\n",
       "  </thead>\n",
       "  <tbody>\n",
       "    <tr>\n",
       "      <th>count</th>\n",
       "      <td>712.000000</td>\n",
       "      <td>712.000000</td>\n",
       "      <td>712.000000</td>\n",
       "      <td>712.000000</td>\n",
       "      <td>712.000000</td>\n",
       "      <td>712.000000</td>\n",
       "      <td>712.000000</td>\n",
       "      <td>712.000000</td>\n",
       "      <td>712.000000</td>\n",
       "      <td>712.000000</td>\n",
       "    </tr>\n",
       "    <tr>\n",
       "      <th>mean</th>\n",
       "      <td>0.384831</td>\n",
       "      <td>2.308989</td>\n",
       "      <td>29.899601</td>\n",
       "      <td>0.525281</td>\n",
       "      <td>0.390449</td>\n",
       "      <td>32.685492</td>\n",
       "      <td>0.188202</td>\n",
       "      <td>0.084270</td>\n",
       "      <td>0.726124</td>\n",
       "      <td>0.351124</td>\n",
       "    </tr>\n",
       "    <tr>\n",
       "      <th>std</th>\n",
       "      <td>0.486897</td>\n",
       "      <td>0.835249</td>\n",
       "      <td>13.315651</td>\n",
       "      <td>1.090520</td>\n",
       "      <td>0.816027</td>\n",
       "      <td>51.500012</td>\n",
       "      <td>0.391148</td>\n",
       "      <td>0.277987</td>\n",
       "      <td>0.446260</td>\n",
       "      <td>0.477657</td>\n",
       "    </tr>\n",
       "    <tr>\n",
       "      <th>min</th>\n",
       "      <td>0.000000</td>\n",
       "      <td>1.000000</td>\n",
       "      <td>0.420000</td>\n",
       "      <td>0.000000</td>\n",
       "      <td>0.000000</td>\n",
       "      <td>0.000000</td>\n",
       "      <td>0.000000</td>\n",
       "      <td>0.000000</td>\n",
       "      <td>0.000000</td>\n",
       "      <td>0.000000</td>\n",
       "    </tr>\n",
       "    <tr>\n",
       "      <th>25%</th>\n",
       "      <td>0.000000</td>\n",
       "      <td>2.000000</td>\n",
       "      <td>22.000000</td>\n",
       "      <td>0.000000</td>\n",
       "      <td>0.000000</td>\n",
       "      <td>7.895800</td>\n",
       "      <td>0.000000</td>\n",
       "      <td>0.000000</td>\n",
       "      <td>0.000000</td>\n",
       "      <td>0.000000</td>\n",
       "    </tr>\n",
       "    <tr>\n",
       "      <th>50%</th>\n",
       "      <td>0.000000</td>\n",
       "      <td>3.000000</td>\n",
       "      <td>29.899601</td>\n",
       "      <td>0.000000</td>\n",
       "      <td>0.000000</td>\n",
       "      <td>14.454200</td>\n",
       "      <td>0.000000</td>\n",
       "      <td>0.000000</td>\n",
       "      <td>1.000000</td>\n",
       "      <td>0.000000</td>\n",
       "    </tr>\n",
       "    <tr>\n",
       "      <th>75%</th>\n",
       "      <td>1.000000</td>\n",
       "      <td>3.000000</td>\n",
       "      <td>36.000000</td>\n",
       "      <td>1.000000</td>\n",
       "      <td>0.000000</td>\n",
       "      <td>31.275000</td>\n",
       "      <td>0.000000</td>\n",
       "      <td>0.000000</td>\n",
       "      <td>1.000000</td>\n",
       "      <td>1.000000</td>\n",
       "    </tr>\n",
       "    <tr>\n",
       "      <th>max</th>\n",
       "      <td>1.000000</td>\n",
       "      <td>3.000000</td>\n",
       "      <td>80.000000</td>\n",
       "      <td>8.000000</td>\n",
       "      <td>6.000000</td>\n",
       "      <td>512.329200</td>\n",
       "      <td>1.000000</td>\n",
       "      <td>1.000000</td>\n",
       "      <td>1.000000</td>\n",
       "      <td>1.000000</td>\n",
       "    </tr>\n",
       "  </tbody>\n",
       "</table>\n",
       "</div>"
      ],
      "text/plain": [
       "         Survived      Pclass         Age       SibSp       Parch        Fare  \\\n",
       "count  712.000000  712.000000  712.000000  712.000000  712.000000  712.000000   \n",
       "mean     0.384831    2.308989   29.899601    0.525281    0.390449   32.685492   \n",
       "std      0.486897    0.835249   13.315651    1.090520    0.816027   51.500012   \n",
       "min      0.000000    1.000000    0.420000    0.000000    0.000000    0.000000   \n",
       "25%      0.000000    2.000000   22.000000    0.000000    0.000000    7.895800   \n",
       "50%      0.000000    3.000000   29.899601    0.000000    0.000000   14.454200   \n",
       "75%      1.000000    3.000000   36.000000    1.000000    0.000000   31.275000   \n",
       "max      1.000000    3.000000   80.000000    8.000000    6.000000  512.329200   \n",
       "\n",
       "                C           S           Q      Female  \n",
       "count  712.000000  712.000000  712.000000  712.000000  \n",
       "mean     0.188202    0.084270    0.726124    0.351124  \n",
       "std      0.391148    0.277987    0.446260    0.477657  \n",
       "min      0.000000    0.000000    0.000000    0.000000  \n",
       "25%      0.000000    0.000000    0.000000    0.000000  \n",
       "50%      0.000000    0.000000    1.000000    0.000000  \n",
       "75%      0.000000    0.000000    1.000000    1.000000  \n",
       "max      1.000000    1.000000    1.000000    1.000000  "
      ]
     },
     "execution_count": 28,
     "metadata": {},
     "output_type": "execute_result"
    }
   ],
   "source": [
    "# descriptive statistics \n",
    "df.describe()"
   ]
  },
  {
   "cell_type": "markdown",
   "id": "0b1a65d0-f55b-4cbb-ac86-628090913842",
   "metadata": {},
   "source": [
    "- 35% Of passengers in the data set are Women. \n",
    "- 38% of passengers survived"
   ]
  },
  {
   "cell_type": "code",
   "execution_count": 29,
   "id": "d40de1f5-b480-4a85-9574-c1ca35636688",
   "metadata": {},
   "outputs": [
    {
     "data": {
      "image/png": "[encoded data removed]",
      "text/plain": [
       "<Figure size 1440x720 with 2 Axes>"
      ]
     },
     "metadata": {},
     "output_type": "display_data"
    }
   ],
   "source": [
    "# correaltion heat map\n",
    "CorrelationMatrix = df.corr().round(2) #define correlation matrix \n",
    "plt.figure(figsize= (20, 10)) # (width,hight) \n",
    "plt.title('Correlation Matrix Heat Map')\n",
    "sns.heatmap(data= CorrelationMatrix,annot=True) # \"annot=True\" displays the Coefficients \n",
    "plt.show()"
   ]
  },
  {
   "cell_type": "markdown",
   "id": "03386a87-4e4b-4902-af87-79ca7136accc",
   "metadata": {},
   "source": [
    "<div class=\"alert alert-block alert-info\">\n",
    "<b>Note:</b> Heat map shows correlation with Survived = 1 </div>"
   ]
  },
  {
   "cell_type": "code",
   "execution_count": 30,
   "id": "1994b5a1",
   "metadata": {},
   "outputs": [
    {
     "data": {
      "image/png": "[encoded data removed]",
      "text/plain": [
       "<Figure size 648x432 with 1 Axes>"
      ]
     },
     "metadata": {},
     "output_type": "display_data"
    }
   ],
   "source": [
    "plt.figure(figsize=(9,6))\n",
    "sns.set(style=\"darkgrid\")\n",
    "sns.histplot(binwidth=.25,\n",
    "            x='Survived',\n",
    "            hue='Female',\n",
    "            data=df,\n",
    "            stat=\"count\",\n",
    "            multiple=\"stack\")\n",
    "plt.title('Bar Chart of Survial by sex')\n",
    "plt.show()\n",
    "# more men died than women \n",
    "# \"save the women and children first\" \n",
    "# higher preportion of men died "
   ]
  },
  {
   "cell_type": "code",
   "execution_count": 31,
   "id": "c084a8e3-9ea7-4bd3-ba87-6ba65fd471af",
   "metadata": {},
   "outputs": [
    {
     "name": "stdout",
     "output_type": "stream",
     "text": [
      "0    438\n",
      "1    274\n",
      "Name: Survived, dtype: int64\n",
      "0.0    462\n",
      "1.0    250\n",
      "Name: Female, dtype: int64\n"
     ]
    }
   ],
   "source": [
    "# raw counts of each feature \n",
    "print(df['Survived'].value_counts())\n",
    "print(df['Female'].value_counts())"
   ]
  },
  {
   "cell_type": "markdown",
   "id": "8449f56c-93f4-430b-b4ec-8913e55e39ba",
   "metadata": {},
   "source": [
    "- Many more men dided then women and there also seems to be a highr preportion of men who dided. "
   ]
  },
  {
   "cell_type": "code",
   "execution_count": 32,
   "id": "6367037c",
   "metadata": {},
   "outputs": [
    {
     "data": {
      "image/png": "[encoded data removed]",
      "text/plain": [
       "<Figure size 648x432 with 1 Axes>"
      ]
     },
     "metadata": {},
     "output_type": "display_data"
    }
   ],
   "source": [
    "plt.figure(figsize=(9,6))\n",
    "sns.set(style=\"darkgrid\")\n",
    "sns.histplot(x= \"Fare\",\n",
    "             data=df,\n",
    "              bins=25,\n",
    "              hue=\"Survived\",\n",
    "              kde=True)\n",
    "plt.title('Distribution of Fare')\n",
    "plt.show()\n",
    "\n",
    "#seems like more people who had lower fares dided. \n",
    "# there is a small diffrence tho"
   ]
  },
  {
   "cell_type": "code",
   "execution_count": 33,
   "id": "a0269208",
   "metadata": {},
   "outputs": [
    {
     "data": {
      "image/png": "[encoded data removed]",
      "text/plain": [
       "<Figure size 648x432 with 1 Axes>"
      ]
     },
     "metadata": {},
     "output_type": "display_data"
    }
   ],
   "source": [
    "plt.figure(figsize=(9,6))\n",
    "sns.set(style=\"darkgrid\")\n",
    "sns.histplot(binwidth=.25,\n",
    "            x='Pclass',\n",
    "            hue='Survived',\n",
    "            data=df,\n",
    "            stat=\"count\",\n",
    "            multiple=\"stack\")\n",
    "plt.title('Bar Chart of Pclass')\n",
    "plt.show()\n",
    "# a much higher preportion of 3rd class passengers died \n",
    "# "
   ]
  },
  {
   "cell_type": "code",
   "execution_count": 34,
   "id": "7f21b5f3-6827-4870-85e9-5d31c81a5e48",
   "metadata": {},
   "outputs": [
    {
     "name": "stdout",
     "output_type": "stream",
     "text": [
      "3    392\n",
      "1    172\n",
      "2    148\n",
      "Name: Pclass, dtype: int64\n"
     ]
    },
    {
     "data": {
      "text/html": [
       "<div>\n",
       "<style scoped>\n",
       "    .dataframe tbody tr th:only-of-type {\n",
       "        vertical-align: middle;\n",
       "    }\n",
       "\n",
       "    .dataframe tbody tr th {\n",
       "        vertical-align: top;\n",
       "    }\n",
       "\n",
       "    .dataframe thead th {\n",
       "        text-align: right;\n",
       "    }\n",
       "</style>\n",
       "<table border=\"1\" class=\"dataframe\">\n",
       "  <thead>\n",
       "    <tr style=\"text-align: right;\">\n",
       "      <th></th>\n",
       "      <th>Pclass</th>\n",
       "      <th>Survived</th>\n",
       "    </tr>\n",
       "  </thead>\n",
       "  <tbody>\n",
       "    <tr>\n",
       "      <th>0</th>\n",
       "      <td>1</td>\n",
       "      <td>0.633721</td>\n",
       "    </tr>\n",
       "    <tr>\n",
       "      <th>1</th>\n",
       "      <td>2</td>\n",
       "      <td>0.472973</td>\n",
       "    </tr>\n",
       "    <tr>\n",
       "      <th>2</th>\n",
       "      <td>3</td>\n",
       "      <td>0.242347</td>\n",
       "    </tr>\n",
       "  </tbody>\n",
       "</table>\n",
       "</div>"
      ],
      "text/plain": [
       "   Pclass  Survived\n",
       "0       1  0.633721\n",
       "1       2  0.472973\n",
       "2       3  0.242347"
      ]
     },
     "execution_count": 34,
     "metadata": {},
     "output_type": "execute_result"
    }
   ],
   "source": [
    "#this displays the raw count in each class and below is their survival rate\n",
    "print(df['Pclass'].value_counts())\n",
    "df[['Pclass', 'Survived']].groupby(['Pclass'], as_index=False).mean().sort_values(by='Survived', ascending=False)"
   ]
  },
  {
   "cell_type": "code",
   "execution_count": 35,
   "id": "27516091-db74-4aa4-86be-4fa82d45d129",
   "metadata": {},
   "outputs": [
    {
     "data": {
      "image/png": "[encoded data removed]",
      "text/plain": [
       "<Figure size 648x432 with 1 Axes>"
      ]
     },
     "metadata": {},
     "output_type": "display_data"
    }
   ],
   "source": [
    "plt.figure(figsize=(9,6))\n",
    "sns.set(style=\"darkgrid\")\n",
    "sns.histplot(x= \"Age\",\n",
    "             data=df,\n",
    "              bins=25,\n",
    "              hue=\"Survived\",\n",
    "              kde=True)\n",
    "plt.title('Distribution of Age')\n",
    "plt.show()\n",
    "#there is not much of a difference \n",
    "# very young had a much better chance of Surviving "
   ]
  },
  {
   "cell_type": "code",
   "execution_count": 36,
   "id": "b49427f0-ee72-4fd5-9f0f-83472d5b4647",
   "metadata": {},
   "outputs": [
    {
     "data": {
      "image/png": "[encoded data removed]",
      "text/plain": [
       "<Figure size 648x432 with 1 Axes>"
      ]
     },
     "metadata": {},
     "output_type": "display_data"
    }
   ],
   "source": [
    "plt.figure(figsize=(9,6))\n",
    "sns.set(style=\"darkgrid\")\n",
    "sns.histplot(x= \"Parch\",\n",
    "             data=df,\n",
    "              bins=6,\n",
    "              hue=\"Survived\",\n",
    "              kde=True)\n",
    "plt.title('Distribution of Parch')\n",
    "plt.show()\n",
    "# people "
   ]
  },
  {
   "cell_type": "code",
   "execution_count": 37,
   "id": "389c6d94-f10f-44a8-a571-fde2a5aec135",
   "metadata": {},
   "outputs": [
    {
     "data": {
      "image/png": "[encoded data removed]",
      "text/plain": [
       "<Figure size 648x432 with 1 Axes>"
      ]
     },
     "metadata": {},
     "output_type": "display_data"
    }
   ],
   "source": [
    "plt.figure(figsize=(9,6))\n",
    "sns.set(style=\"darkgrid\")\n",
    "sns.histplot(x= \"SibSp\",\n",
    "             data=df,\n",
    "              bins=8,\n",
    "              hue=\"Survived\",\n",
    "              kde=True)\n",
    "plt.title('Distribution of SibSp')\n",
    "plt.show()\n",
    "# those with no siblings on board had a much higher chance of dying"
   ]
  },
  {
   "cell_type": "code",
   "execution_count": 38,
   "id": "8a6d4b90-bbb0-48b4-990b-3d87d871ab66",
   "metadata": {},
   "outputs": [
    {
     "data": {
      "image/png": "[encoded data removed]",
      "text/plain": [
       "<Figure size 648x432 with 1 Axes>"
      ]
     },
     "metadata": {},
     "output_type": "display_data"
    }
   ],
   "source": [
    "plt.figure(figsize=(9,6))\n",
    "sns.set(style=\"darkgrid\")\n",
    "sns.histplot(x= \"Embarked\",\n",
    "             data=strat_train,\n",
    "              bins=3,\n",
    "              hue=\"Survived\",\n",
    "              kde=False)\n",
    "plt.title('barchart of embarked by survival ')\n",
    "plt.show()"
   ]
  },
  {
   "cell_type": "markdown",
   "id": "80181396",
   "metadata": {},
   "source": [
    "## Train the model: <a href=\"https://scikit-learn.org/stable/modules/generated/sklearn.ensemble.RandomForestClassifier.html#sklearn.ensemble.RandomForestClassifier\" target=\"_blank\">sklearn.ensemble.RandomforestClassifier</a>\n",
    "- Used gridsearch to tune the hyperpramerters  https://scikit-learn.org/stable/modules/grid_search.html \n",
    "\n",
    "- Used out of bag scoring https://scikit-learn.org/stable/auto_examples/ensemble/plot_ensemble_oob.html"
   ]
  },
  {
   "cell_type": "markdown",
   "id": "b53b4d2a-bd40-4e55-92a8-a2d6f6812414",
   "metadata": {},
   "source": [
    "<div class=\"alert alert-block alert-info\">\n",
    "<b>Info:</b> Validation Set Approach</div>"
   ]
  },
  {
   "cell_type": "code",
   "execution_count": 39,
   "id": "3398900a-76a9-4f93-bc0b-c051679df19b",
   "metadata": {},
   "outputs": [
    {
     "name": "stdout",
     "output_type": "stream",
     "text": [
      "Survived\n",
      "Pclass\n",
      "Age\n",
      "SibSp\n",
      "Parch\n",
      "Fare\n",
      "C\n",
      "S\n",
      "Q\n",
      "Female\n"
     ]
    }
   ],
   "source": [
    "# list of feature names \n",
    "for col in df.columns:\n",
    "    print(col)"
   ]
  },
  {
   "cell_type": "code",
   "execution_count": 40,
   "id": "91190c97-da81-4589-8246-905aa1abe49b",
   "metadata": {},
   "outputs": [],
   "source": [
    "# Slice the data \n",
    "X_train = df.iloc[:, 1:10]\n",
    "y_train = df.iloc[:,0]"
   ]
  },
  {
   "cell_type": "code",
   "execution_count": 41,
   "id": "d6492042",
   "metadata": {},
   "outputs": [
    {
     "name": "stdout",
     "output_type": "stream",
     "text": [
      "--- 70.84929490089417 seconds ---\n"
     ]
    }
   ],
   "source": [
    "from sklearn.ensemble import RandomForestClassifier\n",
    "from sklearn.model_selection import GridSearchCV\n",
    "\n",
    "start_time = time.time()\n",
    "\n",
    "#model\n",
    "rfc = RandomForestClassifier()\n",
    "#hyper pramater tuning\n",
    "param_gird = [\n",
    "    {\"n_estimators\":[100,500,1000],\n",
    "     \"max_depth\":[None,5,10], \n",
    "     \"min_samples_split\":[2,3,4],\n",
    "     \"max_features\":['sqrt'],\n",
    "     \"oob_score\":['True'],\n",
    "     \"bootstrap\":['True']\n",
    "    }\n",
    "]\n",
    "\n",
    "grid_search = GridSearchCV(rfc,param_gird, cv=5,scoring=\"accuracy\",return_train_score=True)\n",
    "grid_search.fit(X_train,y_train)\n",
    "print(\"--- %s seconds ---\" % (time.time() - start_time))"
   ]
  },
  {
   "cell_type": "code",
   "execution_count": 42,
   "id": "d01cd487",
   "metadata": {},
   "outputs": [
    {
     "data": {
      "text/plain": [
       "RandomForestClassifier(bootstrap='True', max_depth=10, max_features='sqrt',\n",
       "                       min_samples_split=4, n_estimators=500, oob_score='True')"
      ]
     },
     "execution_count": 42,
     "metadata": {},
     "output_type": "execute_result"
    }
   ],
   "source": [
    "#save the best CV model \n",
    "final_rfc = grid_search.best_estimator_\n",
    "final_rfc"
   ]
  },
  {
   "cell_type": "code",
   "execution_count": 43,
   "id": "5f2a9e8e",
   "metadata": {},
   "outputs": [],
   "source": [
    "# clean the test data \n",
    "test = pipeline.fit_transform(titanic_test_data)"
   ]
  },
  {
   "cell_type": "code",
   "execution_count": 44,
   "id": "43b4b621",
   "metadata": {},
   "outputs": [],
   "source": [
    "X_test = test.iloc[:, 0:9]"
   ]
  },
  {
   "cell_type": "code",
   "execution_count": 45,
   "id": "8520cb1b",
   "metadata": {},
   "outputs": [
    {
     "data": {
      "text/plain": [
       "0.9325842696629213"
      ]
     },
     "execution_count": 45,
     "metadata": {},
     "output_type": "execute_result"
    }
   ],
   "source": [
    "#training Accuracy score \n",
    "final_rfc.score(X_train,y_train)"
   ]
  },
  {
   "cell_type": "code",
   "execution_count": 46,
   "id": "994ea888-ca0a-44fb-be74-b896116a3ccc",
   "metadata": {},
   "outputs": [
    {
     "data": {
      "text/plain": [
       "0.8356741573033708"
      ]
     },
     "execution_count": 46,
     "metadata": {},
     "output_type": "execute_result"
    }
   ],
   "source": [
    "#out of bag score\n",
    "final_rfc.oob_score_"
   ]
  },
  {
   "cell_type": "code",
   "execution_count": 47,
   "id": "656ca659",
   "metadata": {},
   "outputs": [],
   "source": [
    "#make predicitons on validation data \n",
    "pred= final_rfc.predict(X_train)"
   ]
  },
  {
   "cell_type": "code",
   "execution_count": 48,
   "id": "23554490",
   "metadata": {},
   "outputs": [
    {
     "data": {
      "text/plain": [
       "0.9206079392060793"
      ]
     },
     "execution_count": 48,
     "metadata": {},
     "output_type": "execute_result"
    }
   ],
   "source": [
    "# Dont run yet! \n",
    "# Gotta create predict_labels \n",
    "from sklearn.metrics import roc_auc_score\n",
    "roc_auc_score(y_train, pred)"
   ]
  },
  {
   "cell_type": "code",
   "execution_count": 49,
   "id": "92f5344c",
   "metadata": {},
   "outputs": [
    {
     "data": {
      "text/plain": [
       "(426, 12, 36, 238)"
      ]
     },
     "execution_count": 49,
     "metadata": {},
     "output_type": "execute_result"
    }
   ],
   "source": [
    "\n",
    "# confusion matrix Statistics display\n",
    "from sklearn.metrics import confusion_matrix\n",
    "\n",
    "\n",
    "cm = confusion_matrix(y_train, pred)\n",
    "tn, fp, fn, tp = confusion_matrix(y_train, pred).ravel()\n",
    "(tn, fp, fn, tp)"
   ]
  },
  {
   "cell_type": "code",
   "execution_count": 50,
   "id": "20b7e9d5",
   "metadata": {},
   "outputs": [
    {
     "name": "stdout",
     "output_type": "stream",
     "text": [
      "Precision:    0.952\n",
      "Specificity:  0.9726027397260274\n",
      "Sensitivity:  0.8686131386861314\n",
      "Accuracy:     0.9325842696629213\n",
      "Error rate:   0.06741573033707865\n"
     ]
    }
   ],
   "source": [
    "print(\"Precision:   \", tp/(tp+fp))\n",
    "print(\"Specificity: \", tn/(fp+tn))\n",
    "print(\"Sensitivity: \", tp/(tp+fn))\n",
    "print(\"Accuracy:    \", (tp+tn)/(tp+tn+fp+fn))\n",
    "print(\"Error rate:  \", (fp+fn)/(tp+tn+fp+fn))"
   ]
  },
  {
   "cell_type": "code",
   "execution_count": 51,
   "id": "d2d192cf-cf7a-4ad6-98a3-6487aca0df77",
   "metadata": {},
   "outputs": [
    {
     "data": {
      "image/png": "[encoded data removed]",
      "text/plain": [
       "<Figure size 576x396 with 1 Axes>"
      ]
     },
     "metadata": {},
     "output_type": "display_data"
    },
    {
     "data": {
      "text/plain": [
       "<AxesSubplot:title={'center':'ROC Curves for RandomForestClassifier'}, xlabel='False Positive Rate', ylabel='True Positive Rate'>"
      ]
     },
     "execution_count": 51,
     "metadata": {},
     "output_type": "execute_result"
    }
   ],
   "source": [
    "#ROC curve \n",
    "visualizer = ROCAUC(final_rfc)\n",
    "##set_palette('bold')\n",
    "visualizer.fit(X_train,y_train)\n",
    "visualizer.score(X_train,y_train)\n",
    "visualizer.show()"
   ]
  },
  {
   "cell_type": "code",
   "execution_count": 53,
   "id": "67f03535",
   "metadata": {},
   "outputs": [
    {
     "data": {
      "image/png": "[encoded data removed]",
      "text/plain": [
       "<Figure size 576x396 with 1 Axes>"
      ]
     },
     "metadata": {},
     "output_type": "display_data"
    }
   ],
   "source": [
    "# RF provides multiple ways to interpret the model. One way is to see the importance of each feature.\n",
    "Importance = pd.DataFrame({'Importance':final_rfc.feature_importances_*100}, index=X_train.columns)\n",
    "Importance.sort_values(by='Importance', axis=0, ascending=True).plot(kind='barh', color='r', )\n",
    "plt.xlabel('Variable Importance')\n",
    "plt.gca().legend_ = None"
   ]
  },
  {
   "cell_type": "code",
   "execution_count": 54,
   "id": "0acf1c0f",
   "metadata": {},
   "outputs": [],
   "source": [
    "# create test predictions \n",
    "predictions_rfc = final_rfc.predict(X_test)"
   ]
  },
  {
   "cell_type": "code",
   "execution_count": 55,
   "id": "4f4bab09",
   "metadata": {},
   "outputs": [
    {
     "data": {
      "text/plain": [
       "array([0, 0, 0, 0, 1, 0, 0, 0, 1, 0, 0, 0, 1, 0, 1, 1, 0, 0, 0, 1, 1, 0,\n",
       "       1, 1, 1, 0, 1, 0, 0, 0, 0, 0, 1, 0, 1, 0, 0, 0, 0, 1, 0, 1, 0, 1,\n",
       "       1, 0, 0, 0, 1, 1, 0, 0, 1, 1, 0, 0, 0, 0, 0, 1, 0, 0, 0, 1, 1, 1,\n",
       "       1, 0, 0, 1, 1, 0, 0, 1, 1, 0, 0, 1, 0, 1, 1, 0, 0, 0, 0, 0, 1, 0,\n",
       "       0, 1, 0, 0, 1, 0, 1, 0, 1, 0, 0, 0, 1, 0, 0, 0, 1, 0, 0, 0, 0, 0,\n",
       "       0, 0, 1, 1, 1, 0, 0, 1, 1, 1, 1, 0, 1, 0, 0, 1, 0, 1, 0, 0, 0, 0,\n",
       "       0, 0, 0, 0, 0, 0, 0, 0, 0, 1, 0, 0, 0, 0, 0, 0, 1, 0, 1, 0, 0, 1,\n",
       "       0, 0, 1, 0, 0, 1, 0, 1, 1, 0, 0, 0, 0, 0, 1, 0, 0, 0, 0, 0, 0, 1,\n",
       "       1, 1, 1, 1, 0, 1, 1, 0, 1, 0, 1, 0, 0, 0, 0, 0, 1, 0, 1, 0, 1, 1,\n",
       "       0, 0, 1, 1, 0, 1, 0, 0, 0, 0, 1, 0, 0, 0, 0, 1, 0, 0, 1, 0, 1, 0,\n",
       "       1, 0, 1, 0, 1, 0, 0, 0, 0, 0, 0, 1, 0, 0, 1, 0, 1, 0, 1, 1, 1, 1,\n",
       "       0, 0, 0, 0, 1, 0, 1, 0, 1, 0, 0, 0, 0, 0, 0, 0, 1, 0, 0, 0, 1, 1,\n",
       "       0, 0, 0, 0, 0, 0, 0, 0, 1, 1, 0, 1, 0, 0, 0, 0, 0, 1, 0, 0, 1, 0,\n",
       "       0, 0, 0, 0, 0, 0, 0, 0, 0, 0, 1, 0, 0, 0, 0, 0, 0, 0, 0, 1, 1, 1,\n",
       "       0, 0, 0, 0, 0, 0, 1, 1, 0, 0, 0, 0, 0, 0, 0, 1, 1, 0, 1, 0, 0, 0,\n",
       "       1, 0, 0, 1, 0, 0, 0, 0, 0, 0, 0, 0, 0, 1, 0, 1, 0, 1, 0, 1, 1, 0,\n",
       "       0, 0, 1, 0, 1, 0, 0, 1, 0, 1, 1, 0, 1, 0, 0, 0, 1, 0, 0, 1, 0, 0,\n",
       "       1, 1, 0, 0, 0, 0, 0, 0, 0, 0, 0, 1, 0, 0, 0, 0, 0, 1, 0, 0, 0, 1,\n",
       "       0, 1, 0, 0, 1, 0, 1, 0, 0, 0, 0, 0, 0, 1, 0, 1, 0, 0, 1, 0, 0, 1])"
      ]
     },
     "execution_count": 55,
     "metadata": {},
     "output_type": "execute_result"
    }
   ],
   "source": [
    "predictions_rfc"
   ]
  },
  {
   "cell_type": "markdown",
   "id": "87bb07b4",
   "metadata": {},
   "source": [
    "## Notes: \n",
    "- Should create markers for data that has been imputed \n",
    "\n",
    "- This is documentation for the GridSearch scoring metrics  https://scikit-learn.org/stable/modules/model_evaluation.html"
   ]
  },
  {
   "cell_type": "markdown",
   "id": "2168e170",
   "metadata": {},
   "source": [
    "## Model #2: <a href=\"https://scikit-learn.org/stable/modules/generated/sklearn.ensemble.AdaBoostClassifier.html#sklearn.ensemble.AdaBoostClassifier\" target=\"_blank\">sklearn.ensemble.AdaBoostClassifier</a>"
   ]
  },
  {
   "cell_type": "code",
   "execution_count": 56,
   "id": "538d99ad",
   "metadata": {},
   "outputs": [],
   "source": [
    "from sklearn.ensemble import AdaBoostClassifier\n",
    "from sklearn.model_selection import GridSearchCV"
   ]
  },
  {
   "cell_type": "code",
   "execution_count": 57,
   "id": "914d9105-4ef1-4994-b808-c7afc3d37402",
   "metadata": {},
   "outputs": [],
   "source": [
    "# Slice the data \n",
    "X_train = df.iloc[:, 1:10]\n",
    "y_train = df.iloc[:,0]"
   ]
  },
  {
   "cell_type": "code",
   "execution_count": 58,
   "id": "623efe8b",
   "metadata": {},
   "outputs": [
    {
     "name": "stdout",
     "output_type": "stream",
     "text": [
      "--- 9.444004774093628 seconds ---\n"
     ]
    }
   ],
   "source": [
    "start_time = time.time()\n",
    "Ada_clf = AdaBoostClassifier()\n",
    "\n",
    "param_gird = [\n",
    "    {\"n_estimators\":[10,100,200,500], \n",
    "     \"base_estimator\":[None], \n",
    "     \"learning_rate\":[0.1,1,10],\n",
    "     \"algorithm\":['SAMME.R'],\n",
    "     \"random_state\":[0]\n",
    "    }\n",
    "]\n",
    "\n",
    "grid_search = GridSearchCV(Ada_clf,param_gird, cv=5,scoring=\"accuracy\",return_train_score=True)\n",
    "grid_search.fit(X_train,y_train)\n",
    "print(\"--- %s seconds ---\" % (time.time() - start_time))"
   ]
  },
  {
   "cell_type": "code",
   "execution_count": 59,
   "id": "1bc1ada4",
   "metadata": {},
   "outputs": [
    {
     "data": {
      "text/plain": [
       "AdaBoostClassifier(learning_rate=0.1, n_estimators=200, random_state=0)"
      ]
     },
     "execution_count": 59,
     "metadata": {},
     "output_type": "execute_result"
    }
   ],
   "source": [
    "Adaboost_clf = grid_search.best_estimator_\n",
    "Adaboost_clf"
   ]
  },
  {
   "cell_type": "code",
   "execution_count": 60,
   "id": "3416c436",
   "metadata": {},
   "outputs": [
    {
     "data": {
      "text/plain": [
       "0.827247191011236"
      ]
     },
     "execution_count": 60,
     "metadata": {},
     "output_type": "execute_result"
    }
   ],
   "source": [
    "Adaboost_clf.score(X_train,y_train)"
   ]
  },
  {
   "cell_type": "code",
   "execution_count": 61,
   "id": "9b1d96a2",
   "metadata": {},
   "outputs": [
    {
     "data": {
      "text/plain": [
       "0.9206079392060793"
      ]
     },
     "execution_count": 61,
     "metadata": {},
     "output_type": "execute_result"
    }
   ],
   "source": [
    "#make predicitons on validation data \n",
    "pred_clf= Adaboost_clf.predict(X_train)\n",
    "from sklearn.metrics import roc_auc_score\n",
    "roc_auc_score(y_train, pred)"
   ]
  },
  {
   "cell_type": "code",
   "execution_count": 62,
   "id": "7d74f221",
   "metadata": {},
   "outputs": [
    {
     "data": {
      "text/plain": [
       "(381, 57, 66, 208)"
      ]
     },
     "execution_count": 62,
     "metadata": {},
     "output_type": "execute_result"
    }
   ],
   "source": [
    "# confusion matrix Statistics display\n",
    "from sklearn.metrics import confusion_matrix\n",
    "\n",
    "cm = confusion_matrix(y_train, pred_clf)\n",
    "tn, fp, fn, tp = confusion_matrix(y_train, pred_clf).ravel()\n",
    "(tn, fp, fn, tp)"
   ]
  },
  {
   "cell_type": "code",
   "execution_count": 63,
   "id": "f8ca9048-fc7e-4252-a05d-0893660d7f8e",
   "metadata": {},
   "outputs": [
    {
     "name": "stdout",
     "output_type": "stream",
     "text": [
      "Precision:    0.7849056603773585\n",
      "Specificity:  0.8698630136986302\n",
      "Sensitivity:  0.7591240875912408\n",
      "Accuracy:     0.827247191011236\n",
      "Error rate:   0.17275280898876405\n"
     ]
    }
   ],
   "source": [
    "print(\"Precision:   \", tp/(tp+fp))\n",
    "print(\"Specificity: \", tn/(fp+tn))\n",
    "print(\"Sensitivity: \", tp/(tp+fn))\n",
    "print(\"Accuracy:    \", (tp+tn)/(tp+tn+fp+fn))\n",
    "print(\"Error rate:  \", (fp+fn)/(tp+tn+fp+fn))"
   ]
  },
  {
   "cell_type": "code",
   "execution_count": 64,
   "id": "7438b19e-8d3c-4c31-8625-b63e5440156d",
   "metadata": {},
   "outputs": [
    {
     "data": {
      "image/png": "[encoded data removed]",
      "text/plain": [
       "<Figure size 576x396 with 1 Axes>"
      ]
     },
     "metadata": {},
     "output_type": "display_data"
    },
    {
     "data": {
      "text/plain": [
       "<AxesSubplot:title={'center':'ROC Curves for AdaBoostClassifier'}, xlabel='False Positive Rate', ylabel='True Positive Rate'>"
      ]
     },
     "execution_count": 64,
     "metadata": {},
     "output_type": "execute_result"
    }
   ],
   "source": [
    "#ROC curve \n",
    "visualizer = ROCAUC(Adaboost_clf)\n",
    "##set_palette('bold')\n",
    "visualizer.fit(X_train,y_train)\n",
    "visualizer.score(X_train,y_train)\n",
    "visualizer.show()"
   ]
  },
  {
   "cell_type": "code",
   "execution_count": 65,
   "id": "311ba8fa",
   "metadata": {},
   "outputs": [],
   "source": [
    "# create test predictions \n",
    "predictions_clf = Adaboost_clf.predict(X_test)"
   ]
  },
  {
   "cell_type": "code",
   "execution_count": 66,
   "id": "1db3cc79",
   "metadata": {},
   "outputs": [
    {
     "data": {
      "text/plain": [
       "array([0, 1, 0, 0, 1, 0, 1, 0, 1, 0, 0, 0, 1, 0, 1, 1, 0, 0, 1, 0, 0, 0,\n",
       "       1, 1, 1, 0, 1, 0, 0, 0, 0, 0, 1, 1, 1, 0, 1, 1, 0, 0, 0, 0, 0, 1,\n",
       "       1, 0, 0, 0, 1, 1, 1, 0, 1, 1, 0, 0, 0, 0, 0, 1, 0, 0, 0, 1, 0, 1,\n",
       "       1, 0, 0, 1, 1, 0, 1, 0, 1, 0, 0, 1, 0, 1, 0, 0, 0, 0, 0, 0, 1, 1,\n",
       "       1, 1, 1, 0, 1, 0, 0, 0, 1, 0, 1, 0, 1, 0, 0, 0, 1, 0, 0, 0, 0, 0,\n",
       "       0, 1, 1, 1, 1, 0, 0, 1, 1, 1, 1, 0, 1, 0, 0, 1, 0, 1, 0, 0, 0, 0,\n",
       "       0, 0, 0, 0, 0, 0, 1, 0, 0, 1, 0, 0, 0, 0, 0, 0, 0, 0, 1, 0, 0, 1,\n",
       "       0, 0, 1, 1, 0, 1, 1, 0, 1, 0, 0, 1, 0, 0, 1, 1, 0, 0, 0, 0, 0, 1,\n",
       "       1, 0, 1, 1, 0, 1, 1, 0, 1, 0, 1, 0, 0, 0, 0, 0, 0, 0, 1, 0, 1, 1,\n",
       "       0, 1, 1, 1, 0, 1, 0, 0, 1, 0, 1, 0, 0, 0, 0, 1, 0, 0, 1, 0, 1, 0,\n",
       "       1, 0, 1, 0, 1, 1, 0, 1, 0, 0, 0, 1, 0, 0, 1, 0, 0, 0, 1, 1, 1, 1,\n",
       "       1, 0, 0, 0, 1, 0, 1, 1, 1, 0, 1, 0, 0, 0, 0, 0, 1, 0, 0, 0, 1, 1,\n",
       "       0, 0, 0, 0, 1, 0, 0, 0, 1, 1, 0, 1, 0, 0, 0, 0, 1, 1, 1, 1, 1, 0,\n",
       "       0, 1, 0, 0, 0, 0, 0, 0, 0, 0, 1, 0, 0, 0, 0, 0, 0, 0, 1, 0, 0, 1,\n",
       "       0, 1, 0, 0, 0, 1, 1, 1, 0, 0, 0, 0, 0, 0, 0, 0, 1, 0, 1, 0, 0, 0,\n",
       "       1, 0, 0, 1, 0, 0, 0, 0, 0, 0, 0, 0, 0, 1, 0, 1, 0, 1, 0, 1, 1, 0,\n",
       "       0, 0, 1, 0, 1, 0, 0, 1, 0, 1, 1, 0, 1, 1, 0, 1, 1, 0, 0, 1, 0, 0,\n",
       "       1, 1, 1, 0, 0, 0, 0, 0, 1, 1, 0, 1, 0, 0, 0, 0, 1, 1, 0, 0, 0, 1,\n",
       "       0, 1, 0, 0, 1, 0, 1, 0, 0, 0, 0, 0, 1, 1, 1, 1, 1, 0, 1, 0, 0, 0])"
      ]
     },
     "execution_count": 66,
     "metadata": {},
     "output_type": "execute_result"
    }
   ],
   "source": [
    "predictions_clf"
   ]
  },
  {
   "cell_type": "markdown",
   "id": "a08fa58d",
   "metadata": {},
   "source": [
    "## Logistic Regression"
   ]
  },
  {
   "cell_type": "code",
   "execution_count": 67,
   "id": "e92ac61f-8f70-4432-9c01-07071ecbe83c",
   "metadata": {},
   "outputs": [],
   "source": [
    "from sklearn.linear_model import LogisticRegression\n",
    "from sklearn.model_selection import GridSearchCV, RandomizedSearchCV\n",
    "from sklearn.model_selection import cross_val_predict \n",
    "from sklearn.metrics import accuracy_score, roc_auc_score, roc_curve\n",
    "from scipy.stats import loguniform\n"
   ]
  },
  {
   "cell_type": "code",
   "execution_count": 68,
   "id": "531f7c29-bb23-4c1c-8a57-0de4c25d97c8",
   "metadata": {},
   "outputs": [],
   "source": [
    "# Slice the data \n",
    "X_train = df.iloc[:, 1:10]\n",
    "y_train = df.iloc[:,0]"
   ]
  },
  {
   "cell_type": "code",
   "execution_count": 69,
   "id": "30321e7a-d21d-454d-a188-10c5cb1e3e41",
   "metadata": {},
   "outputs": [
    {
     "name": "stdout",
     "output_type": "stream",
     "text": [
      "--- 0.5804800987243652 seconds ---\n"
     ]
    }
   ],
   "source": [
    "\n",
    "#Train the model \n",
    "start_time = time.time()\n",
    "LR = LogisticRegression() # Define the model \n",
    "\n",
    "param_dist = {                                    # Define model paramerters \n",
    "    'C': loguniform(1e-03, 1e3),                    # C = Regularization Strength(.001,1000)\n",
    "    'penalty': ['l1'],                            #('l1' = lasso/'l2' = ridge/'elasticnet' = l1 & l2) \n",
    "  # 'max_iter': list(range(100,800,100)),\n",
    "    'solver': ['saga'] \n",
    "}\n",
    "# random search \n",
    "n_iter_search = 15\n",
    "LR_search = RandomizedSearchCV(LR, param_distributions=param_dist, n_iter=n_iter_search, cv=5, scoring=\"accuracy\" )\n",
    "# fitting the model for random search \n",
    "LR_search.fit(X_train,y_train)\n",
    "# find the best model \n",
    "LR_search.best_params_\n",
    "# summarize\n",
    "\n",
    "print(\"--- %s seconds ---\" % (time.time() - start_time))"
   ]
  },
  {
   "cell_type": "code",
   "execution_count": 70,
   "id": "a5cba482-7e90-4e8c-b670-8f46d4d93e65",
   "metadata": {},
   "outputs": [
    {
     "data": {
      "text/plain": [
       "LogisticRegression(C=631.1513884627908, penalty='l1', solver='saga')"
      ]
     },
     "execution_count": 70,
     "metadata": {},
     "output_type": "execute_result"
    }
   ],
   "source": [
    "# store the model\n",
    "LR = LR_search.best_estimator_\n",
    "LR"
   ]
  },
  {
   "cell_type": "code",
   "execution_count": 72,
   "id": "ab118bf2-4c9c-4aa0-b814-1b3496dc8227",
   "metadata": {},
   "outputs": [
    {
     "data": {
      "text/html": [
       "<div>\n",
       "<style scoped>\n",
       "    .dataframe tbody tr th:only-of-type {\n",
       "        vertical-align: middle;\n",
       "    }\n",
       "\n",
       "    .dataframe tbody tr th {\n",
       "        vertical-align: top;\n",
       "    }\n",
       "\n",
       "    .dataframe thead th {\n",
       "        text-align: right;\n",
       "    }\n",
       "</style>\n",
       "<table border=\"1\" class=\"dataframe\">\n",
       "  <thead>\n",
       "    <tr style=\"text-align: right;\">\n",
       "      <th></th>\n",
       "      <th>0</th>\n",
       "      <th>0</th>\n",
       "    </tr>\n",
       "  </thead>\n",
       "  <tbody>\n",
       "    <tr>\n",
       "      <th>0</th>\n",
       "      <td>Pclass</td>\n",
       "      <td>-0.058356</td>\n",
       "    </tr>\n",
       "    <tr>\n",
       "      <th>1</th>\n",
       "      <td>Age</td>\n",
       "      <td>-0.025455</td>\n",
       "    </tr>\n",
       "    <tr>\n",
       "      <th>2</th>\n",
       "      <td>SibSp</td>\n",
       "      <td>-0.031437</td>\n",
       "    </tr>\n",
       "    <tr>\n",
       "      <th>3</th>\n",
       "      <td>Parch</td>\n",
       "      <td>-0.000441</td>\n",
       "    </tr>\n",
       "    <tr>\n",
       "      <th>4</th>\n",
       "      <td>Fare</td>\n",
       "      <td>0.014298</td>\n",
       "    </tr>\n",
       "    <tr>\n",
       "      <th>5</th>\n",
       "      <td>C</td>\n",
       "      <td>0.009662</td>\n",
       "    </tr>\n",
       "    <tr>\n",
       "      <th>6</th>\n",
       "      <td>S</td>\n",
       "      <td>0.001709</td>\n",
       "    </tr>\n",
       "    <tr>\n",
       "      <th>7</th>\n",
       "      <td>Q</td>\n",
       "      <td>-0.016691</td>\n",
       "    </tr>\n",
       "    <tr>\n",
       "      <th>8</th>\n",
       "      <td>Female</td>\n",
       "      <td>0.058169</td>\n",
       "    </tr>\n",
       "  </tbody>\n",
       "</table>\n",
       "</div>"
      ],
      "text/plain": [
       "        0         0\n",
       "0  Pclass -0.058356\n",
       "1     Age -0.025455\n",
       "2   SibSp -0.031437\n",
       "3   Parch -0.000441\n",
       "4    Fare  0.014298\n",
       "5       C  0.009662\n",
       "6       S  0.001709\n",
       "7       Q -0.016691\n",
       "8  Female  0.058169"
      ]
     },
     "execution_count": 72,
     "metadata": {},
     "output_type": "execute_result"
    }
   ],
   "source": [
    "# store model coefficents \n",
    "coeff=LR.coef_\n",
    "coefficients = pd.concat([pd.DataFrame(X_train.columns),pd.DataFrame(np.transpose(LR.coef_))], axis = 1)\n",
    "coefficients"
   ]
  },
  {
   "cell_type": "code",
   "execution_count": 73,
   "id": "cb1dc28e-e9ae-4afc-98d1-6e53d2614a93",
   "metadata": {},
   "outputs": [
    {
     "data": {
      "text/plain": [
       "0.6839887640449438"
      ]
     },
     "execution_count": 73,
     "metadata": {},
     "output_type": "execute_result"
    }
   ],
   "source": [
    "#cv accuracy score \n",
    "LR.score(X_train,y_train)"
   ]
  },
  {
   "cell_type": "markdown",
   "id": "c42d0d0f",
   "metadata": {},
   "source": [
    "## Decision tree"
   ]
  },
  {
   "cell_type": "code",
   "execution_count": 74,
   "id": "c3d9a526",
   "metadata": {},
   "outputs": [],
   "source": [
    "from sklearn.tree import DecisionTreeClassifier"
   ]
  },
  {
   "cell_type": "code",
   "execution_count": 79,
   "id": "01107609",
   "metadata": {},
   "outputs": [
    {
     "name": "stdout",
     "output_type": "stream",
     "text": [
      "--- 0.04385995864868164 seconds ---\n"
     ]
    }
   ],
   "source": [
    "start_time = time.time()\n",
    "decision_tree = DecisionTreeClassifier()\n",
    "\n",
    "param_gird = [\n",
    "    {\"n_estimators\":[10,100,200,500], \n",
    "     \"base_estimator\":[None], \n",
    "     \"learning_rate\":[0.1,1,10],\n",
    "     \"algorithm\":['SAMME.R'],\n",
    "     \"random_state\":[0]\n",
    "    }\n",
    "]\n",
    "\n",
    "grid_search = GridSearchCV(decision_tree,param_gird, cv=5,scoring=\"accuracy\",return_train_score=True)\n",
    "grid_search.fit(X_train,y_train)\n",
    "print(\"--- %s seconds ---\" % (time.time() - start_time))"
   ]
  },
  {
   "cell_type": "code",
   "execution_count": 80,
   "id": "feee57c1",
   "metadata": {},
   "outputs": [
    {
     "data": {
      "text/plain": [
       "DecisionTreeClassifier()"
      ]
     },
     "execution_count": 80,
     "metadata": {},
     "output_type": "execute_result"
    }
   ],
   "source": [
    "decision_tree = grid_search.best_estimator_\n",
    "decision_tree"
   ]
  },
  {
   "cell_type": "code",
   "execution_count": 81,
   "id": "ac3359c1",
   "metadata": {},
   "outputs": [
    {
     "data": {
      "text/plain": [
       "0.9859550561797753"
      ]
     },
     "execution_count": 81,
     "metadata": {},
     "output_type": "execute_result"
    }
   ],
   "source": [
    "decision_tree.score(X_train,y_train)"
   ]
  },
  {
   "cell_type": "code",
   "execution_count": 76,
   "id": "48f97ae4",
   "metadata": {},
   "outputs": [
    {
     "data": {
      "text/plain": [
       "dict_keys(['ccp_alpha', 'class_weight', 'criterion', 'max_depth', 'max_features', 'max_leaf_nodes', 'min_impurity_decrease', 'min_samples_leaf', 'min_samples_split', 'min_weight_fraction_leaf', 'random_state', 'splitter'])"
      ]
     },
     "execution_count": 76,
     "metadata": {},
     "output_type": "execute_result"
    }
   ],
   "source": [
    "decision_tree.get_params().keys()"
   ]
  },
  {
   "cell_type": "code",
   "execution_count": 75,
   "id": "0dc1d16f",
   "metadata": {},
   "outputs": [
    {
     "data": {
      "text/plain": [
       "98.6"
      ]
     },
     "execution_count": 75,
     "metadata": {},
     "output_type": "execute_result"
    }
   ],
   "source": [
    "# Decision Tree\n",
    "\n",
    "decision_tree = DecisionTreeClassifier()\n",
    "decision_tree.fit(X_train, y_train)\n",
    "Y_pred = decision_tree.predict(X_test)\n",
    "acc_decision_tree = round(decision_tree.score(X_train, y_train) * 100, 2)\n",
    "acc_decision_tree"
   ]
  },
  {
   "cell_type": "code",
   "execution_count": 77,
   "id": "ada55763",
   "metadata": {},
   "outputs": [
    {
     "data": {
      "text/plain": [
       "array([0, 1, 1, 1, 1, 0, 0, 1, 1, 0, 0, 0, 1, 0, 1, 1, 0, 0, 1, 0, 1, 1,\n",
       "       1, 1, 1, 0, 1, 0, 0, 0, 0, 0, 1, 1, 1, 0, 0, 1, 0, 1, 0, 0, 0, 1,\n",
       "       1, 0, 0, 0, 1, 0, 0, 0, 1, 1, 1, 0, 0, 0, 0, 1, 0, 1, 0, 1, 1, 1,\n",
       "       1, 0, 0, 1, 1, 0, 0, 0, 1, 0, 0, 1, 0, 1, 1, 1, 0, 0, 0, 0, 1, 1,\n",
       "       0, 1, 1, 0, 1, 0, 1, 0, 1, 0, 1, 0, 1, 0, 0, 0, 1, 0, 0, 0, 0, 0,\n",
       "       0, 0, 1, 1, 1, 0, 0, 1, 0, 1, 1, 0, 1, 1, 0, 1, 0, 0, 0, 0, 1, 0,\n",
       "       0, 0, 0, 0, 0, 0, 0, 0, 0, 0, 0, 0, 0, 0, 0, 0, 0, 0, 1, 0, 0, 0,\n",
       "       0, 0, 1, 0, 0, 0, 0, 1, 1, 0, 0, 0, 0, 0, 1, 1, 0, 0, 0, 0, 0, 1,\n",
       "       1, 1, 1, 1, 0, 1, 1, 0, 1, 0, 1, 0, 0, 0, 0, 0, 1, 0, 1, 0, 1, 0,\n",
       "       0, 0, 0, 1, 0, 1, 0, 1, 0, 0, 1, 0, 0, 0, 0, 0, 0, 0, 0, 0, 1, 0,\n",
       "       1, 0, 1, 1, 1, 0, 0, 0, 0, 0, 0, 1, 0, 0, 1, 0, 1, 0, 1, 1, 1, 1,\n",
       "       0, 0, 0, 1, 1, 0, 1, 0, 1, 0, 1, 0, 1, 0, 0, 0, 1, 0, 0, 0, 1, 1,\n",
       "       0, 0, 0, 0, 0, 0, 0, 0, 1, 0, 0, 1, 0, 0, 0, 0, 0, 1, 0, 0, 0, 0,\n",
       "       0, 0, 0, 0, 0, 0, 0, 0, 0, 0, 1, 0, 0, 0, 0, 0, 0, 0, 0, 1, 0, 1,\n",
       "       0, 0, 0, 0, 0, 0, 1, 1, 0, 0, 0, 0, 0, 0, 0, 1, 1, 0, 1, 0, 0, 0,\n",
       "       1, 0, 0, 1, 0, 0, 1, 0, 1, 0, 0, 0, 1, 1, 0, 0, 0, 0, 0, 1, 1, 0,\n",
       "       0, 0, 0, 0, 1, 0, 0, 1, 0, 1, 1, 1, 1, 0, 0, 0, 1, 1, 0, 1, 0, 0,\n",
       "       1, 1, 1, 0, 0, 0, 0, 0, 1, 1, 0, 1, 0, 0, 0, 0, 0, 1, 1, 0, 0, 1,\n",
       "       1, 1, 0, 0, 1, 0, 1, 0, 1, 0, 0, 0, 0, 1, 0, 1, 0, 0, 1, 0, 0, 1])"
      ]
     },
     "execution_count": 77,
     "metadata": {},
     "output_type": "execute_result"
    }
   ],
   "source": [
    "Y_pred"
   ]
  },
  {
   "cell_type": "code",
   "execution_count": null,
   "id": "00502222",
   "metadata": {},
   "outputs": [],
   "source": []
  }
 ],
 "metadata": {
  "kernelspec": {
   "display_name": "Python 3 (ipykernel)",
   "language": "python",
   "name": "python3"
  },
  "language_info": {
   "codemirror_mode": {
    "name": "ipython",
    "version": 3
   },
   "file_extension": ".py",
   "mimetype": "text/x-python",
   "name": "python",
   "nbconvert_exporter": "python",
   "pygments_lexer": "ipython3",
   "version": "3.9.12"
  }
 },
 "nbformat": 4,
 "nbformat_minor": 5
}
